{
 "cells": [
  {
   "cell_type": "code",
   "execution_count": 1,
   "metadata": {
    "collapsed": true
   },
   "outputs": [],
   "source": [
    "import python_utils.python_utils.caching as caching\n",
    "import ml_stuff_run.ml_stuff_run.constants as constants\n",
    "caching.init(constants.cache_folder, constants.which_hash)\n",
    "%load_ext autoreload\n",
    "%autoreload 2"
   ]
  },
  {
   "cell_type": "code",
   "execution_count": 2,
   "metadata": {
    "collapsed": false
   },
   "outputs": [
    {
     "name": "stderr",
     "output_type": "stream",
     "text": [
      "/Users/fultonw/Library/Enthought/Canopy_64bit/User/lib/python2.7/site-packages/rpy2/robjects/functions.py:106: UserWarning: Loading required package: mvtnorm\n",
      "\n",
      "  res = super(Function, self).__call__(*new_args, **new_kwargs)\n",
      "/Users/fultonw/Library/Enthought/Canopy_64bit/User/lib/python2.7/site-packages/rpy2/robjects/functions.py:106: UserWarning: Loading required package: Matrix\n",
      "\n",
      "  res = super(Function, self).__call__(*new_args, **new_kwargs)\n",
      "/Users/fultonw/Library/Enthought/Canopy_64bit/User/lib/python2.7/site-packages/rpy2/robjects/functions.py:106: UserWarning: Loading required package: stats4\n",
      "\n",
      "  res = super(Function, self).__call__(*new_args, **new_kwargs)\n",
      "/Users/fultonw/Library/Enthought/Canopy_64bit/User/lib/python2.7/site-packages/rpy2/robjects/functions.py:106: UserWarning: Loading required package: gmm\n",
      "\n",
      "  res = super(Function, self).__call__(*new_args, **new_kwargs)\n",
      "/Users/fultonw/Library/Enthought/Canopy_64bit/User/lib/python2.7/site-packages/rpy2/robjects/functions.py:106: UserWarning: Loading required package: sandwich\n",
      "\n",
      "  res = super(Function, self).__call__(*new_args, **new_kwargs)\n"
     ]
    }
   ],
   "source": [
    "from IPython.display import display_pretty, display_html\n",
    "import python_utils.python_utils.basic as basic\n",
    "import matplotlib.pyplot as plt\n",
    "import pandas as pd\n",
    "import matplotlib.colors as mpl_colors\n",
    "import matplotlib.cm as cm\n",
    "import pdb\n",
    "import numpy as np\n",
    "import scipy\n",
    "import ml_stuff.ml_stuff.hier_variational_regr as hvr\n",
    "#import causal_frl.causal_frl.hier_treatment_variational_regr as hvr"
   ]
  },
  {
   "cell_type": "code",
   "execution_count": 18,
   "metadata": {
    "collapsed": false,
    "scrolled": false
   },
   "outputs": [
    {
     "name": "stdout",
     "output_type": "stream",
     "text": [
      "mu_delta [10]\n",
      "cmd mtmvnorm(mean=c(10), sigma=matrix(c(1.0),ncol=1,nrow=1), lower=c(0.0))\n",
      "E_delta [ 10.]\n",
      "[ 10.]\n",
      "mu_delta [10]\n",
      "cmd mtmvnorm(mean=c(10), sigma=matrix(c(1.0),ncol=1,nrow=1), lower=c(0.0))\n",
      "E_delta [ 10.]\n",
      "mu_delta [9]\n",
      "cmd mtmvnorm(mean=c(9), sigma=matrix(c(1.0),ncol=1,nrow=1), lower=c(0.0))\n",
      "E_delta [ 9.]\n",
      "[ 9.]\n",
      "mu_delta [9]\n",
      "cmd mtmvnorm(mean=c(9), sigma=matrix(c(1.0),ncol=1,nrow=1), lower=c(0.0))\n",
      "E_delta [ 9.]\n",
      "mu_delta [8]\n",
      "cmd mtmvnorm(mean=c(8), sigma=matrix(c(1.0),ncol=1,nrow=1), lower=c(0.0))\n",
      "E_delta [ 8.]\n",
      "[ 8.]\n",
      "mu_delta [8]\n",
      "cmd mtmvnorm(mean=c(8), sigma=matrix(c(1.0),ncol=1,nrow=1), lower=c(0.0))\n",
      "E_delta [ 8.]\n",
      "mu_delta [7]\n",
      "cmd mtmvnorm(mean=c(7), sigma=matrix(c(1.0),ncol=1,nrow=1), lower=c(0.0))\n",
      "E_delta [ 7.]\n",
      "[ 7.]\n",
      "mu_delta [7]\n",
      "cmd mtmvnorm(mean=c(7), sigma=matrix(c(1.0),ncol=1,nrow=1), lower=c(0.0))\n",
      "E_delta [ 7.]\n",
      "mu_delta [6]\n",
      "cmd mtmvnorm(mean=c(6), sigma=matrix(c(1.0),ncol=1,nrow=1), lower=c(0.0))\n",
      "E_delta [ 6.00000001]\n",
      "[ 6.00000001]\n",
      "mu_delta [6]\n",
      "cmd mtmvnorm(mean=c(6), sigma=matrix(c(1.0),ncol=1,nrow=1), lower=c(0.0))\n",
      "E_delta [ 6.00000001]\n",
      "mu_delta [5]\n",
      "cmd mtmvnorm(mean=c(5), sigma=matrix(c(1.0),ncol=1,nrow=1), lower=c(0.0))\n",
      "E_delta [ 5.00000149]\n",
      "[ 5.00000149]\n",
      "mu_delta [5]\n",
      "cmd mtmvnorm(mean=c(5), sigma=matrix(c(1.0),ncol=1,nrow=1), lower=c(0.0))\n",
      "E_delta [ 5.00000149]\n",
      "mu_delta [4]\n",
      "cmd mtmvnorm(mean=c(4), sigma=matrix(c(1.0),ncol=1,nrow=1), lower=c(0.0))\n",
      "E_delta [ 4.00013383]\n",
      "[ 4.00013383]\n",
      "mu_delta [4]\n",
      "cmd mtmvnorm(mean=c(4), sigma=matrix(c(1.0),ncol=1,nrow=1), lower=c(0.0))\n",
      "E_delta [ 4.00013383]\n",
      "mu_delta [3]\n",
      "cmd mtmvnorm(mean=c(3), sigma=matrix(c(1.0),ncol=1,nrow=1), lower=c(0.0))\n",
      "E_delta [ 3.00443784]\n",
      "[ 3.00443784]\n",
      "mu_delta [3]\n",
      "cmd mtmvnorm(mean=c(3), sigma=matrix(c(1.0),ncol=1,nrow=1), lower=c(0.0))\n",
      "E_delta [ 3.00443784]\n",
      "mu_delta [2]\n",
      "cmd mtmvnorm(mean=c(2), sigma=matrix(c(1.0),ncol=1,nrow=1), lower=c(0.0))\n",
      "E_delta [ 2.05524786]\n",
      "[ 2.05524786]\n",
      "mu_delta [2]\n",
      "cmd mtmvnorm(mean=c(2), sigma=matrix(c(1.0),ncol=1,nrow=1), lower=c(0.0))\n",
      "E_delta [ 2.05524786]\n",
      "mu_delta [1]\n",
      "cmd mtmvnorm(mean=c(1), sigma=matrix(c(1.0),ncol=1,nrow=1), lower=c(0.0))\n",
      "E_delta [ 1.28759997]\n",
      "[ 1.28759997]\n",
      "mu_delta [1]\n",
      "cmd mtmvnorm(mean=c(1), sigma=matrix(c(1.0),ncol=1,nrow=1), lower=c(0.0))\n",
      "E_delta [ 1.28759997]\n",
      "mu_delta [0]\n",
      "cmd mtmvnorm(mean=c(0), sigma=matrix(c(1.0),ncol=1,nrow=1), lower=c(0.0))\n",
      "E_delta [ 0.79788456]\n",
      "[ 0.79788456]\n",
      "mu_delta [0]\n",
      "cmd mtmvnorm(mean=c(0), sigma=matrix(c(1.0),ncol=1,nrow=1), lower=c(0.0))\n",
      "E_delta [ 0.79788456]\n",
      "mu_delta [-1]\n",
      "cmd mtmvnorm(mean=c(-1), sigma=matrix(c(1.0),ncol=1,nrow=1), lower=c(0.0))\n",
      "E_delta [ 0.52513528]\n",
      "[ 0.52513528]\n",
      "mu_delta [-1]\n",
      "cmd mtmvnorm(mean=c(-1), sigma=matrix(c(1.0),ncol=1,nrow=1), lower=c(0.0))\n",
      "E_delta [ 0.52513528]\n",
      "mu_delta [-2]\n",
      "cmd mtmvnorm(mean=c(-2), sigma=matrix(c(1.0),ncol=1,nrow=1), lower=c(0.0))\n",
      "E_delta [ 0.37321553]\n",
      "[ 0.37321553]\n",
      "mu_delta [-2]\n",
      "cmd mtmvnorm(mean=c(-2), sigma=matrix(c(1.0),ncol=1,nrow=1), lower=c(0.0))\n",
      "E_delta [ 0.37321553]\n",
      "mu_delta [-3]\n",
      "cmd mtmvnorm(mean=c(-3), sigma=matrix(c(1.0),ncol=1,nrow=1), lower=c(0.0))\n",
      "E_delta [ 0.28309865]\n",
      "[ 0.28309865]\n",
      "mu_delta [-3]\n",
      "cmd mtmvnorm(mean=c(-3), sigma=matrix(c(1.0),ncol=1,nrow=1), lower=c(0.0))\n",
      "E_delta [ 0.28309865]\n",
      "mu_delta [-4]\n",
      "cmd mtmvnorm(mean=c(-4), sigma=matrix(c(1.0),ncol=1,nrow=1), lower=c(0.0))\n",
      "E_delta [ 0.22560714]\n",
      "[ 0.22560714]\n",
      "mu_delta [-4]\n",
      "cmd mtmvnorm(mean=c(-4), sigma=matrix(c(1.0),ncol=1,nrow=1), lower=c(0.0))\n",
      "E_delta [ 0.22560714]\n",
      "mu_delta [-5]\n",
      "cmd mtmvnorm(mean=c(-5), sigma=matrix(c(1.0),ncol=1,nrow=1), lower=c(0.0))\n",
      "E_delta [ 0.18650397]\n",
      "[ 0.18650397]\n",
      "mu_delta [-5]\n",
      "cmd mtmvnorm(mean=c(-5), sigma=matrix(c(1.0),ncol=1,nrow=1), lower=c(0.0))\n",
      "E_delta [ 0.18650397]\n",
      "mu_delta [-6]\n",
      "cmd mtmvnorm(mean=c(-6), sigma=matrix(c(1.0),ncol=1,nrow=1), lower=c(0.0))\n",
      "E_delta [ 0.15848226]\n",
      "[ 0.15848226]\n",
      "mu_delta [-6]\n",
      "cmd mtmvnorm(mean=c(-6), sigma=matrix(c(1.0),ncol=1,nrow=1), lower=c(0.0))\n",
      "E_delta [ 0.15848226]\n",
      "mu_delta [-7]\n",
      "cmd mtmvnorm(mean=c(-7), sigma=matrix(c(1.0),ncol=1,nrow=1), lower=c(0.0))\n",
      "E_delta [ 0.1372525]\n",
      "[ 0.1372525]\n",
      "mu_delta [-7]\n",
      "cmd mtmvnorm(mean=c(-7), sigma=matrix(c(1.0),ncol=1,nrow=1), lower=c(0.0))\n",
      "E_delta [ 0.1372525]\n"
     ]
    },
    {
     "data": {
      "image/png": "[encoded data removed]",
      "text/plain": [
       "<IPython.core.display.Image object>"
      ]
     },
     "metadata": {},
     "output_type": "display_data"
    },
    {
     "data": {
      "text/plain": [
       "<matplotlib.figure.Figure at 0x10ef655d0>"
      ]
     },
     "execution_count": 18,
     "metadata": {},
     "output_type": "execute_result"
    }
   ],
   "source": [
    "mus = np.arange(10,-8,-1)\n",
    "fig,ax = plt.subplots()\n",
    "for mu in mus:\n",
    "    print hvr.E_delta_f(np.array([mu]),np.array([[1]]))\n",
    "    ax.scatter([mu],[hvr.E_delta_f(np.array([mu]),np.array([[1]]))[0]])\n",
    "ax.set_xlabel('$\\mu$')\n",
    "basic.display_fig_inline(fig)"
   ]
  },
  {
   "cell_type": "code",
   "execution_count": 12,
   "metadata": {
    "collapsed": false
   },
   "outputs": [
    {
     "data": {
      "text/plain": [
       "array([0])"
      ]
     },
     "execution_count": 12,
     "metadata": {},
     "output_type": "execute_result"
    }
   ],
   "source": [
    "np.arange(0,10,10)"
   ]
  }
 ],
 "metadata": {
  "kernelspec": {
   "display_name": "Python 2",
   "language": "python",
   "name": "python2"
  },
  "language_info": {
   "codemirror_mode": {
    "name": "ipython",
    "version": 2
   },
   "file_extension": ".py",
   "mimetype": "text/x-python",
   "name": "python",
   "nbconvert_exporter": "python",
   "pygments_lexer": "ipython2",
   "version": "2.7.6"
  }
 },
 "nbformat": 4,
 "nbformat_minor": 0
}
