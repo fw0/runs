{
 "cells": [
  {
   "cell_type": "code",
   "execution_count": 1,
   "metadata": {
    "collapsed": false
   },
   "outputs": [],
   "source": [
    "import python_utils.python_utils.caching as caching\n",
    "import ml_stuff_run.ml_stuff_run.constants as constants\n",
    "caching.init(constants.cache_folder, constants.which_hash)\n",
    "%load_ext autoreload\n",
    "%autoreload 2"
   ]
  },
  {
   "cell_type": "code",
   "execution_count": 2,
   "metadata": {
    "collapsed": false
   },
   "outputs": [
    {
     "name": "stderr",
     "output_type": "stream",
     "text": [
      "/Users/fultonw/Library/Enthought/Canopy_64bit/User/lib/python2.7/site-packages/rpy2/robjects/functions.py:106: UserWarning: Loading required package: mvtnorm\n",
      "\n",
      "  res = super(Function, self).__call__(*new_args, **new_kwargs)\n",
      "/Users/fultonw/Library/Enthought/Canopy_64bit/User/lib/python2.7/site-packages/rpy2/robjects/functions.py:106: UserWarning: Loading required package: Matrix\n",
      "\n",
      "  res = super(Function, self).__call__(*new_args, **new_kwargs)\n",
      "/Users/fultonw/Library/Enthought/Canopy_64bit/User/lib/python2.7/site-packages/rpy2/robjects/functions.py:106: UserWarning: Loading required package: stats4\n",
      "\n",
      "  res = super(Function, self).__call__(*new_args, **new_kwargs)\n",
      "/Users/fultonw/Library/Enthought/Canopy_64bit/User/lib/python2.7/site-packages/rpy2/robjects/functions.py:106: UserWarning: Loading required package: gmm\n",
      "\n",
      "  res = super(Function, self).__call__(*new_args, **new_kwargs)\n",
      "/Users/fultonw/Library/Enthought/Canopy_64bit/User/lib/python2.7/site-packages/rpy2/robjects/functions.py:106: UserWarning: Loading required package: sandwich\n",
      "\n",
      "  res = super(Function, self).__call__(*new_args, **new_kwargs)\n"
     ]
    }
   ],
   "source": [
    "from IPython.display import display_pretty, display_html\n",
    "import python_utils.python_utils.basic as basic\n",
    "import matplotlib.pyplot as plt\n",
    "import pandas as pd\n",
    "import matplotlib.colors as mpl_colors\n",
    "import matplotlib.cm as cm\n",
    "import pdb\n",
    "import numpy as np\n",
    "import scipy\n",
    "import ml_stuff.ml_stuff.hier_variational_regr as hvr\n",
    "#import causal_frl.causal_frl.hier_variational_regr as hvr"
   ]
  },
  {
   "cell_type": "code",
   "execution_count": 3,
   "metadata": {
    "collapsed": true
   },
   "outputs": [],
   "source": [
    "# random seed\n",
    "np.random.seed(41)"
   ]
  },
  {
   "cell_type": "code",
   "execution_count": 4,
   "metadata": {
    "collapsed": false
   },
   "outputs": [],
   "source": [
    "# define params for simulating data\n",
    "L = 2\n",
    "N = 1500\n",
    "d = 2\n",
    "x_var = 15.0\n",
    "mu = np.tile(5.0, d)\n",
    "#prec_val = 100000\n",
    "prec_val = 1\n",
    "lambda_val = 1"
   ]
  },
  {
   "cell_type": "code",
   "execution_count": 5,
   "metadata": {
    "collapsed": false
   },
   "outputs": [],
   "source": [
    "# simulate the data\n",
    "x_ns, y_ns, z_ns, B_ls = hvr.simulate_data(L, N, d, x_var, mu, prec_val, lambda_val)"
   ]
  },
  {
   "cell_type": "code",
   "execution_count": 6,
   "metadata": {
    "collapsed": false
   },
   "outputs": [],
   "source": [
    "# define prior by specifying hyperparameters\n",
    "v_0 = 1.0001\n",
    "assert v_0 > d-1\n",
    "T_0 = 1.0 * np.eye(d) \n",
    "c_0 = .0001 \n",
    "m_0 = np.zeros(d)\n",
    "alpha_0 = 1.\n",
    "beta_0 = 1."
   ]
  },
  {
   "cell_type": "code",
   "execution_count": 7,
   "metadata": {
    "collapsed": true
   },
   "outputs": [],
   "source": [
    "# define params for doing inference\n",
    "num_iters = 15"
   ]
  },
  {
   "cell_type": "code",
   "execution_count": 8,
   "metadata": {
    "collapsed": false
   },
   "outputs": [],
   "source": [
    "# initialize params\n",
    "v, T, c, m, mu_B_ls, prec_B_ls, alpha_lambda_ls, beta_lambda_ls = hvr.init_variational_params\\\n",
    "(x_ns, y_ns, z_ns, v_0, T_0, c_0, m_0, alpha_0, beta_0)"
   ]
  },
  {
   "cell_type": "code",
   "execution_count": 9,
   "metadata": {
    "collapsed": false,
    "scrolled": false
   },
   "outputs": [
    {
     "name": "stdout",
     "output_type": "stream",
     "text": [
      "L: 2 d: 2\n",
      "0 0.0\n",
      "3.0001 [[ 0.33333333  0.        ]\n",
      " [ 0.          0.33333333]] 2.0001 [ 0.  0.]\n",
      "temp2 update -1.0 -0.9999500025\n",
      "1 step 0 mu_B_ls sum: 0.000 log evidence bound: -491355.673825\n",
      "3.0001 [[ 0.33333333  0.        ]\n",
      " [ 0.          0.33333333]] 2.0001 [ 0.  0.]\n",
      "temp2 update -1.0 -0.9999500025\n",
      "3.0001 [[ 0.33333333  0.        ]\n",
      " [ 0.          0.33333333]] 2.0001 [ 0.  0.]\n",
      "temp2 update -1.0 -0.9999500025\n",
      "1 17.9074561413\n",
      "3.0001 [[ 0.99815924 -0.00712276]\n",
      " [-0.00712276  0.90502197]] 2.0001 [ 3.72854761  5.22473279]\n",
      "temp2 update -1.0 -115.916089735\n",
      "1 step 1 mu_B_ls sum: 17.907 log evidence bound: -3524.353928\n",
      "3.0001 [[ 0.99815924 -0.00712276]\n",
      " [-0.00712276  0.90502197]] 2.0001 [ 3.72854761  5.22473279]\n",
      "temp2 update -1.0 -115.916089735\n",
      "3.0001 [[ 0.99815924 -0.00712276]\n",
      " [-0.00712276  0.90502197]] 2.0001 [ 3.72854761  5.22473279]\n",
      "temp2 update -1.0 -115.916089735\n",
      "2 17.9090436107\n",
      "3.0001 [[ 0.99816372 -0.00712153]\n",
      " [-0.00712153  0.9050472 ]] 2.0001 [ 3.7288724  5.2252017]\n",
      "temp2 update -1.0 -115.938896761\n",
      "1 step 2 mu_B_ls sum: 17.909 log evidence bound: -3524.349325\n",
      "3.0001 [[ 0.99816372 -0.00712153]\n",
      " [-0.00712153  0.9050472 ]] 2.0001 [ 3.7288724  5.2252017]\n",
      "temp2 update -1.0 -115.938896761\n",
      "3.0001 [[ 0.99816372 -0.00712153]\n",
      " [-0.00712153  0.9050472 ]] 2.0001 [ 3.7288724  5.2252017]\n",
      "temp2 update -1.0 -115.938896761\n",
      "3 17.9090439941\n",
      "3.0001 [[ 0.99816373 -0.00712153]\n",
      " [-0.00712153  0.90504721]] 2.0001 [ 3.72887249  5.22520181]\n",
      "temp2 update -1.0 -115.938902891\n",
      "1 step 3 mu_B_ls sum: 17.909 log evidence bound: -3524.349325\n",
      "3.0001 [[ 0.99816373 -0.00712153]\n",
      " [-0.00712153  0.90504721]] 2.0001 [ 3.72887249  5.22520181]\n",
      "temp2 update -1.0 -115.938902891\n",
      "3.0001 [[ 0.99816373 -0.00712153]\n",
      " [-0.00712153  0.90504721]] 2.0001 [ 3.72887249  5.22520181]\n",
      "temp2 update -1.0 -115.938902891\n",
      "4 17.9090439942\n",
      "3.0001 [[ 0.99816373 -0.00712153]\n",
      " [-0.00712153  0.90504721]] 2.0001 [ 3.72887249  5.22520181]\n",
      "temp2 update -1.0 -115.938902896\n",
      "1 step 4 mu_B_ls sum: 17.909 log evidence bound: -3524.349325\n",
      "3.0001 [[ 0.99816373 -0.00712153]\n",
      " [-0.00712153  0.90504721]] 2.0001 [ 3.72887249  5.22520181]\n",
      "temp2 update -1.0 -115.938902896\n",
      "3.0001 [[ 0.99816373 -0.00712153]\n",
      " [-0.00712153  0.90504721]] 2.0001 [ 3.72887249  5.22520181]\n",
      "temp2 update -1.0 -115.938902896\n",
      "5 17.9090439942\n",
      "3.0001 [[ 0.99816373 -0.00712153]\n",
      " [-0.00712153  0.90504721]] 2.0001 [ 3.72887249  5.22520181]\n",
      "temp2 update -1.0 -115.938902896\n",
      "1 step 5 mu_B_ls sum: 17.909 log evidence bound: -3524.349325\n",
      "3.0001 [[ 0.99816373 -0.00712153]\n",
      " [-0.00712153  0.90504721]] 2.0001 [ 3.72887249  5.22520181]\n",
      "temp2 update -1.0 -115.938902896\n",
      "3.0001 [[ 0.99816373 -0.00712153]\n",
      " [-0.00712153  0.90504721]] 2.0001 [ 3.72887249  5.22520181]\n",
      "temp2 update -1.0 -115.938902896\n",
      "6 17.9090439942\n",
      "3.0001 [[ 0.99816373 -0.00712153]\n",
      " [-0.00712153  0.90504721]] 2.0001 [ 3.72887249  5.22520181]\n",
      "temp2 update -1.0 -115.938902896\n",
      "1 step 6 mu_B_ls sum: 17.909 log evidence bound: -3524.349325\n",
      "3.0001 [[ 0.99816373 -0.00712153]\n",
      " [-0.00712153  0.90504721]] 2.0001 [ 3.72887249  5.22520181]\n",
      "temp2 update -1.0 -115.938902896\n",
      "3.0001 [[ 0.99816373 -0.00712153]\n",
      " [-0.00712153  0.90504721]] 2.0001 [ 3.72887249  5.22520181]\n",
      "temp2 update -1.0 -115.938902896\n",
      "7 17.9090439942\n",
      "3.0001 [[ 0.99816373 -0.00712153]\n",
      " [-0.00712153  0.90504721]] 2.0001 [ 3.72887249  5.22520181]\n",
      "temp2 update -1.0 -115.938902896\n",
      "1 step 7 mu_B_ls sum: 17.909 log evidence bound: -3524.349325\n",
      "3.0001 [[ 0.99816373 -0.00712153]\n",
      " [-0.00712153  0.90504721]] 2.0001 [ 3.72887249  5.22520181]\n",
      "temp2 update -1.0 -115.938902896\n",
      "3.0001 [[ 0.99816373 -0.00712153]\n",
      " [-0.00712153  0.90504721]] 2.0001 [ 3.72887249  5.22520181]\n",
      "temp2 update -1.0 -115.938902896\n",
      "8 17.9090439942\n",
      "3.0001 [[ 0.99816373 -0.00712153]\n",
      " [-0.00712153  0.90504721]] 2.0001 [ 3.72887249  5.22520181]\n",
      "temp2 update -1.0 -115.938902896\n",
      "1 step 8 mu_B_ls sum: 17.909 log evidence bound: -3524.349325\n",
      "3.0001 [[ 0.99816373 -0.00712153]\n",
      " [-0.00712153  0.90504721]] 2.0001 [ 3.72887249  5.22520181]\n",
      "temp2 update -1.0 -115.938902896\n",
      "3.0001 [[ 0.99816373 -0.00712153]\n",
      " [-0.00712153  0.90504721]] 2.0001 [ 3.72887249  5.22520181]\n",
      "temp2 update -1.0 -115.938902896\n",
      "9 17.9090439942\n",
      "3.0001 [[ 0.99816373 -0.00712153]\n",
      " [-0.00712153  0.90504721]] 2.0001 [ 3.72887249  5.22520181]\n",
      "temp2 update -1.0 -115.938902896\n",
      "1 step 9 mu_B_ls sum: 17.909 log evidence bound: -3524.349325\n",
      "3.0001 [[ 0.99816373 -0.00712153]\n",
      " [-0.00712153  0.90504721]] 2.0001 [ 3.72887249  5.22520181]\n",
      "temp2 update -1.0 -115.938902896\n",
      "3.0001 [[ 0.99816373 -0.00712153]\n",
      " [-0.00712153  0.90504721]] 2.0001 [ 3.72887249  5.22520181]\n",
      "temp2 update -1.0 -115.938902896\n",
      "10 17.9090439942\n",
      "3.0001 [[ 0.99816373 -0.00712153]\n",
      " [-0.00712153  0.90504721]] 2.0001 [ 3.72887249  5.22520181]\n",
      "temp2 update -1.0 -115.938902896\n",
      "1 step 10 mu_B_ls sum: 17.909 log evidence bound: -3524.349325\n",
      "3.0001 [[ 0.99816373 -0.00712153]\n",
      " [-0.00712153  0.90504721]] 2.0001 [ 3.72887249  5.22520181]\n",
      "temp2 update -1.0 -115.938902896\n",
      "3.0001 [[ 0.99816373 -0.00712153]\n",
      " [-0.00712153  0.90504721]] 2.0001 [ 3.72887249  5.22520181]\n",
      "temp2 update -1.0 -115.938902896\n",
      "11 17.9090439942\n",
      "3.0001 [[ 0.99816373 -0.00712153]\n",
      " [-0.00712153  0.90504721]] 2.0001 [ 3.72887249  5.22520181]\n",
      "temp2 update -1.0 -115.938902896\n",
      "1 step 11 mu_B_ls sum: 17.909 log evidence bound: -3524.349325\n",
      "3.0001 [[ 0.99816373 -0.00712153]\n",
      " [-0.00712153  0.90504721]] 2.0001 [ 3.72887249  5.22520181]\n",
      "temp2 update -1.0 -115.938902896\n",
      "3.0001 [[ 0.99816373 -0.00712153]\n",
      " [-0.00712153  0.90504721]] 2.0001 [ 3.72887249  5.22520181]\n",
      "temp2 update -1.0 -115.938902896\n",
      "12 17.9090439942\n",
      "3.0001 [[ 0.99816373 -0.00712153]\n",
      " [-0.00712153  0.90504721]] 2.0001 [ 3.72887249  5.22520181]\n",
      "temp2 update -1.0 -115.938902896\n",
      "1 step 12 mu_B_ls sum: 17.909 log evidence bound: -3524.349325\n",
      "3.0001 [[ 0.99816373 -0.00712153]\n",
      " [-0.00712153  0.90504721]] 2.0001 [ 3.72887249  5.22520181]\n",
      "temp2 update -1.0 -115.938902896\n",
      "3.0001 [[ 0.99816373 -0.00712153]\n",
      " [-0.00712153  0.90504721]] 2.0001 [ 3.72887249  5.22520181]\n",
      "temp2 update -1.0 -115.938902896\n",
      "13 17.9090439942\n",
      "3.0001 [[ 0.99816373 -0.00712153]\n",
      " [-0.00712153  0.90504721]] 2.0001 [ 3.72887249  5.22520181]\n",
      "temp2 update -1.0 -115.938902896\n",
      "1 step 13 mu_B_ls sum: 17.909 log evidence bound: -3524.349325\n",
      "3.0001 [[ 0.99816373 -0.00712153]\n",
      " [-0.00712153  0.90504721]] 2.0001 [ 3.72887249  5.22520181]\n",
      "temp2 update -1.0 -115.938902896\n",
      "3.0001 [[ 0.99816373 -0.00712153]\n",
      " [-0.00712153  0.90504721]] 2.0001 [ 3.72887249  5.22520181]\n",
      "temp2 update -1.0 -115.938902896\n",
      "14 17.9090439942\n",
      "3.0001 [[ 0.99816373 -0.00712153]\n",
      " [-0.00712153  0.90504721]] 2.0001 [ 3.72887249  5.22520181]\n",
      "temp2 update -1.0 -115.938902896\n",
      "1 step 14 mu_B_ls sum: 17.909 log evidence bound: -3524.349325\n",
      "3.0001 [[ 0.99816373 -0.00712153]\n",
      " [-0.00712153  0.90504721]] 2.0001 [ 3.72887249  5.22520181]\n",
      "temp2 update -1.0 -115.938902896\n",
      "3.0001 [[ 0.99816373 -0.00712153]\n",
      " [-0.00712153  0.90504721]] 2.0001 [ 3.72887249  5.22520181]\n",
      "temp2 update -1.0 -115.938902896\n"
     ]
    }
   ],
   "source": [
    "# do inference\n",
    "v, T, c, m, mu_B_ls, prec_B_ls, alpha_lambda_ls, beta_lambda_ls = hvr.infer_variational_params(num_iters, x_ns, y_ns, z_ns, v_0, T_0, c_0, m_0, alpha_0, beta_0, \\\n",
    "                         v, T, c, m, mu_B_ls, prec_B_ls, alpha_lambda_ls, beta_lambda_ls)"
   ]
  },
  {
   "cell_type": "code",
   "execution_count": 10,
   "metadata": {
    "collapsed": false
   },
   "outputs": [
    {
     "name": "stdout",
     "output_type": "stream",
     "text": [
      "v 3.0001\n",
      "T [[ 0.99816373 -0.00712153]\n",
      " [-0.00712153  0.90504721]]\n",
      "c 2.0001\n",
      "m [ 3.72887249  5.22520181]\n",
      "mu_B_ls [[ 3.71593641  4.99954725]\n",
      " [ 3.74218145  5.45137888]]\n",
      "prec_B_ls [array([[ 12622.78067922,   -526.34369575],\n",
      "       [  -526.34369575,  11925.51466217]]), array([[ 12264.00592732,   -343.344495  ],\n",
      "       [  -343.344495  ,  11577.3107382 ]])]\n",
      "alpha_lambda_ls [ 376.  376.]\n",
      "beta_lambda_ls [ 364.56629836  366.41096725]\n",
      "[ -0.78031392 -17.20991383 -12.30532601 ...,  36.6036112  -17.59062211\n",
      "   5.27663462]\n"
     ]
    }
   ],
   "source": [
    "print 'v',v\n",
    "print 'T', T\n",
    "print 'c', c\n",
    "print 'm', m\n",
    "print 'mu_B_ls', mu_B_ls\n",
    "print 'prec_B_ls', prec_B_ls\n",
    "print 'alpha_lambda_ls', alpha_lambda_ls\n",
    "print 'beta_lambda_ls', beta_lambda_ls\n",
    "print y_ns"
   ]
  },
  {
   "cell_type": "code",
   "execution_count": 11,
   "metadata": {
    "collapsed": false,
    "scrolled": false
   },
   "outputs": [
    {
     "name": "stdout",
     "output_type": "stream",
     "text": [
      "0.00671124342944\n",
      "estimated [[ 2.99459101 -0.02136531]\n",
      " [-0.02136531  2.71523212]]\n",
      "actual empirical 5807.17958737\n",
      "[[ 3.71593641  4.99954725]\n",
      " [ 3.74218145  5.45137888]]\n",
      "[[ 3.71593641  4.99954725  3.70913068  5.00360952]\n",
      " [ 3.74218145  5.45137888  3.73400098  5.44358238]]\n",
      "[array([[ 12622.78067922,   -526.34369575],\n",
      "       [  -526.34369575,  11925.51466217]]), array([[ 12264.00592732,   -343.344495  ],\n",
      "       [  -343.344495  ,  11577.3107382 ]])]\n",
      "[ 1.03136248  1.02617016]\n"
     ]
    }
   ],
   "source": [
    "print np.mean(np.abs(mu_B_ls - B_ls))\n",
    "print 'estimated', v*T\n",
    "print 'actual empirical', 1.0/np.var(mu_B_ls[:,0])\n",
    "print mu_B_ls\n",
    "print np.concatenate([mu_B_ls,B_ls],axis=1)\n",
    "print prec_B_ls\n",
    "print alpha_lambda_ls / beta_lambda_ls"
   ]
  },
  {
   "cell_type": "code",
   "execution_count": 12,
   "metadata": {
    "collapsed": false
   },
   "outputs": [
    {
     "data": {
      "text/plain": [
       "array([ 0.,  0.,  0.])"
      ]
     },
     "execution_count": 12,
     "metadata": {},
     "output_type": "execute_result"
    }
   ],
   "source": [
    "h=hvr.trunc_norm()\n",
    "h.mean(np.array([0,0,0]),np.array([[2,1,1],[1,2,1],[1,1,2]]))"
   ]
  }
 ],
 "metadata": {
  "kernelspec": {
   "display_name": "Python 2",
   "language": "python",
   "name": "python2"
  },
  "language_info": {
   "codemirror_mode": {
    "name": "ipython",
    "version": 2
   },
   "file_extension": ".py",
   "mimetype": "text/x-python",
   "name": "python",
   "nbconvert_exporter": "python",
   "pygments_lexer": "ipython2",
   "version": "2.7.6"
  }
 },
 "nbformat": 4,
 "nbformat_minor": 0
}
