{
 "cells": [
  {
   "cell_type": "code",
   "execution_count": 1,
   "metadata": {
    "collapsed": false
   },
   "outputs": [],
   "source": [
    "import python_utils.python_utils.caching as caching\n",
    "import ml_stuff_run.ml_stuff_run.constants as constants\n",
    "caching.init(constants.cache_folder, constants.which_hash)\n",
    "%load_ext autoreload\n",
    "%autoreload 2"
   ]
  },
  {
   "cell_type": "code",
   "execution_count": 2,
   "metadata": {
    "collapsed": false
   },
   "outputs": [
    {
     "name": "stderr",
     "output_type": "stream",
     "text": [
      "/Users/fultonw/Library/Enthought/Canopy_64bit/User/lib/python2.7/site-packages/rpy2/robjects/functions.py:106: UserWarning: Loading required package: mvtnorm\n",
      "\n",
      "  res = super(Function, self).__call__(*new_args, **new_kwargs)\n",
      "/Users/fultonw/Library/Enthought/Canopy_64bit/User/lib/python2.7/site-packages/rpy2/robjects/functions.py:106: UserWarning: Loading required package: Matrix\n",
      "\n",
      "  res = super(Function, self).__call__(*new_args, **new_kwargs)\n",
      "/Users/fultonw/Library/Enthought/Canopy_64bit/User/lib/python2.7/site-packages/rpy2/robjects/functions.py:106: UserWarning: Loading required package: stats4\n",
      "\n",
      "  res = super(Function, self).__call__(*new_args, **new_kwargs)\n",
      "/Users/fultonw/Library/Enthought/Canopy_64bit/User/lib/python2.7/site-packages/rpy2/robjects/functions.py:106: UserWarning: Loading required package: gmm\n",
      "\n",
      "  res = super(Function, self).__call__(*new_args, **new_kwargs)\n",
      "/Users/fultonw/Library/Enthought/Canopy_64bit/User/lib/python2.7/site-packages/rpy2/robjects/functions.py:106: UserWarning: Loading required package: sandwich\n",
      "\n",
      "  res = super(Function, self).__call__(*new_args, **new_kwargs)\n"
     ]
    }
   ],
   "source": [
    "from IPython.display import display_pretty, display_html\n",
    "import python_utils.python_utils.basic as basic\n",
    "import matplotlib.pyplot as plt\n",
    "import pandas as pd\n",
    "import matplotlib.colors as mpl_colors\n",
    "import matplotlib.cm as cm\n",
    "import pdb\n",
    "import numpy as np\n",
    "import scipy\n",
    "import ml_stuff.ml_stuff.hier_variational_regr as hvr\n",
    "import causal_frl.causal_frl.hier_treatment_variational_regr as hvr"
   ]
  },
  {
   "cell_type": "code",
   "execution_count": 3,
   "metadata": {
    "collapsed": true
   },
   "outputs": [],
   "source": [
    "# random seed\n",
    "np.random.seed(41)"
   ]
  },
  {
   "cell_type": "code",
   "execution_count": 4,
   "metadata": {
    "collapsed": true
   },
   "outputs": [],
   "source": [
    "# define params for simulating (x_ns, T_ns)\n",
    "N = 5000\n",
    "T_prob = 0.5\n",
    "#K = 25\n",
    "K=4\n",
    "x_prob = 0.5"
   ]
  },
  {
   "cell_type": "code",
   "execution_count": 5,
   "metadata": {
    "collapsed": false
   },
   "outputs": [],
   "source": [
    "# simulate (x_ns, T_ns)\n",
    "#x_ns = np.random.multivariate_normal(np.zeros(K), np.eye(K) * x_var, N)\n",
    "x_ns = (np.random.uniform(size=(N,K)) < x_prob).astype(int)\n",
    "T_ns = np.random.randint(0, 2, N)"
   ]
  },
  {
   "cell_type": "code",
   "execution_count": 7,
   "metadata": {
    "collapsed": false
   },
   "outputs": [
    {
     "name": "stdout",
     "output_type": "stream",
     "text": [
      "<module 'causal_frl.causal_frl.hier_treatment_variational_regr' from '/Users/fultonw/Documents/projects/code/causal_frl/causal_frl/hier_treatment_variational_regr.pyc'>\n"
     ]
    },
    {
     "ename": "AttributeError",
     "evalue": "'module' object has no attribute 'hardcoded_rule_miner_f'",
     "output_type": "error",
     "traceback": [
      "\u001b[0;31m---------------------------------------------------------------------------\u001b[0m",
      "\u001b[0;31mAttributeError\u001b[0m                            Traceback (most recent call last)",
      "\u001b[0;32m<ipython-input-7-513133fd7a7e>\u001b[0m in \u001b[0;36m<module>\u001b[0;34m()\u001b[0m\n\u001b[1;32m      2\u001b[0m \u001b[0;32mprint\u001b[0m \u001b[0mhvr\u001b[0m\u001b[0;34m\u001b[0m\u001b[0m\n\u001b[1;32m      3\u001b[0m \u001b[0;31m#all_rule_fs = [hvr.binary_rule(k,1) for k in xrange(K)]\u001b[0m\u001b[0;34m\u001b[0m\u001b[0;34m\u001b[0m\u001b[0m\n\u001b[0;32m----> 4\u001b[0;31m \u001b[0mall_rule_fs\u001b[0m \u001b[0;34m=\u001b[0m \u001b[0mhvr\u001b[0m\u001b[0;34m.\u001b[0m\u001b[0mhardcoded_rule_miner_f\u001b[0m\u001b[0;34m(\u001b[0m\u001b[0;36m0.2\u001b[0m\u001b[0;34m,\u001b[0m\u001b[0;36m3\u001b[0m\u001b[0;34m)\u001b[0m\u001b[0;34m\u001b[0m\u001b[0m\n\u001b[0m\u001b[1;32m      5\u001b[0m \u001b[0;31m#rule_fs = [hvr.binary_rule(k,1) for k in xrange(K)] + [hvr.binary_rule(k,0) for k in xrange(K)]\u001b[0m\u001b[0;34m\u001b[0m\u001b[0;34m\u001b[0m\u001b[0m\n\u001b[1;32m      6\u001b[0m \u001b[0;32mprint\u001b[0m \u001b[0mrule_fs\u001b[0m\u001b[0;34m\u001b[0m\u001b[0m\n",
      "\u001b[0;31mAttributeError\u001b[0m: 'module' object has no attribute 'hardcoded_rule_miner_f'"
     ]
    }
   ],
   "source": [
    "# define/MINE rule_fs\n",
    "print hvr\n",
    "#all_rule_fs = [hvr.binary_rule(k,1) for k in xrange(K)]\n",
    "all_rule_fs = hvr.hardcoded_rule_miner_f(0.2,3)\n",
    "#rule_fs = [hvr.binary_rule(k,1) for k in xrange(K)] + [hvr.binary_rule(k,0) for k in xrange(K)]\n",
    "print rule_fs\n",
    "#rule_fs = [hvr.mem_address_rule(k,K) for k in xrange(K)]"
   ]
  },
  {
   "cell_type": "code",
   "execution_count": null,
   "metadata": {
    "collapsed": false
   },
   "outputs": [],
   "source": [
    "# define p_y_ns_given_theta, theta\n",
    "true_rule_f_ls = all_rule_fs[0:3] + [hvr.default_rule()]\n",
    "#true_rule_f_ls = rule_fs[0:10:2] + [hvr.default_rule()]\n",
    "#true_rule_f_ls = rule_fs\n",
    "true_L = len(true_rule_f_ls)\n",
    "true_p_y_ns_given_theta = hvr.p_y_ns_given_theta(true_rule_f_ls)\n",
    "true_mu = np.ones(K)*5.0\n",
    "true_prec = np.eye(K)/1.0\n",
    "true_lambda_ls = np.ones(true_L) / 1.0\n",
    "true_delta = np.cumsum(np.arange(1,true_L+1,1))\n",
    "true_theta = hvr.theta(true_mu, true_prec, np.random.multivariate_normal(true_mu, true_prec, true_L), true_lambda_ls, true_delta)\n",
    "print 'true delta:', true_delta\n",
    "print 'true lambdas', true_lambda_ls\n",
    "print 'true rule_f_ls', true_rule_f_ls\n",
    "print 'supports', pd.Series(true_p_y_ns_given_theta.get_z_ns_num(x_ns)).value_counts()"
   ]
  },
  {
   "cell_type": "code",
   "execution_count": null,
   "metadata": {
    "collapsed": false
   },
   "outputs": [],
   "source": [
    "# simulate y_ns\n",
    "y_ns = true_p_y_ns_given_theta.sample(true_theta, (x_ns,T_ns))"
   ]
  },
  {
   "cell_type": "code",
   "execution_count": null,
   "metadata": {
    "collapsed": false
   },
   "outputs": [],
   "source": [
    "# define p_theta\n",
    "v_0 = 66.0001\n",
    "assert v_0 > K-1\n",
    "T_0 = 1.0 * np.eye(K) \n",
    "c_0 = .0001 \n",
    "m_0 = np.zeros(K)\n",
    "alpha_0 = 1.\n",
    "beta_0 = 1.\n",
    "r_0 = -1000.\n",
    "s_0 = 1000.\n",
    "p_theta = hvr.p_theta(v_0, T_0, c_0, m_0, alpha_0, beta_0, r_0, s_0)"
   ]
  },
  {
   "cell_type": "code",
   "execution_count": null,
   "metadata": {
    "collapsed": true
   },
   "outputs": [],
   "source": [
    "# define get_posterior_f\n",
    "recovery_num_iters = 15\n",
    "recovery_get_posterior_f = hvr.get_posterior_f(recovery_num_iters)"
   ]
  },
  {
   "cell_type": "code",
   "execution_count": null,
   "metadata": {
    "collapsed": false,
    "scrolled": false
   },
   "outputs": [],
   "source": [
    "#for true model, try to recover true theta\n",
    "true_model = hvr.model(p_theta, true_p_y_ns_given_theta)\n",
    "v, T, c, m, mu_B_ls, prec_B_ls, alpha_lambda_ls, beta_lambda_ls, mu_delta, prec_delta = recovery_get_posterior_f(true_model, (x_ns, T_ns), y_ns)\n",
    "print 'v',v\n",
    "print 'T',T \n",
    "print 'c',c\n",
    "print 'm',m\n",
    "print 'mu_B_ls', mu_B_ls\n",
    "print 'prec_B_ls', prec_B_ls\n",
    "print 'alpha_lambda_ls', alpha_lambda_ls\n",
    "print 'beta_lambda_ls', beta_lambda_ls\n",
    "print 'mu_delta', mu_delta\n",
    "print 'prec_delta',prec_delta\n",
    "print 'mu_lambda_ls', alpha_lambda_ls / beta_lambda_ls"
   ]
  },
  {
   "cell_type": "code",
   "execution_count": null,
   "metadata": {
    "collapsed": false
   },
   "outputs": [],
   "source": [
    "# define list of models to calculate evidence for\n",
    "candidate_models = [hvr.model. model_from_p_theta_and_rule_fs(p_theta, list(rule_fs)) for rule_fs in hvr.subsequence_iterator(all_rule_fs)]\n",
    "print len(candidate_models)"
   ]
  },
  {
   "cell_type": "code",
   "execution_count": null,
   "metadata": {
    "collapsed": true
   },
   "outputs": [],
   "source": [
    "# define function to calculate evidence lower bound\n",
    "num_iters = 5\n",
    "get_posterior_f = hvr.get_posterior_f(num_iters)\n",
    "get_evidence_f = hvr.get_evidence_f(get_posterior_f, hvr.log_evidence_lower_bound)"
   ]
  },
  {
   "cell_type": "code",
   "execution_count": null,
   "metadata": {
    "collapsed": false,
    "scrolled": false
   },
   "outputs": [],
   "source": [
    "# calculate evidence for each model\n",
    "results = []\n",
    "\n",
    "@basic.do_cprofile\n",
    "def run():\n",
    "    for candidate_model in candidate_models:\n",
    "        print candidate_model\n",
    "        results.append([repr(candidate_model),get_evidence_f(candidate_model, (x_ns, T_ns), y_ns)])\n",
    "run()\n",
    "print results"
   ]
  },
  {
   "cell_type": "code",
   "execution_count": null,
   "metadata": {
    "collapsed": false
   },
   "outputs": [],
   "source": [
    "# print evidence for each model\n",
    "print len(results)\n",
    "display_html(pd.DataFrame.from_records(results, columns=['rules','log evidence']).sort(columns=['log evidence']).to_html(), raw=True)"
   ]
  },
  {
   "cell_type": "code",
   "execution_count": null,
   "metadata": {
    "collapsed": false
   },
   "outputs": [],
   "source": [
    "# define simulated annealing model fitter\n",
    "SA_num_iters = 1500\n",
    "temperature = 1.\n",
    "def reject_f(model,(x_ns,T_ns), y_ns): \n",
    "    return np.sum(model.p_y_ns_given_theta.get_z_ns(x_ns), axis=0).min() < 10\n",
    "model_fitter = hvr.simulated_annealing_model_fitter(all_rule_fs, p_theta, SA_num_iters, temperature, get_evidence_f, reject_f)"
   ]
  },
  {
   "cell_type": "code",
   "execution_count": null,
   "metadata": {
    "collapsed": false,
    "scrolled": false
   },
   "outputs": [],
   "source": [
    "# run simulated annealing\n",
    "#best_model, best_evidence = model_fitter((x_ns, T_ns), y_ns)\n",
    "#print best_model, best_evidence"
   ]
  }
 ],
 "metadata": {
  "kernelspec": {
   "display_name": "Python 2",
   "language": "python",
   "name": "python2"
  },
  "language_info": {
   "codemirror_mode": {
    "name": "ipython",
    "version": 2
   },
   "file_extension": ".py",
   "mimetype": "text/x-python",
   "name": "python",
   "nbconvert_exporter": "python",
   "pygments_lexer": "ipython2",
   "version": "2.7.6"
  }
 },
 "nbformat": 4,
 "nbformat_minor": 0
}
