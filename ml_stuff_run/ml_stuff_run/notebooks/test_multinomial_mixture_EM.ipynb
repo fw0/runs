{
 "metadata": {
  "name": "",
  "signature": "sha256:f9736029a1c07d71ae346352c12fcee4dff899fcc0b24e7984ad0c2596e97227"
 },
 "nbformat": 3,
 "nbformat_minor": 0,
 "worksheets": [
  {
   "cells": [
    {
     "cell_type": "code",
     "collapsed": false,
     "input": [
      "import python_utils.python_utils.caching as caching\n",
      "import ml_stuff_run.ml_stuff_run.constants as constants\n",
      "caching.init(constants.cache_folder, constants.which_hash)\n",
      "%load_ext autoreload\n",
      "%autoreload 2"
     ],
     "language": "python",
     "metadata": {},
     "outputs": [
      {
       "output_type": "stream",
       "stream": "stdout",
       "text": [
        "The autoreload extension is already loaded. To reload it, use:\n",
        "  %reload_ext autoreload\n"
       ]
      },
      {
       "output_type": "stream",
       "stream": "stderr",
       "text": [
        "[autoreload of ml_stuff.ml_stuff.multinomial_mixture_EM failed: Traceback (most recent call last):\n",
        "  File \"/Users/fultonw/Library/Enthought/Canopy_64bit/User/lib/python2.7/site-packages/IPython/extensions/autoreload.py\", line 247, in check\n",
        "    superreload(m, reload, self.old_objects)\n",
        "  File \"/Users/fultonw/Documents/projects/code/ml_stuff/ml_stuff/multinomial_mixture_EM.py\", line 23\n",
        "    print np.log(thetas_old)) + np.log(pi_old)\n",
        "                            ^\n",
        "SyntaxError: invalid syntax\n",
        "]\n"
       ]
      }
     ],
     "prompt_number": 13
    },
    {
     "cell_type": "code",
     "collapsed": false,
     "input": [
      "from IPython.display import display_pretty, display_html\n",
      "import python_utils.python_utils.basic as basic\n",
      "import matplotlib.pyplot as plt\n",
      "import pandas as pd\n",
      "import matplotlib.colors as mpl_colors\n",
      "import matplotlib.cm as cm\n",
      "import pdb\n",
      "import numpy as np\n",
      "import scipy\n",
      "import ml_stuff.ml_stuff.multinomial_mixture_EM as multinomial_mixture_EM"
     ],
     "language": "python",
     "metadata": {},
     "outputs": [],
     "prompt_number": 2
    },
    {
     "cell_type": "code",
     "collapsed": false,
     "input": [
      "# define data to simulate\n",
      "N = 500\n",
      "K = 3\n",
      "M = 5\n",
      "L = 10\n",
      "Ls = np.ones(N,dtype=int) * L\n",
      "Ls = np.random.poisson(5.0,size=N) + 1\n",
      "thetas = np.array([\\\n",
      "                   [0.1,0.9],\\\n",
      "                   [0.4,0.6],\\\n",
      "                   ])\n",
      "thetas = np.array([\\\n",
      "                   [0.1,0.2,0.2,0.1,0.4],\\\n",
      "                   [0.5,0.3,0.1,0.1,0.1],\\\n",
      "                   [0.1,0.1,0.4,0.3,0.1],\\\n",
      "                   ])\n",
      "pi = np.array([.20,.35,.45])\n",
      "Zs = np.random.choice(np.arange(K), size=N, p=pi)\n",
      "X = np.array([np.random.multinomial(Ls[i], thetas[Zs[i]]) for i in xrange(N)])\n",
      "X.shape"
     ],
     "language": "python",
     "metadata": {},
     "outputs": [
      {
       "metadata": {},
       "output_type": "pyout",
       "prompt_number": 8,
       "text": [
        "(500, 5)"
       ]
      }
     ],
     "prompt_number": 8
    },
    {
     "cell_type": "code",
     "collapsed": false,
     "input": [
      "# fit the model\n",
      "num_iters = 50\n",
      "tol = 0.0001\n",
      "thetas, pi, likelihood = multinomial_mixture_EM.multinomial_mixture_EM(num_iters, tol, K, X)\n",
      "print thetas\n",
      "print thetas.sum(axis=0)\n",
      "print pi\n",
      "print pi.sum()"
     ],
     "language": "python",
     "metadata": {},
     "outputs": [
      {
       "output_type": "stream",
       "stream": "stdout",
       "text": [
        "likelihood: -5356.44183115\n",
        "likelihood: -4792.99114806\n",
        "likelihood: -4709.83834681\n",
        "likelihood: -4674.73285295\n",
        "likelihood: -4648.70672757\n",
        "likelihood: -4619.37251864\n",
        "likelihood: -4594.24384837\n",
        "likelihood: -4579.03132932\n",
        "likelihood: -4571.38727578\n",
        "likelihood: -4567.56228221\n",
        "likelihood: -4565.38149454\n",
        "likelihood: -4563.87458631\n",
        "likelihood: -4562.64713698\n",
        "likelihood: -4561.54737336\n",
        "likelihood: -4560.52057486\n",
        "likelihood: -4559.54918741\n",
        "likelihood: -4558.62895498\n",
        "likelihood: -4557.75970032\n",
        "likelihood: -4556.94194087\n",
        "likelihood: -4556.17577774\n",
        "likelihood: -4555.46063951\n",
        "likelihood: -4554.79532498\n",
        "likelihood: -4554.17813243\n",
        "likelihood: -4553.60699773\n",
        "likelihood: -4553.07961584\n",
        "likelihood: -4552.5935399\n",
        "likelihood: -4552.14625881\n",
        "likelihood: -4551.73525651\n",
        "likelihood: -4551.35805604\n",
        "likelihood: -4551.01225163\n",
        "likelihood: -4550.69553114\n",
        "likelihood: -4550.4056911\n",
        "likelihood: -4550.14064588\n",
        "likelihood: -4549.89843252\n",
        "likelihood: -4549.67721213\n",
        "likelihood: -4549.47526881\n",
        "likelihood: -4549.29100674\n",
        "likelihood: -4549.12294601\n",
        "likelihood: -4548.96971751\n",
        "likelihood: -4548.83005727\n",
        "likelihood: -4548.70280053\n",
        "likelihood: -4548.58687561\n",
        "likelihood: -4548.48129785\n",
        "likelihood: -4548.38516362\n",
        "likelihood: -4548.29764449\n",
        "likelihood: -4548.21798176\n",
        "likelihood: -4548.14548106\n",
        "likelihood: -4548.07950742\n",
        "likelihood: -4548.01948055\n",
        "likelihood: -4547.96487041\n",
        "[1, 0, 2]\n",
        "[[  9.66513942e-02   1.03855307e-01   4.94763800e-01]\n",
        " [  1.94825842e-01   1.10135055e-01   3.11860105e-01]\n",
        " [  2.10595028e-01   3.87609262e-01   1.02923255e-01]\n",
        " [  1.13415792e-01   2.94927174e-01   9.04528397e-02]\n",
        " [  3.84511944e-01   1.03473202e-01   5.68724913e-19]]\n",
        "[ 1.  1.  1.]\n",
        "[ 0.21153277  0.4557152   0.33275203]\n",
        "1.0\n"
       ]
      }
     ],
     "prompt_number": 28
    },
    {
     "cell_type": "code",
     "collapsed": false,
     "input": [
      "def f(x,y):\n",
      "    return (x,y)\n",
      "\n",
      "import itertools\n",
      "print iter([1,2])\n",
      "#print [x for x in itertools.count(0,2)]\n",
      "f(*iter([1,2]))\n",
      "#[x for x in itertools.starmap(f,iter([[1,2],[3,4]]))]"
     ],
     "language": "python",
     "metadata": {},
     "outputs": [
      {
       "output_type": "stream",
       "stream": "stdout",
       "text": [
        "<listiterator object at 0x10edd3f10>\n"
       ]
      },
      {
       "metadata": {},
       "output_type": "pyout",
       "prompt_number": 5,
       "text": [
        "(1, 2)"
       ]
      }
     ],
     "prompt_number": 5
    }
   ],
   "metadata": {}
  }
 ]
}