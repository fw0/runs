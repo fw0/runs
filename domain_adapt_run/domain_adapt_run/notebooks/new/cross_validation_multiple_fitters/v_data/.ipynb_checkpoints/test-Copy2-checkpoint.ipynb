{
 "cells": [
  {
   "cell_type": "code",
   "execution_count": 1,
   "metadata": {
    "collapsed": false
   },
   "outputs": [],
   "source": [
    "import constants\n",
    "cache_folder_name = 'test'\n",
    "seed = 44"
   ]
  },
  {
   "cell_type": "code",
   "execution_count": 2,
   "metadata": {
    "collapsed": false
   },
   "outputs": [
    {
     "name": "stdout",
     "output_type": "stream",
     "text": [
      "[Errno 17] File exists: '/Users/fultonw/Documents/projects/runs/domain_adapt_run/domain_adapt_run/notebooks/new/cross_validation_multiple_fitters/v_data/cache/test'\n"
     ]
    }
   ],
   "source": [
    "import autograd.numpy as np\n",
    "np.random.seed(seed)\n",
    "import python_utils.python_utils.basic as basic\n",
    "import python_utils.python_utils.caching as caching\n",
    "log_folder = '%s/%s' % (constants.cache_folder, cache_folder_name)\n",
    "caching.init(constants.cache_folder, constants.which_hash, basic.archiver(log_folder))\n",
    "%load_ext autoreload\n",
    "%autoreload 2\n",
    "import matplotlib\n",
    "matplotlib.use('Agg')"
   ]
  },
  {
   "cell_type": "code",
   "execution_count": 3,
   "metadata": {
    "collapsed": false
   },
   "outputs": [
    {
     "name": "stdout",
     "output_type": "stream",
     "text": [
      "Couldn't import dot_parser, loading of dot files will not be possible.\n"
     ]
    }
   ],
   "source": [
    "import matplotlib.pyplot as plt\n",
    "from IPython.display import display_pretty, display_html\n",
    "import python_utils.python_utils.basic as basic\n",
    "import pandas as pd\n",
    "import pdb\n",
    "import itertools\n",
    "import functools\n",
    "import scipy.stats\n",
    "import scipy\n",
    "import cvxopt\n",
    "import autograd\n",
    "import autograd.numpy as np\n",
    "import domain_adapt.domain_adapt.new.fxns as fxns\n",
    "import domain_adapt.domain_adapt.new.utils as utils\n",
    "import domain_adapt.domain_adapt.new.optimizers as optimizers\n",
    "import domain_adapt.domain_adapt.new.constructors as constructors\n",
    "import domain_adapt.domain_adapt.new.lsif_constructor as lsif_constructor\n",
    "import domain_adapt.domain_adapt.new.cv as cv\n",
    "#import domain_adapt.domain_adapt.SDR_data as data\n",
    "import domain_adapt_run.domain_adapt_run.notebooks.new.cross_validation_multiple_fitters.run as run\n",
    "#import data.domain_adapt_data.domain_adapt_data.fxns as data\n",
    "import domain_adapt.domain_adapt.new.data as data"
   ]
  },
  {
   "cell_type": "code",
   "execution_count": 4,
   "metadata": {
    "collapsed": true
   },
   "outputs": [],
   "source": [
    "# define data getter\n",
    "def random_data_getter(seed):\n",
    "    np.random.seed(seed)\n",
    "    xs_train, xs_test, ys_train, ys_test = data.v_data(\n",
    "        num_train=100, \n",
    "        num_test=50, \n",
    "        useful_dim=1, \n",
    "        same_dim=10, \n",
    "        diff_dim=100\n",
    "    )\n",
    "    return xs_train, xs_test, ys_train, ys_test"
   ]
  },
  {
   "cell_type": "code",
   "execution_count": 5,
   "metadata": {
    "collapsed": true
   },
   "outputs": [],
   "source": [
    "# define evaluation stuff\n",
    "eval_num_trials = 70\n",
    "#eval_num_trials = 10\n",
    "#eval_which_loss = 'square'\n",
    "eval_which_loss = 'abs'\n",
    "#eval_num_folds = 0\n",
    "eval_num_folds = 3\n",
    "eval_use_test = True"
   ]
  },
  {
   "cell_type": "code",
   "execution_count": 6,
   "metadata": {
    "collapsed": false
   },
   "outputs": [
    {
     "name": "stdout",
     "output_type": "stream",
     "text": [
      "[  9.76562500e-04   1.95312500e-03   3.90625000e-03   7.81250000e-03\n",
      "   1.56250000e-02   3.12500000e-02   6.25000000e-02   1.25000000e-01\n",
      "   2.50000000e-01   5.00000000e-01   1.00000000e+00   2.00000000e+00\n",
      "   4.00000000e+00   8.00000000e+00]\n"
     ]
    }
   ],
   "source": [
    "# define my fitter\n",
    "cv_which_loss = 'square'\n",
    "#cv_num_folds = 3\n",
    "cv_num_folds = 0\n",
    "#cv_use_test = False\n",
    "cv_use_test = True\n",
    "predictor_which_loss = 'square'\n",
    "#predictor_which_loss = 'logistic'\n",
    "num_basis = 100\n",
    "u_dim = 1\n",
    "pymanopt_options={'logverbosity':1, 'maxiter':10}\n",
    "many_optimizer_num_cycles = 3\n",
    "num_tries = 8\n",
    "B_init_f_getter = lambda xs_train, ys_train, xs_test: (lambda: np.random.normal(size=(xs_train.shape[1],u_dim)))\n",
    "tradeoff_weight_regs = 2**np.linspace(-10,3,14)\n",
    "print tradeoff_weight_regs\n",
    "#tradeoff_weight_regs = [0.]\n",
    "#tradeoff_weight_regs = 2**np.linspace(-1,1,3)\n",
    "plot_b_info = constructors.simple_plot_b_info\n",
    "#plot_b_info = None\n",
    "fitter_list = [lsif_constructor.lsif_ratio_fitter(predictor_which_loss, num_basis, tradeoff_weight_reg, B_init_f_getter, num_tries=num_tries, pymanopt_options=pymanopt_options, many_optimizer_num_cycles=many_optimizer_num_cycles, plot_b_info=plot_b_info) for tradeoff_weight_reg in tradeoff_weight_regs]\n",
    "my_fitter = cv.cv_fitter(fitter_list, cv_which_loss, cv_num_folds, cv_use_test)"
   ]
  },
  {
   "cell_type": "code",
   "execution_count": 7,
   "metadata": {
    "collapsed": false
   },
   "outputs": [],
   "source": [
    "# define naive weighted fitter\n",
    "#cv_which_loss = 'square'\n",
    "#cv_num_folds = 3\n",
    "#cv_num_folds = 2\n",
    "#cv_use_test = False\n",
    "predictor_which_loss = 'square'\n",
    "num_basis = 100\n",
    "#u_dim = 8\n",
    "#pymanopt_options={'logverbosity':1, 'maxiter':10}\n",
    "many_optimizer_num_cycles = 1\n",
    "num_tries = 1\n",
    "B_init_f_getter = None\n",
    "learn_projection = False\n",
    "learn_weights = True\n",
    "tradeoff_weight_reg = 0.\n",
    "#tradeoff_weight_regs = 2**np.linspace(-3,3,7)\n",
    "#tradeoff_weight_regs = 2**np.linspace(-1,1,3)\n",
    "weighted_fitter = lsif_constructor.lsif_ratio_fitter(predictor_which_loss, num_basis, tradeoff_weight_reg, B_init_f_getter, learn_weights=learn_weights, learn_projection=learn_projection, num_tries=num_tries, many_optimizer_num_cycles=many_optimizer_num_cycles)\n",
    "#fitter = cv.cv_fitter(fitter_list, cv_which_loss, cv_num_folds, cv_use_test)"
   ]
  },
  {
   "cell_type": "code",
   "execution_count": 8,
   "metadata": {
    "collapsed": true
   },
   "outputs": [],
   "source": [
    "# define random projection weighted fitter\n",
    "#cv_which_loss = 'square'\n",
    "#cv_num_folds = 3\n",
    "#cv_num_folds = 2\n",
    "#cv_use_test = False\n",
    "predictor_which_loss = 'square'\n",
    "num_basis = 100\n",
    "#u_dim = 8\n",
    "#pymanopt_options={'logverbosity':1, 'maxiter':10}\n",
    "many_optimizer_num_cycles = 1\n",
    "num_tries = 1\n",
    "B_init_f_getter = None\n",
    "learn_projection = False\n",
    "learn_weights = True\n",
    "random_projection = 1\n",
    "tradeoff_weight_reg = 0.\n",
    "plot_b_info = constructors.simple_plot_b_info\n",
    "#plot_b_info = None\n",
    "#tradeoff_weight_regs = 2**np.linspace(-3,3,7)\n",
    "#tradeoff_weight_regs = 2**np.linspace(-1,1,3)\n",
    "random_projection_weighted_fitter = lsif_constructor.lsif_ratio_fitter(predictor_which_loss, num_basis, tradeoff_weight_reg, B_init_f_getter, random_projection=random_projection, learn_weights=learn_weights, learn_projection=learn_projection, num_tries=num_tries, many_optimizer_num_cycles=many_optimizer_num_cycles, plot_b_info=plot_b_info)\n",
    "#fitter = cv.cv_fitter(fitter_list, cv_which_loss, cv_num_folds, cv_use_test)"
   ]
  },
  {
   "cell_type": "code",
   "execution_count": 9,
   "metadata": {
    "collapsed": false
   },
   "outputs": [],
   "source": [
    "# define unweighted baseline\n",
    "#cv_which_loss = 'square'\n",
    "#cv_num_folds = 3\n",
    "#cv_num_folds = 2\n",
    "#cv_use_test = False\n",
    "predictor_which_loss = 'square'\n",
    "num_basis = 100\n",
    "#u_dim = 8\n",
    "#pymanopt_options={'logverbosity':1, 'maxiter':10}\n",
    "many_optimizer_num_cycles = 3\n",
    "num_tries = 1\n",
    "B_init_f_getter = None\n",
    "learn_projection = False\n",
    "learn_weights = False\n",
    "tradeoff_weight_reg = 0.\n",
    "#tradeoff_weight_regs = 2**np.linspace(-3,3,7)\n",
    "#tradeoff_weight_regs = 2**np.linspace(-1,1,3)\n",
    "unweighted_fitter = lsif_constructor.lsif_ratio_fitter(predictor_which_loss, num_basis, tradeoff_weight_reg, B_init_f_getter, learn_weights=learn_weights, learn_projection=learn_projection, num_tries=num_tries, many_optimizer_num_cycles=many_optimizer_num_cycles)\n",
    "#fitter = cv.cv_fitter(fitter_list, cv_which_loss, cv_num_folds, cv_use_test)"
   ]
  },
  {
   "cell_type": "code",
   "execution_count": null,
   "metadata": {
    "collapsed": true
   },
   "outputs": [],
   "source": [
    "#\n",
    "fitter_infos = [\n",
    "    ('mine', my_fitter),\n",
    "#    ('unweighted', unweighted_fitter),\n",
    "#    ('weighted', weighted_fitter),\n",
    "#    ('random_weighted', random_projection_weighted_fitter)\n",
    "]"
   ]
  },
  {
   "cell_type": "code",
   "execution_count": null,
   "metadata": {
    "collapsed": false,
    "scrolled": false
   },
   "outputs": [
    {
     "name": "stdout",
     "output_type": "stream",
     "text": [
      "multiple [0.057808285650419129, 0.051995571327439434, 0.076277430760771453, 0.049563179169762273, 0.087924480700794908, 0.12909884276473121, 0.084379088277098641, 0.092971955803355197]\n",
      "best val 0.0495631791698\n",
      "{'_val': <function <lambda> at 0x112e621b8>, 'B': array([[-2.67841292],\n",
      "       [ 0.36493747],\n",
      "       [-0.37777385],\n",
      "       [-0.75905567],\n",
      "       [-0.01516994],\n",
      "       [-0.88211944],\n",
      "       [ 0.59518869],\n",
      "       [-0.08527085],\n",
      "       [ 0.97502096],\n",
      "       [-2.02646307],\n",
      "       [ 0.32399956],\n",
      "       [-1.54682658],\n",
      "       [-0.60360159],\n",
      "       [ 1.27331498],\n",
      "       [-0.51708378],\n",
      "       [ 1.38862851],\n",
      "       [ 2.01288612],\n",
      "       [ 0.68413107],\n",
      "       [ 0.56427354],\n",
      "       [-1.7078286 ],\n",
      "       [-0.12206853],\n",
      "       [ 0.80225435],\n",
      "       [ 2.94022225],\n",
      "       [-0.54400094],\n",
      "       [ 0.54403544],\n",
      "       [-0.3028251 ],\n",
      "       [-0.12364713],\n",
      "       [ 1.07110592],\n",
      "       [ 0.17115598],\n",
      "       [-1.16770231],\n",
      "       [-1.59485838],\n",
      "       [ 1.14986286],\n",
      "       [ 1.70744038],\n",
      "       [-1.79575236],\n",
      "       [-0.31496899],\n",
      "       [ 0.15683393],\n",
      "       [-0.31148949],\n",
      "       [ 0.02116518],\n",
      "       [ 0.189016  ],\n",
      "       [ 0.95552934],\n",
      "       [-0.27450384],\n",
      "       [ 2.76624325],\n",
      "       [ 0.41471943],\n",
      "       [-0.40344704],\n",
      "       [ 0.37136175],\n",
      "       [ 0.36916525],\n",
      "       [-0.81644091],\n",
      "       [-0.04199915],\n",
      "       [ 0.85010445],\n",
      "       [ 0.41746606],\n",
      "       [-0.46616067],\n",
      "       [ 0.71059019],\n",
      "       [-0.12790455],\n",
      "       [ 0.35233641],\n",
      "       [-0.20738558],\n",
      "       [-1.19885717],\n",
      "       [-0.03518435],\n",
      "       [ 0.16736765],\n",
      "       [ 2.16290386],\n",
      "       [ 2.3720928 ],\n",
      "       [ 0.5707539 ],\n",
      "       [-1.28590315],\n",
      "       [-1.77547529],\n",
      "       [-2.216862  ],\n",
      "       [ 2.37247963],\n",
      "       [ 0.06488494],\n",
      "       [ 0.42169801],\n",
      "       [-0.42104571],\n",
      "       [-1.17069085],\n",
      "       [ 1.28497565],\n",
      "       [ 0.02887838],\n",
      "       [ 0.00299419],\n",
      "       [-0.25121374],\n",
      "       [ 1.07923905],\n",
      "       [ 0.04303163],\n",
      "       [-0.11503206],\n",
      "       [ 1.32372207],\n",
      "       [ 1.24667408],\n",
      "       [-0.7737158 ],\n",
      "       [ 0.3568372 ],\n",
      "       [-0.72422427],\n",
      "       [ 2.05526564],\n",
      "       [ 0.578273  ],\n",
      "       [-2.11944084],\n",
      "       [-0.4371689 ],\n",
      "       [ 0.59648878],\n",
      "       [-0.10095571],\n",
      "       [-0.25998183],\n",
      "       [-0.58934681],\n",
      "       [ 1.43606792],\n",
      "       [-1.25967938],\n",
      "       [ 1.68880577],\n",
      "       [ 0.10153703],\n",
      "       [ 1.06567924],\n",
      "       [ 0.55206882],\n",
      "       [-0.18422262],\n",
      "       [ 0.36305483],\n",
      "       [ 0.32450043],\n",
      "       [-1.76642826],\n",
      "       [-0.61890757],\n",
      "       [ 0.87895617],\n",
      "       [-0.04988492],\n",
      "       [ 0.13881838],\n",
      "       [-0.63094262],\n",
      "       [-1.25142049],\n",
      "       [-0.93202705],\n",
      "       [-1.38135842],\n",
      "       [ 1.69249806],\n",
      "       [ 0.47830751],\n",
      "       [-0.21577011],\n",
      "       [-0.44090825],\n",
      "       [ 1.70983578]]), 'b': array([ 0.01021325,  0.27880979])}\n"
     ]
    },
    {
     "data": {
      "image/png": "[encoded data removed]",
      "text/plain": [
       "<IPython.core.display.Image object>"
      ]
     },
     "metadata": {},
     "output_type": "display_data"
    },
    {
     "name": "stdout",
     "output_type": "stream",
     "text": [
      "0.137120085603 squared error\n",
      "0.324009895416 abs error\n",
      "--Return--\n",
      "> /Users/fultonw/Documents/projects/code/domain_adapt/domain_adapt/new/constructors.py(54)simple_plot_b_info()->None\n",
      "-> pdb.set_trace()\n",
      "(Pdb) c\n",
      "multiple [0.087146502725850949, 0.10785755837348276, 0.0790087740768525, 0.098029601335566471, 0.02070397904673011, 0.090292388969299239, 0.064629868246675479, 0.091322951520158346]\n",
      "best val 0.0207039790467\n",
      "{'_val': <function <lambda> at 0x114954c80>, 'B': array([[  1.01486775e-01],\n",
      "       [  1.17912453e-01],\n",
      "       [ -4.75717559e-02],\n",
      "       [  2.53728066e-02],\n",
      "       [  4.07758957e-03],\n",
      "       [ -2.19467336e-01],\n",
      "       [ -1.39090140e-01],\n",
      "       [ -5.37432362e-02],\n",
      "       [ -1.39749089e-01],\n",
      "       [ -3.44305772e-02],\n",
      "       [  1.58307594e-02],\n",
      "       [ -9.03750891e-02],\n",
      "       [  1.64278530e-01],\n",
      "       [  8.97766958e-02],\n",
      "       [  8.51889270e-02],\n",
      "       [  1.12438138e-01],\n",
      "       [ -2.59772789e-02],\n",
      "       [  7.90121083e-02],\n",
      "       [ -6.35907270e-02],\n",
      "       [ -7.08871539e-02],\n",
      "       [  2.58083103e-02],\n",
      "       [  7.85411974e-02],\n",
      "       [  7.91451131e-02],\n",
      "       [  1.08440926e-01],\n",
      "       [  4.18805940e-02],\n",
      "       [ -4.54607623e-02],\n",
      "       [ -2.16872871e-02],\n",
      "       [  8.36043485e-02],\n",
      "       [  4.35119520e-02],\n",
      "       [ -1.00524416e-01],\n",
      "       [ -8.75084798e-02],\n",
      "       [ -1.88828082e-01],\n",
      "       [  1.43513798e-01],\n",
      "       [  9.99630946e-03],\n",
      "       [ -9.53742530e-02],\n",
      "       [  2.16835392e-01],\n",
      "       [  1.57111150e-04],\n",
      "       [ -2.15536567e-01],\n",
      "       [  1.11455177e-01],\n",
      "       [  5.94987619e-02],\n",
      "       [ -5.82886082e-02],\n",
      "       [  2.03902244e-02],\n",
      "       [  4.29111309e-02],\n",
      "       [  7.47852984e-02],\n",
      "       [ -2.44317713e-03],\n",
      "       [  8.39511355e-02],\n",
      "       [  7.14750695e-02],\n",
      "       [ -1.96433588e-02],\n",
      "       [ -4.83471330e-02],\n",
      "       [ -8.06878103e-02],\n",
      "       [ -2.09418337e-02],\n",
      "       [ -1.18331803e-01],\n",
      "       [ -6.64823330e-04],\n",
      "       [  6.36434170e-03],\n",
      "       [  1.16675945e-01],\n",
      "       [  2.43473998e-02],\n",
      "       [ -5.64379529e-02],\n",
      "       [ -3.58530717e-02],\n",
      "       [  9.84352997e-02],\n",
      "       [  1.16831717e-01],\n",
      "       [  6.31962853e-02],\n",
      "       [ -7.14489800e-02],\n",
      "       [  1.15287263e-01],\n",
      "       [  1.62645052e-01],\n",
      "       [  1.40286661e-02],\n",
      "       [ -1.22027090e-01],\n",
      "       [ -6.74761048e-02],\n",
      "       [ -2.15896089e-02],\n",
      "       [ -7.37744687e-02],\n",
      "       [ -1.21384567e-01],\n",
      "       [  1.57191436e-02],\n",
      "       [ -5.46204985e-03],\n",
      "       [ -2.58940188e-02],\n",
      "       [ -4.63468179e-02],\n",
      "       [ -4.48732013e-02],\n",
      "       [ -1.94627595e-01],\n",
      "       [ -1.30994691e-01],\n",
      "       [ -1.21366072e-01],\n",
      "       [  2.26067772e-02],\n",
      "       [  5.26157563e-03],\n",
      "       [ -8.79085742e-02],\n",
      "       [  1.56257786e-01],\n",
      "       [ -7.86898685e-02],\n",
      "       [ -8.83137129e-03],\n",
      "       [  6.07742044e-02],\n",
      "       [  7.77331208e-02],\n",
      "       [  2.80230175e-02],\n",
      "       [  1.28612561e-02],\n",
      "       [  1.96635619e-02],\n",
      "       [  4.98679377e-02],\n",
      "       [ -4.66604949e-02],\n",
      "       [ -1.81383849e-01],\n",
      "       [ -4.43399358e-02],\n",
      "       [ -3.24399614e-03],\n",
      "       [  1.64724385e-01],\n",
      "       [  1.09327252e-01],\n",
      "       [  4.80914015e-02],\n",
      "       [ -2.81985309e-02],\n",
      "       [ -8.02707638e-02],\n",
      "       [  2.88051121e-03],\n",
      "       [ -1.56991021e-01],\n",
      "       [ -9.09136378e-02],\n",
      "       [  2.03538676e-01],\n",
      "       [ -1.49856010e-01],\n",
      "       [  1.37765662e-02],\n",
      "       [ -4.34718089e-02],\n",
      "       [  2.06718546e-01],\n",
      "       [ -5.77872167e-02],\n",
      "       [  7.83025956e-02],\n",
      "       [ -1.46321535e-01],\n",
      "       [ -8.30365713e-02],\n",
      "       [  3.13492035e-02]]), 'b': array([-0.7500231,  0.2087049])}\n"
     ]
    },
    {
     "data": {
      "image/png": "[encoded data removed]",
      "text/plain": [
       "<IPython.core.display.Image object>"
      ]
     },
     "metadata": {},
     "output_type": "display_data"
    },
    {
     "name": "stdout",
     "output_type": "stream",
     "text": [
      "0.358477169749 squared error\n",
      "0.48220745713 abs error\n",
      "--Return--\n",
      "> /Users/fultonw/Documents/projects/code/domain_adapt/domain_adapt/new/constructors.py(54)simple_plot_b_info()->None\n",
      "-> pdb.set_trace()\n"
     ]
    }
   ],
   "source": [
    "# run\n",
    "run.run(random_data_getter, eval_num_trials, eval_which_loss, eval_num_folds, eval_use_test, fitter_infos)"
   ]
  }
 ],
 "metadata": {
  "kernelspec": {
   "display_name": "Python 2",
   "language": "python",
   "name": "python2"
  },
  "language_info": {
   "codemirror_mode": {
    "name": "ipython",
    "version": 2
   },
   "file_extension": ".py",
   "mimetype": "text/x-python",
   "name": "python",
   "nbconvert_exporter": "python",
   "pygments_lexer": "ipython2",
   "version": "2.7.6"
  }
 },
 "nbformat": 4,
 "nbformat_minor": 0
}
