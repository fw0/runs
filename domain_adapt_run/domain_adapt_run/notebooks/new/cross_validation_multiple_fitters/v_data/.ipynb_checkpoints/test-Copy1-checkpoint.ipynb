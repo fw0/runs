{
 "cells": [
  {
   "cell_type": "code",
   "execution_count": 1,
   "metadata": {
    "collapsed": false
   },
   "outputs": [],
   "source": [
    "import constants\n",
    "cache_folder_name = 'test'\n",
    "seed = 44"
   ]
  },
  {
   "cell_type": "code",
   "execution_count": 2,
   "metadata": {
    "collapsed": false
   },
   "outputs": [
    {
     "name": "stdout",
     "output_type": "stream",
     "text": [
      "[Errno 17] File exists: '/Users/fultonw/Documents/projects/runs/domain_adapt_run/domain_adapt_run/notebooks/new/cross_validation_multiple_fitters/v_data/cache/test'\n"
     ]
    }
   ],
   "source": [
    "import autograd.numpy as np\n",
    "np.random.seed(seed)\n",
    "import python_utils.python_utils.basic as basic\n",
    "import python_utils.python_utils.caching as caching\n",
    "log_folder = '%s/%s' % (constants.cache_folder, cache_folder_name)\n",
    "caching.init(constants.cache_folder, constants.which_hash, basic.archiver(log_folder))\n",
    "%load_ext autoreload\n",
    "%autoreload 2\n",
    "import matplotlib\n",
    "matplotlib.use('Agg')"
   ]
  },
  {
   "cell_type": "code",
   "execution_count": 3,
   "metadata": {
    "collapsed": false
   },
   "outputs": [
    {
     "name": "stdout",
     "output_type": "stream",
     "text": [
      "Couldn't import dot_parser, loading of dot files will not be possible.\n"
     ]
    }
   ],
   "source": [
    "import matplotlib.pyplot as plt\n",
    "from IPython.display import display_pretty, display_html\n",
    "import python_utils.python_utils.basic as basic\n",
    "import pandas as pd\n",
    "import pdb\n",
    "import itertools\n",
    "import functools\n",
    "import scipy.stats\n",
    "import scipy\n",
    "import cvxopt\n",
    "import autograd\n",
    "import autograd.numpy as np\n",
    "import domain_adapt.domain_adapt.new.fxns as fxns\n",
    "import domain_adapt.domain_adapt.new.utils as utils\n",
    "import domain_adapt.domain_adapt.new.optimizers as optimizers\n",
    "import domain_adapt.domain_adapt.new.constructors as constructors\n",
    "import domain_adapt.domain_adapt.new.lsif_constructor as lsif_constructor\n",
    "import domain_adapt.domain_adapt.new.cv as cv\n",
    "#import domain_adapt.domain_adapt.SDR_data as data\n",
    "import domain_adapt_run.domain_adapt_run.notebooks.new.cross_validation_multiple_fitters.run as run\n",
    "#import data.domain_adapt_data.domain_adapt_data.fxns as data\n",
    "import domain_adapt.domain_adapt.new.data as data"
   ]
  },
  {
   "cell_type": "code",
   "execution_count": 4,
   "metadata": {
    "collapsed": true
   },
   "outputs": [],
   "source": [
    "# define data getter\n",
    "def random_data_getter(seed):\n",
    "    np.random.seed(seed)\n",
    "    xs_train, xs_test, ys_train, ys_test = data.v_data(\n",
    "        num_train=100, \n",
    "        num_test=50, \n",
    "        useful_dim=1, \n",
    "        same_dim=10, \n",
    "        diff_dim=100\n",
    "    )\n",
    "    return xs_train, xs_test, ys_train, ys_test"
   ]
  },
  {
   "cell_type": "code",
   "execution_count": 5,
   "metadata": {
    "collapsed": true
   },
   "outputs": [],
   "source": [
    "# define evaluation stuff\n",
    "eval_num_trials = 70\n",
    "#eval_num_trials = 10\n",
    "#eval_which_loss = 'square'\n",
    "eval_which_loss = 'abs'\n",
    "#eval_num_folds = 0\n",
    "eval_num_folds = 3\n",
    "eval_use_test = True"
   ]
  },
  {
   "cell_type": "code",
   "execution_count": 6,
   "metadata": {
    "collapsed": false
   },
   "outputs": [],
   "source": [
    "# define my fitter\n",
    "cv_which_loss = 'square'\n",
    "#cv_num_folds = 3\n",
    "cv_num_folds = 0\n",
    "#cv_use_test = False\n",
    "cv_use_test = True\n",
    "predictor_which_loss = 'square'\n",
    "#predictor_which_loss = 'logistic'\n",
    "num_basis = 100\n",
    "u_dim = 1\n",
    "pymanopt_options={'logverbosity':1, 'maxiter':10}\n",
    "many_optimizer_num_cycles = 1\n",
    "num_tries = 2\n",
    "B_init_f_getter = lambda xs_train, ys_train, xs_test: (lambda: np.random.normal(size=(xs_train.shape[1],u_dim)))\n",
    "tradeoff_weight_regs = 2**np.linspace(-3,3,7)\n",
    "#tradeoff_weight_regs = [0.]\n",
    "#tradeoff_weight_regs = 2**np.linspace(-1,1,3)\n",
    "plot_b_info = constructors.simple_plot_b_info\n",
    "#plot_b_info = None\n",
    "fitter_list = [lsif_constructor.lsif_ratio_fitter(predictor_which_loss, num_basis, tradeoff_weight_reg, B_init_f_getter, num_tries=num_tries, pymanopt_options=pymanopt_options, many_optimizer_num_cycles=many_optimizer_num_cycles, plot_b_info=plot_b_info) for tradeoff_weight_reg in tradeoff_weight_regs]\n",
    "my_fitter = cv.cv_fitter(fitter_list, cv_which_loss, cv_num_folds, cv_use_test)"
   ]
  },
  {
   "cell_type": "code",
   "execution_count": 7,
   "metadata": {
    "collapsed": false
   },
   "outputs": [],
   "source": [
    "# define naive weighted fitter\n",
    "#cv_which_loss = 'square'\n",
    "#cv_num_folds = 3\n",
    "#cv_num_folds = 2\n",
    "#cv_use_test = False\n",
    "predictor_which_loss = 'square'\n",
    "num_basis = 100\n",
    "#u_dim = 8\n",
    "#pymanopt_options={'logverbosity':1, 'maxiter':10}\n",
    "many_optimizer_num_cycles = 1\n",
    "num_tries = 1\n",
    "B_init_f_getter = None\n",
    "learn_projection = False\n",
    "learn_weights = True\n",
    "tradeoff_weight_reg = 0.\n",
    "#tradeoff_weight_regs = 2**np.linspace(-3,3,7)\n",
    "#tradeoff_weight_regs = 2**np.linspace(-1,1,3)\n",
    "weighted_fitter = lsif_constructor.lsif_ratio_fitter(predictor_which_loss, num_basis, tradeoff_weight_reg, B_init_f_getter, learn_weights=learn_weights, learn_projection=learn_projection, num_tries=num_tries, many_optimizer_num_cycles=many_optimizer_num_cycles)\n",
    "#fitter = cv.cv_fitter(fitter_list, cv_which_loss, cv_num_folds, cv_use_test)"
   ]
  },
  {
   "cell_type": "code",
   "execution_count": 8,
   "metadata": {
    "collapsed": true
   },
   "outputs": [],
   "source": [
    "# define random projection weighted fitter\n",
    "#cv_which_loss = 'square'\n",
    "#cv_num_folds = 3\n",
    "#cv_num_folds = 2\n",
    "#cv_use_test = False\n",
    "predictor_which_loss = 'square'\n",
    "num_basis = 100\n",
    "#u_dim = 8\n",
    "#pymanopt_options={'logverbosity':1, 'maxiter':10}\n",
    "many_optimizer_num_cycles = 1\n",
    "num_tries = 1\n",
    "B_init_f_getter = None\n",
    "learn_projection = False\n",
    "learn_weights = True\n",
    "random_projection = 1\n",
    "tradeoff_weight_reg = 0.\n",
    "#plot_b_info = constructors.simple_plot_b_info\n",
    "plot_b_info = None\n",
    "#tradeoff_weight_regs = 2**np.linspace(-3,3,7)\n",
    "#tradeoff_weight_regs = 2**np.linspace(-1,1,3)\n",
    "random_projection_weighted_fitter = lsif_constructor.lsif_ratio_fitter(predictor_which_loss, num_basis, tradeoff_weight_reg, B_init_f_getter, random_projection=random_projection, learn_weights=learn_weights, learn_projection=learn_projection, num_tries=num_tries, many_optimizer_num_cycles=many_optimizer_num_cycles, plot_b_info=plot_b_info)\n",
    "#fitter = cv.cv_fitter(fitter_list, cv_which_loss, cv_num_folds, cv_use_test)"
   ]
  },
  {
   "cell_type": "code",
   "execution_count": 9,
   "metadata": {
    "collapsed": false
   },
   "outputs": [],
   "source": [
    "# define unweighted baseline\n",
    "#cv_which_loss = 'square'\n",
    "#cv_num_folds = 3\n",
    "#cv_num_folds = 2\n",
    "#cv_use_test = False\n",
    "predictor_which_loss = 'square'\n",
    "num_basis = 100\n",
    "#u_dim = 8\n",
    "#pymanopt_options={'logverbosity':1, 'maxiter':10}\n",
    "many_optimizer_num_cycles = 1\n",
    "num_tries = 1\n",
    "B_init_f_getter = None\n",
    "learn_projection = False\n",
    "learn_weights = False\n",
    "tradeoff_weight_reg = 0.\n",
    "#tradeoff_weight_regs = 2**np.linspace(-3,3,7)\n",
    "#tradeoff_weight_regs = 2**np.linspace(-1,1,3)\n",
    "unweighted_fitter = lsif_constructor.lsif_ratio_fitter(predictor_which_loss, num_basis, tradeoff_weight_reg, B_init_f_getter, learn_weights=learn_weights, learn_projection=learn_projection, num_tries=num_tries, many_optimizer_num_cycles=many_optimizer_num_cycles)\n",
    "#fitter = cv.cv_fitter(fitter_list, cv_which_loss, cv_num_folds, cv_use_test)"
   ]
  },
  {
   "cell_type": "code",
   "execution_count": 10,
   "metadata": {
    "collapsed": true
   },
   "outputs": [],
   "source": [
    "#\n",
    "fitter_infos = [\n",
    "#    ('mine', my_fitter),\n",
    "#    ('unweighted', unweighted_fitter),\n",
    "#    ('weighted', weighted_fitter),\n",
    "    ('random_weighted', random_projection_weighted_fitter)\n",
    "]"
   ]
  },
  {
   "cell_type": "code",
   "execution_count": 11,
   "metadata": {
    "collapsed": false,
    "scrolled": false
   },
   "outputs": [
    {
     "name": "stdout",
     "output_type": "stream",
     "text": [
      "0.0 tradeoff_weight_reg\n",
      "try 0\n",
      "0.289857952018 mean dist\n",
      "[ 0.07044743  0.15218078  0.16850598  0.23069659  0.24823193  0.29555433\n",
      "  0.31872519  0.36626732  0.54584633] sigma_range\n",
      "{'_val': <function <lambda> at 0x112630c80>, 'B': array([[ 0.00920772],\n",
      "       [ 0.07115882],\n",
      "       [ 0.12779338],\n",
      "       [-0.04980097],\n",
      "       [ 0.07164465],\n",
      "       [-0.01146506],\n",
      "       [-0.03823397],\n",
      "       [ 0.02251371],\n",
      "       [ 0.06765388],\n",
      "       [ 0.06099614],\n",
      "       [ 0.03569692],\n",
      "       [-0.05082576],\n",
      "       [-0.04723451],\n",
      "       [ 0.17097837],\n",
      "       [-0.12907013],\n",
      "       [ 0.10029047],\n",
      "       [-0.23733662],\n",
      "       [ 0.0071237 ],\n",
      "       [-0.08079517],\n",
      "       [-0.02708201],\n",
      "       [-0.1501141 ],\n",
      "       [-0.00250875],\n",
      "       [-0.18642908],\n",
      "       [ 0.05982011],\n",
      "       [ 0.05052359],\n",
      "       [-0.05319508],\n",
      "       [ 0.07496201],\n",
      "       [ 0.03494627],\n",
      "       [-0.11747232],\n",
      "       [ 0.03917579],\n",
      "       [ 0.13033105],\n",
      "       [-0.02452086],\n",
      "       [ 0.04466439],\n",
      "       [-0.08069392],\n",
      "       [ 0.06350934],\n",
      "       [ 0.02305377],\n",
      "       [ 0.06362868],\n",
      "       [ 0.06899463],\n",
      "       [ 0.08313724],\n",
      "       [ 0.04530815],\n",
      "       [-0.03350257],\n",
      "       [ 0.03002136],\n",
      "       [ 0.01137944],\n",
      "       [-0.20467779],\n",
      "       [-0.09391095],\n",
      "       [-0.08158252],\n",
      "       [ 0.05825323],\n",
      "       [ 0.06024258],\n",
      "       [ 0.01400637],\n",
      "       [ 0.09177111],\n",
      "       [ 0.11707053],\n",
      "       [-0.00174781],\n",
      "       [-0.0412968 ],\n",
      "       [ 0.09750272],\n",
      "       [ 0.07152644],\n",
      "       [ 0.01059465],\n",
      "       [-0.0141155 ],\n",
      "       [-0.02811513],\n",
      "       [-0.01548057],\n",
      "       [ 0.12301957],\n",
      "       [ 0.09888694],\n",
      "       [-0.08899836],\n",
      "       [-0.02885558],\n",
      "       [-0.05192333],\n",
      "       [-0.14257105],\n",
      "       [ 0.00719321],\n",
      "       [-0.04857702],\n",
      "       [ 0.00650876],\n",
      "       [-0.1836246 ],\n",
      "       [ 0.1004997 ],\n",
      "       [ 0.17205393],\n",
      "       [ 0.02115709],\n",
      "       [ 0.07425497],\n",
      "       [-0.15503648],\n",
      "       [-0.17093342],\n",
      "       [ 0.05814361],\n",
      "       [ 0.0204934 ],\n",
      "       [-0.06027532],\n",
      "       [-0.02416528],\n",
      "       [ 0.06981844],\n",
      "       [-0.14617449],\n",
      "       [ 0.04174306],\n",
      "       [-0.16535571],\n",
      "       [ 0.04533702],\n",
      "       [-0.12812313],\n",
      "       [-0.08181549],\n",
      "       [ 0.05788941],\n",
      "       [-0.23963258],\n",
      "       [ 0.18670307],\n",
      "       [-0.09469406],\n",
      "       [-0.05716622],\n",
      "       [ 0.05104004],\n",
      "       [ 0.11965225],\n",
      "       [-0.17789147],\n",
      "       [ 0.04670442],\n",
      "       [-0.05889537],\n",
      "       [ 0.18880532],\n",
      "       [-0.07765672],\n",
      "       [ 0.13772043],\n",
      "       [ 0.03714872],\n",
      "       [ 0.03031696],\n",
      "       [-0.09908552],\n",
      "       [ 0.05304052],\n",
      "       [ 0.00886178],\n",
      "       [ 0.18436305],\n",
      "       [ 0.07065246],\n",
      "       [-0.00159593],\n",
      "       [-0.01539723],\n",
      "       [ 0.13245862],\n",
      "       [-0.06292092],\n",
      "       [ 0.07207927],\n",
      "       [ 0.0864698 ]]), 'b': array([ 0.04573076,  0.28911065])}\n"
     ]
    },
    {
     "data": {
      "image/png": "[encoded data removed]",
      "text/plain": [
       "<IPython.core.display.Image object>"
      ]
     },
     "metadata": {},
     "output_type": "display_data"
    },
    {
     "name": "stdout",
     "output_type": "stream",
     "text": [
      "0.1306004534 squared error\n",
      "0.313089325841 abs error\n",
      "--Return--\n",
      "> /Users/fultonw/Documents/projects/code/domain_adapt/domain_adapt/new/constructors.py(51)simple_plot_b_info()->None\n",
      "-> pdb.set_trace()\n",
      "(Pdb) q\n"
     ]
    },
    {
     "ename": "BdbQuit",
     "evalue": "",
     "output_type": "error",
     "traceback": [
      "\u001b[0;31m---------------------------------------------------------------------------\u001b[0m",
      "\u001b[0;31mBdbQuit\u001b[0m                                   Traceback (most recent call last)",
      "\u001b[0;32m<ipython-input-11-fee892bc9516>\u001b[0m in \u001b[0;36m<module>\u001b[0;34m()\u001b[0m\n\u001b[1;32m      1\u001b[0m \u001b[0;31m# run\u001b[0m\u001b[0;34m\u001b[0m\u001b[0;34m\u001b[0m\u001b[0m\n\u001b[0;32m----> 2\u001b[0;31m \u001b[0mrun\u001b[0m\u001b[0;34m.\u001b[0m\u001b[0mrun\u001b[0m\u001b[0;34m(\u001b[0m\u001b[0mrandom_data_getter\u001b[0m\u001b[0;34m,\u001b[0m \u001b[0meval_num_trials\u001b[0m\u001b[0;34m,\u001b[0m \u001b[0meval_which_loss\u001b[0m\u001b[0;34m,\u001b[0m \u001b[0meval_num_folds\u001b[0m\u001b[0;34m,\u001b[0m \u001b[0meval_use_test\u001b[0m\u001b[0;34m,\u001b[0m \u001b[0mfitter_infos\u001b[0m\u001b[0;34m)\u001b[0m\u001b[0;34m\u001b[0m\u001b[0m\n\u001b[0m",
      "\u001b[0;32m/Users/fultonw/Documents/projects/runs/domain_adapt_run/domain_adapt_run/notebooks/new/cross_validation_multiple_fitters/run.pyc\u001b[0m in \u001b[0;36mrun\u001b[0;34m(random_data_getter, num_trials, which_loss, num_folds, use_test, fitter_infos)\u001b[0m\n\u001b[1;32m     19\u001b[0m \u001b[0;34m\u001b[0m\u001b[0m\n\u001b[1;32m     20\u001b[0m             \u001b[0;31m#trial_losses = cv.get_oos_loss(which_loss, num_folds, use_test, fitter, xs_train, xs_test, ys_train, ys_test=ys_test if use_test else None)\u001b[0m\u001b[0;34m\u001b[0m\u001b[0;34m\u001b[0m\u001b[0m\n\u001b[0;32m---> 21\u001b[0;31m             \u001b[0mtrial_losses\u001b[0m \u001b[0;34m=\u001b[0m \u001b[0mcv\u001b[0m\u001b[0;34m.\u001b[0m\u001b[0mget_oos_loss\u001b[0m\u001b[0;34m(\u001b[0m\u001b[0mwhich_loss\u001b[0m\u001b[0;34m,\u001b[0m \u001b[0mnum_folds\u001b[0m\u001b[0;34m,\u001b[0m \u001b[0muse_test\u001b[0m\u001b[0;34m,\u001b[0m \u001b[0mfitter\u001b[0m\u001b[0;34m,\u001b[0m \u001b[0mxs_train\u001b[0m\u001b[0;34m,\u001b[0m \u001b[0mxs_test\u001b[0m\u001b[0;34m,\u001b[0m \u001b[0mys_train\u001b[0m\u001b[0;34m,\u001b[0m \u001b[0mys_test\u001b[0m\u001b[0;34m=\u001b[0m\u001b[0mys_test\u001b[0m\u001b[0;34m)\u001b[0m\u001b[0;34m\u001b[0m\u001b[0m\n\u001b[0m\u001b[1;32m     22\u001b[0m \u001b[0;34m\u001b[0m\u001b[0m\n\u001b[1;32m     23\u001b[0m \u001b[0;34m\u001b[0m\u001b[0m\n",
      "\u001b[0;32m/Users/fultonw/Documents/projects/code/domain_adapt/domain_adapt/new/cv.pyc\u001b[0m in \u001b[0;36mget_oos_loss\u001b[0;34m(which_loss, num_folds, use_test, fitter, xs_train, xs_test, ys_train, ys_test)\u001b[0m\n\u001b[1;32m     25\u001b[0m             \u001b[0mys_test_is\u001b[0m \u001b[0;34m=\u001b[0m \u001b[0mys_test\u001b[0m\u001b[0;34m[\u001b[0m\u001b[0mtest_is_idx\u001b[0m\u001b[0;34m]\u001b[0m\u001b[0;34m\u001b[0m\u001b[0m\n\u001b[1;32m     26\u001b[0m             \u001b[0mys_test_oos\u001b[0m \u001b[0;34m=\u001b[0m \u001b[0mys_test\u001b[0m\u001b[0;34m[\u001b[0m\u001b[0mtest_oos_idx\u001b[0m\u001b[0;34m]\u001b[0m\u001b[0;34m\u001b[0m\u001b[0m\n\u001b[0;32m---> 27\u001b[0;31m             \u001b[0mforward_predictor\u001b[0m \u001b[0;34m=\u001b[0m \u001b[0mfitter\u001b[0m\u001b[0;34m(\u001b[0m\u001b[0mxs_train_is\u001b[0m\u001b[0;34m,\u001b[0m \u001b[0mxs_test_is\u001b[0m\u001b[0;34m,\u001b[0m \u001b[0mys_train_is\u001b[0m\u001b[0;34m,\u001b[0m \u001b[0mys_test_is\u001b[0m\u001b[0;34m)\u001b[0m\u001b[0;34m\u001b[0m\u001b[0m\n\u001b[0m\u001b[1;32m     28\u001b[0m             \u001b[0mpredicted_ys_test_oos\u001b[0m \u001b[0;34m=\u001b[0m \u001b[0mnp\u001b[0m\u001b[0;34m.\u001b[0m\u001b[0marray\u001b[0m\u001b[0;34m(\u001b[0m\u001b[0mmap\u001b[0m\u001b[0;34m(\u001b[0m\u001b[0mforward_predictor\u001b[0m\u001b[0;34m,\u001b[0m \u001b[0mxs_test_oos\u001b[0m\u001b[0;34m)\u001b[0m\u001b[0;34m)\u001b[0m\u001b[0;34m\u001b[0m\u001b[0m\n\u001b[1;32m     29\u001b[0m             \u001b[0;32mif\u001b[0m \u001b[0muse_test\u001b[0m\u001b[0;34m:\u001b[0m\u001b[0;34m\u001b[0m\u001b[0m\n",
      "\u001b[0;32m/Users/fultonw/Documents/projects/code/domain_adapt/domain_adapt/new/lsif_constructor.py\u001b[0m in \u001b[0;36mfitter\u001b[0;34m(xs_train, xs_test, ys_train, ys_test)\u001b[0m\n\u001b[1;32m    631\u001b[0m \u001b[0;34m\u001b[0m\u001b[0m\n\u001b[1;32m    632\u001b[0m         \u001b[0;32mif\u001b[0m \u001b[0;32mnot\u001b[0m \u001b[0mplot_b_info\u001b[0m \u001b[0;32mis\u001b[0m \u001b[0mNone\u001b[0m\u001b[0;34m:\u001b[0m\u001b[0;34m\u001b[0m\u001b[0m\n\u001b[0;32m--> 633\u001b[0;31m             \u001b[0mplot_b_info\u001b[0m\u001b[0;34m(\u001b[0m\u001b[0mxs_train\u001b[0m\u001b[0;34m,\u001b[0m \u001b[0mxs_test\u001b[0m\u001b[0;34m,\u001b[0m \u001b[0mys_train\u001b[0m\u001b[0;34m,\u001b[0m \u001b[0mys_test\u001b[0m\u001b[0;34m,\u001b[0m \u001b[0mws_train\u001b[0m\u001b[0;34m,\u001b[0m \u001b[0mpredictor\u001b[0m\u001b[0;34m)\u001b[0m\u001b[0;34m\u001b[0m\u001b[0m\n\u001b[0m\u001b[1;32m    634\u001b[0m             \u001b[0;31m#plot_b_info(xs_train, xs_test, ys_train, ys_test, b_predictor / np.linalg.norm(b_predictor), ws_train, predictor)\u001b[0m\u001b[0;34m\u001b[0m\u001b[0;34m\u001b[0m\u001b[0m\n\u001b[1;32m    635\u001b[0m \u001b[0;34m\u001b[0m\u001b[0m\n",
      "\u001b[0;32m/Users/fultonw/Documents/projects/code/domain_adapt/domain_adapt/new/constructors.pyc\u001b[0m in \u001b[0;36msimple_plot_b_info\u001b[0;34m(xs_train, xs_test, ys_train, ys_test, ratios, predictor)\u001b[0m\n\u001b[1;32m     49\u001b[0m     \u001b[0;32mprint\u001b[0m \u001b[0mnp\u001b[0m\u001b[0;34m.\u001b[0m\u001b[0mmean\u001b[0m\u001b[0;34m(\u001b[0m\u001b[0merror\u001b[0m\u001b[0;34m*\u001b[0m\u001b[0merror\u001b[0m\u001b[0;34m)\u001b[0m\u001b[0;34m,\u001b[0m \u001b[0;34m'squared error'\u001b[0m\u001b[0;34m\u001b[0m\u001b[0m\n\u001b[1;32m     50\u001b[0m     \u001b[0;32mprint\u001b[0m \u001b[0mnp\u001b[0m\u001b[0;34m.\u001b[0m\u001b[0mmean\u001b[0m\u001b[0;34m(\u001b[0m\u001b[0mnp\u001b[0m\u001b[0;34m.\u001b[0m\u001b[0mabs\u001b[0m\u001b[0;34m(\u001b[0m\u001b[0mpredicted_ys_test\u001b[0m\u001b[0;34m-\u001b[0m\u001b[0mys_test\u001b[0m\u001b[0;34m)\u001b[0m\u001b[0;34m)\u001b[0m\u001b[0;34m,\u001b[0m \u001b[0;34m'abs error'\u001b[0m\u001b[0;34m\u001b[0m\u001b[0m\n\u001b[0;32m---> 51\u001b[0;31m     \u001b[0mpdb\u001b[0m\u001b[0;34m.\u001b[0m\u001b[0mset_trace\u001b[0m\u001b[0;34m(\u001b[0m\u001b[0;34m)\u001b[0m\u001b[0;34m\u001b[0m\u001b[0m\n\u001b[0m\u001b[1;32m     52\u001b[0m \u001b[0;34m\u001b[0m\u001b[0m\n\u001b[1;32m     53\u001b[0m \u001b[0;32mdef\u001b[0m \u001b[0mplot_b_info\u001b[0m\u001b[0;34m(\u001b[0m\u001b[0mxs_train\u001b[0m\u001b[0;34m,\u001b[0m \u001b[0mxs_test\u001b[0m\u001b[0;34m,\u001b[0m \u001b[0mys_train\u001b[0m\u001b[0;34m,\u001b[0m \u001b[0mys_test\u001b[0m\u001b[0;34m,\u001b[0m \u001b[0mb\u001b[0m\u001b[0;34m,\u001b[0m \u001b[0mratios\u001b[0m\u001b[0;34m,\u001b[0m \u001b[0mpredictor\u001b[0m\u001b[0;34m)\u001b[0m\u001b[0;34m:\u001b[0m\u001b[0;34m\u001b[0m\u001b[0m\n",
      "\u001b[0;32m/Applications/Canopy.app/appdata/canopy-1.4.1.1975.macosx-x86_64/Canopy.app/Contents/lib/python2.7/bdb.pyc\u001b[0m in \u001b[0;36mtrace_dispatch\u001b[0;34m(self, frame, event, arg)\u001b[0m\n\u001b[1;32m     51\u001b[0m             \u001b[0;32mreturn\u001b[0m \u001b[0mself\u001b[0m\u001b[0;34m.\u001b[0m\u001b[0mdispatch_call\u001b[0m\u001b[0;34m(\u001b[0m\u001b[0mframe\u001b[0m\u001b[0;34m,\u001b[0m \u001b[0marg\u001b[0m\u001b[0;34m)\u001b[0m\u001b[0;34m\u001b[0m\u001b[0m\n\u001b[1;32m     52\u001b[0m         \u001b[0;32mif\u001b[0m \u001b[0mevent\u001b[0m \u001b[0;34m==\u001b[0m \u001b[0;34m'return'\u001b[0m\u001b[0;34m:\u001b[0m\u001b[0;34m\u001b[0m\u001b[0m\n\u001b[0;32m---> 53\u001b[0;31m             \u001b[0;32mreturn\u001b[0m \u001b[0mself\u001b[0m\u001b[0;34m.\u001b[0m\u001b[0mdispatch_return\u001b[0m\u001b[0;34m(\u001b[0m\u001b[0mframe\u001b[0m\u001b[0;34m,\u001b[0m \u001b[0marg\u001b[0m\u001b[0;34m)\u001b[0m\u001b[0;34m\u001b[0m\u001b[0m\n\u001b[0m\u001b[1;32m     54\u001b[0m         \u001b[0;32mif\u001b[0m \u001b[0mevent\u001b[0m \u001b[0;34m==\u001b[0m \u001b[0;34m'exception'\u001b[0m\u001b[0;34m:\u001b[0m\u001b[0;34m\u001b[0m\u001b[0m\n\u001b[1;32m     55\u001b[0m             \u001b[0;32mreturn\u001b[0m \u001b[0mself\u001b[0m\u001b[0;34m.\u001b[0m\u001b[0mdispatch_exception\u001b[0m\u001b[0;34m(\u001b[0m\u001b[0mframe\u001b[0m\u001b[0;34m,\u001b[0m \u001b[0marg\u001b[0m\u001b[0;34m)\u001b[0m\u001b[0;34m\u001b[0m\u001b[0m\n",
      "\u001b[0;32m/Applications/Canopy.app/appdata/canopy-1.4.1.1975.macosx-x86_64/Canopy.app/Contents/lib/python2.7/bdb.pyc\u001b[0m in \u001b[0;36mdispatch_return\u001b[0;34m(self, frame, arg)\u001b[0m\n\u001b[1;32m     89\u001b[0m             \u001b[0;32mfinally\u001b[0m\u001b[0;34m:\u001b[0m\u001b[0;34m\u001b[0m\u001b[0m\n\u001b[1;32m     90\u001b[0m                 \u001b[0mself\u001b[0m\u001b[0;34m.\u001b[0m\u001b[0mframe_returning\u001b[0m \u001b[0;34m=\u001b[0m \u001b[0mNone\u001b[0m\u001b[0;34m\u001b[0m\u001b[0m\n\u001b[0;32m---> 91\u001b[0;31m             \u001b[0;32mif\u001b[0m \u001b[0mself\u001b[0m\u001b[0;34m.\u001b[0m\u001b[0mquitting\u001b[0m\u001b[0;34m:\u001b[0m \u001b[0;32mraise\u001b[0m \u001b[0mBdbQuit\u001b[0m\u001b[0;34m\u001b[0m\u001b[0m\n\u001b[0m\u001b[1;32m     92\u001b[0m         \u001b[0;32mreturn\u001b[0m \u001b[0mself\u001b[0m\u001b[0;34m.\u001b[0m\u001b[0mtrace_dispatch\u001b[0m\u001b[0;34m\u001b[0m\u001b[0m\n\u001b[1;32m     93\u001b[0m \u001b[0;34m\u001b[0m\u001b[0m\n",
      "\u001b[0;31mBdbQuit\u001b[0m: "
     ]
    }
   ],
   "source": [
    "# run\n",
    "run.run(random_data_getter, eval_num_trials, eval_which_loss, eval_num_folds, eval_use_test, fitter_infos)"
   ]
  }
 ],
 "metadata": {
  "kernelspec": {
   "display_name": "Python 2",
   "language": "python",
   "name": "python2"
  },
  "language_info": {
   "codemirror_mode": {
    "name": "ipython",
    "version": 2
   },
   "file_extension": ".py",
   "mimetype": "text/x-python",
   "name": "python",
   "nbconvert_exporter": "python",
   "pygments_lexer": "ipython2",
   "version": "2.7.6"
  }
 },
 "nbformat": 4,
 "nbformat_minor": 0
}
