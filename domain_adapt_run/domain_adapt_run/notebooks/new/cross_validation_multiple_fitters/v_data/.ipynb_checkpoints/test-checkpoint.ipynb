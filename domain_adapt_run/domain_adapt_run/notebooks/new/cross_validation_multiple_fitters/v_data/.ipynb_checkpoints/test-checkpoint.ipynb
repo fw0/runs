{
 "cells": [
  {
   "cell_type": "code",
   "execution_count": 1,
   "metadata": {
    "collapsed": false
   },
   "outputs": [],
   "source": [
    "import constants\n",
    "cache_folder_name = 'test'\n",
    "seed = 44"
   ]
  },
  {
   "cell_type": "code",
   "execution_count": 2,
   "metadata": {
    "collapsed": false
   },
   "outputs": [
    {
     "name": "stdout",
     "output_type": "stream",
     "text": [
      "[Errno 17] File exists: '/Users/fultonw/Documents/projects/runs/domain_adapt_run/domain_adapt_run/notebooks/new/cross_validation_multiple_fitters/v_data/cache/test'\n"
     ]
    }
   ],
   "source": [
    "import autograd.numpy as np\n",
    "np.random.seed(seed)\n",
    "import python_utils.python_utils.basic as basic\n",
    "import python_utils.python_utils.caching as caching\n",
    "log_folder = '%s/%s' % (constants.cache_folder, cache_folder_name)\n",
    "caching.init(constants.cache_folder, constants.which_hash, basic.archiver(log_folder))\n",
    "%load_ext autoreload\n",
    "%autoreload 2\n",
    "import matplotlib\n",
    "matplotlib.use('Agg')"
   ]
  },
  {
   "cell_type": "code",
   "execution_count": 3,
   "metadata": {
    "collapsed": false
   },
   "outputs": [
    {
     "name": "stdout",
     "output_type": "stream",
     "text": [
      "Couldn't import dot_parser, loading of dot files will not be possible.\n"
     ]
    }
   ],
   "source": [
    "import matplotlib.pyplot as plt\n",
    "from IPython.display import display_pretty, display_html\n",
    "import python_utils.python_utils.basic as basic\n",
    "import pandas as pd\n",
    "import pdb\n",
    "import itertools\n",
    "import functools\n",
    "import scipy.stats\n",
    "import scipy\n",
    "import cvxopt\n",
    "import autograd\n",
    "import autograd.numpy as np\n",
    "import domain_adapt.domain_adapt.new.fxns as fxns\n",
    "import domain_adapt.domain_adapt.new.utils as utils\n",
    "import domain_adapt.domain_adapt.new.optimizers as optimizers\n",
    "import domain_adapt.domain_adapt.new.constructors as constructors\n",
    "import domain_adapt.domain_adapt.new.lsif_constructor as lsif_constructor\n",
    "import domain_adapt.domain_adapt.new.cv as cv\n",
    "#import domain_adapt.domain_adapt.SDR_data as data\n",
    "import domain_adapt_run.domain_adapt_run.notebooks.new.cross_validation_multiple_fitters.run as run\n",
    "#import data.domain_adapt_data.domain_adapt_data.fxns as data\n",
    "import domain_adapt.domain_adapt.new.data as data"
   ]
  },
  {
   "cell_type": "code",
   "execution_count": 4,
   "metadata": {
    "collapsed": true
   },
   "outputs": [],
   "source": [
    "# define data getter\n",
    "def random_data_getter(seed):\n",
    "    np.random.seed(seed)\n",
    "    #xs_train, xs_test, ys_train, ys_test = data.v_data(\n",
    "    #    num_train=100, \n",
    "    #    num_test=50, \n",
    "    #    useful_dim=1, \n",
    "    #    same_dim=10, \n",
    "    #    diff_dim=100\n",
    "    #)\n",
    "    #xs_train, xs_test, ys_train, ys_test = data.v_data(\n",
    "    #    num_train=1000, \n",
    "    #    num_test=500, \n",
    "    #    useful_dim=1, \n",
    "    #    same_dim=5, \n",
    "    #    diff_dim=10\n",
    "    #)\n",
    "    xs_train, xs_test, ys_train, ys_test = data.v_data(\n",
    "        num_train=200, \n",
    "        num_test=100, \n",
    "        useful_dim=1, \n",
    "        same_dim=1, \n",
    "        diff_dim=10\n",
    "    )\n",
    "    return xs_train, xs_test, ys_train, ys_test"
   ]
  },
  {
   "cell_type": "code",
   "execution_count": 5,
   "metadata": {
    "collapsed": true
   },
   "outputs": [],
   "source": [
    "# define evaluation stuff\n",
    "eval_num_trials = 10\n",
    "#eval_num_trials = 10\n",
    "#eval_which_loss = 'square'\n",
    "eval_which_loss = 'abs'\n",
    "#eval_num_folds = 0\n",
    "eval_num_folds = 3\n",
    "eval_use_test = True"
   ]
  },
  {
   "cell_type": "code",
   "execution_count": 6,
   "metadata": {
    "collapsed": false
   },
   "outputs": [],
   "source": [
    "# define my fitter\n",
    "cv_which_loss = 'square'\n",
    "#cv_num_folds = 3\n",
    "cv_num_folds = 0\n",
    "#cv_use_test = False\n",
    "cv_use_test = True\n",
    "predictor_which_loss = 'square'\n",
    "#predictor_which_loss = 'logistic'\n",
    "num_basis = 100\n",
    "u_dim = 1\n",
    "pymanopt_options={'logverbosity':1, 'maxiter':10}\n",
    "many_optimizer_num_cycles = 5\n",
    "#num_tries = 2\n",
    "num_tries = 10\n",
    "#B_init_f_getter = lambda xs_train, ys_train, xs_test: (lambda: utils.ortho(np.random.normal(size=(xs_train.shape[1],u_dim))))\n",
    "#tradeoff_weight_regs = 2**np.linspace(-9,4,12)\n",
    "tradeoff_weight_regs = [0.03125]\n",
    "#tradeoff_weight_regs = 2**np.linspace(-1,1,3)\n",
    "#plot_b_info = constructors.simple_plot_b_info\n",
    "plot_b_info = None\n",
    "c_ll = None\n",
    "fitter_constructor = lambda tradeoff_weight_reg: lsif_constructor.lsif_ratio_fitter(predictor_which_loss, num_basis, tradeoff_weight_reg, u_dim, _c_ll=c_ll, num_tries=num_tries, pymanopt_options=pymanopt_options, many_optimizer_num_cycles=many_optimizer_num_cycles, plot_b_info=plot_b_info)\n",
    "arg_dicts = [{'tradeoff_weight_reg':tradeoff_weight_reg} for tradeoff_weight_reg in tradeoff_weight_regs]\n",
    "fitter_list = [lsif_constructor.lsif_ratio_fitter(predictor_which_loss, num_basis, tradeoff_weight_reg, u_dim, _c_ll=c_ll, num_tries=num_tries, pymanopt_options=pymanopt_options, many_optimizer_num_cycles=many_optimizer_num_cycles, plot_b_info=plot_b_info) for tradeoff_weight_reg in tradeoff_weight_regs]\n",
    "my_fitter = cv.cv_fitter(fitter_constructor, arg_dicts, cv_which_loss, cv_num_folds, cv_use_test)"
   ]
  },
  {
   "cell_type": "code",
   "execution_count": 7,
   "metadata": {
    "collapsed": true
   },
   "outputs": [],
   "source": [
    "# define kde my fitter\n",
    "cv_which_loss = 'square'\n",
    "#cv_num_folds = 3\n",
    "cv_num_folds = 0\n",
    "#cv_use_test = False\n",
    "cv_use_test = True\n",
    "predictor_which_loss = 'square'\n",
    "#predictor_which_loss = 'logistic'\n",
    "num_basis = 100\n",
    "u_dim = 1\n",
    "pymanopt_options={'logverbosity':1, 'maxiter':10}\n",
    "many_optimizer_num_cycles = 5\n",
    "#num_tries = 2\n",
    "num_tries = 10\n",
    "#B_init_f_getter = lambda xs_train, ys_train, xs_test: (lambda: utils.ortho(np.random.normal(size=(xs_train.shape[1],u_dim))))\n",
    "tradeoff_weight_regs = 2**np.linspace(-9,4,12)\n",
    "#tradeoff_weight_regs = [0.]\n",
    "#tradeoff_weight_regs = [0.03125]\n",
    "#tradeoff_weight_regs = 2**np.linspace(-1,1,3)\n",
    "#plot_b_info = constructors.simple_plot_b_info\n",
    "plot_b_info = None\n",
    "c_ll = None\n",
    "fitter_constructor = lambda tradeoff_weight_reg: lsif_constructor.lsif_ratio_fitter(predictor_which_loss, num_basis, tradeoff_weight_reg, u_dim, _c_ll=c_ll, KDE_ratio=True, num_tries=num_tries, pymanopt_options=pymanopt_options, many_optimizer_num_cycles=many_optimizer_num_cycles, plot_b_info=plot_b_info)\n",
    "arg_dicts = [{'tradeoff_weight_reg':tradeoff_weight_reg} for tradeoff_weight_reg in tradeoff_weight_regs]\n",
    "#fitter_list = [lsif_constructor.lsif_ratio_fitter(predictor_which_loss, num_basis, tradeoff_weight_reg, u_dim, _c_ll=c_ll, KDE_ratio=True, num_tries=num_tries, pymanopt_options=pymanopt_options, many_optimizer_num_cycles=many_optimizer_num_cycles, plot_b_info=plot_b_info) for tradeoff_weight_reg in tradeoff_weight_regs]\n",
    "#kde_my_fitter = cv.cv_fitter(fitter_list, cv_which_loss, cv_num_folds, cv_use_test)\n",
    "kde_my_fitter = cv.cv_fitter(fitter_constructor, arg_dicts, cv_which_loss, cv_num_folds, cv_use_test)"
   ]
  },
  {
   "cell_type": "code",
   "execution_count": 8,
   "metadata": {
    "collapsed": false
   },
   "outputs": [
    {
     "name": "stdout",
     "output_type": "stream",
     "text": [
      "[  1.52587891e-05   5.00692966e-05   1.64294457e-04   5.39106208e-04\n",
      "   1.76899153e-03   5.80466519e-03   1.90470883e-02   6.25000000e-02] UBs\n"
     ]
    }
   ],
   "source": [
    "# define kde my fitter, with upper bound\n",
    "cv_which_loss = 'square'\n",
    "#cv_num_folds = 3\n",
    "cv_num_folds = 0\n",
    "#cv_use_test = False\n",
    "cv_use_test = True\n",
    "predictor_which_loss = 'square'\n",
    "#predictor_which_loss = 'logistic'\n",
    "num_basis = 100\n",
    "u_dim = 1\n",
    "pymanopt_options={'logverbosity':1, 'maxiter':10}\n",
    "many_optimizer_num_cycles = 5\n",
    "#num_tries = 2\n",
    "num_tries = 10\n",
    "#B_init_f_getter = lambda xs_train, ys_train, xs_test: (lambda: utils.ortho(np.random.normal(size=(xs_train.shape[1],u_dim))))\n",
    "#tradeoff_weight_regs = 2**np.linspace(-9,4,12)\n",
    "tradeoff_weight_regs = [0.001]\n",
    "#tradeoff_weight_regs = 2**np.linspace(-1,1,3)\n",
    "tradeoff_UBs = 2**np.linspace(-16,-4,8)\n",
    "print tradeoff_UBs, 'UBs'\n",
    "#tradeoff_UBs = [0.]\n",
    "#plot_b_info = constructors.simple_plot_b_info\n",
    "plot_b_info = None\n",
    "c_ll = None\n",
    "fitter_constructor = lambda tradeoff_weight_reg, tradeoff_UB: lsif_constructor.lsif_ratio_fitter(predictor_which_loss, num_basis, tradeoff_weight_reg, u_dim, tradeoff_UB=tradeoff_UB, _c_ll=c_ll, KDE_ratio=True, num_tries=num_tries, pymanopt_options=pymanopt_options, many_optimizer_num_cycles=many_optimizer_num_cycles, plot_b_info=plot_b_info)\n",
    "arg_dicts = [{'tradeoff_weight_reg':tradeoff_weight_reg, 'tradeoff_UB':tradeoff_UB} for tradeoff_weight_reg in tradeoff_weight_regs for tradeoff_UB in tradeoff_UBs]\n",
    "#fitter_list = [lsif_constructor.lsif_ratio_fitter(predictor_which_loss, num_basis, tradeoff_weight_reg, u_dim, tradeoff_UB=tradeoff_UB, _c_ll=c_ll, KDE_ratio=True, num_tries=num_tries, pymanopt_options=pymanopt_options, many_optimizer_num_cycles=many_optimizer_num_cycles, plot_b_info=plot_b_info) for tradeoff_weight_reg in tradeoff_weight_regs for tradeoff_UB in tradeoff_UBs]\n",
    "#UB_kde_my_fitter = cv.cv_fitter(fitter_list, cv_which_loss, cv_num_folds, cv_use_test)\n",
    "UB_kde_my_fitter = cv.cv_fitter(fitter_constructor, arg_dicts, cv_which_loss, cv_num_folds, cv_use_test)"
   ]
  },
  {
   "cell_type": "code",
   "execution_count": 9,
   "metadata": {
    "collapsed": false
   },
   "outputs": [],
   "source": [
    "# define kde my fitter, with upper bound, pseudocount\n",
    "cv_which_loss = 'square'\n",
    "#cv_num_folds = 3\n",
    "cv_num_folds = 0\n",
    "#cv_use_test = False\n",
    "cv_use_test = True\n",
    "predictor_which_loss = 'square'\n",
    "#predictor_which_loss = 'logistic'\n",
    "num_basis = 100\n",
    "u_dim = 1\n",
    "pymanopt_options={'logverbosity':1, 'maxiter':10}\n",
    "many_optimizer_num_cycles = 5\n",
    "#num_tries = 2\n",
    "num_tries = 10\n",
    "#B_init_f_getter = lambda xs_train, ys_train, xs_test: (lambda: utils.ortho(np.random.normal(size=(xs_train.shape[1],u_dim))))\n",
    "#tradeoff_weight_regs = 2**np.linspace(-9,4,12)\n",
    "tradeoff_weight_regs = [0.001]\n",
    "#tradeoff_weight_regs = 2**np.linspace(-1,1,3)\n",
    "#tradeoff_UBs = 2**np.linspace(-16,-4,8)\n",
    "tradeoff_UB = 1.\n",
    "#print tradeoff_UBs, 'UBs'\n",
    "#tradeoff_UBs = [0.]\n",
    "#pseudos = 10**np.linspace(0,5,6)\n",
    "pseudos = [10000.]\n",
    "#plot_b_info = constructors.simple_plot_b_info\n",
    "plot_b_info = None\n",
    "c_ll = None\n",
    "fitter_constructor = lambda tradeoff_weight_reg, pseudo: lsif_constructor.lsif_ratio_fitter(predictor_which_loss, num_basis, tradeoff_weight_reg, u_dim, pseudo=pseudo, tradeoff_UB=tradeoff_UB, _c_ll=c_ll, KDE_ratio=True, num_tries=num_tries, pymanopt_options=pymanopt_options, many_optimizer_num_cycles=many_optimizer_num_cycles, plot_b_info=plot_b_info)\n",
    "arg_dicts = [{'tradeoff_weight_reg':tradeoff_weight_reg, 'pseudo':pseudo} for tradeoff_weight_reg in tradeoff_weight_regs for pseudo in pseudos]\n",
    "#fitter_list = [lsif_constructor.lsif_ratio_fitter(predictor_which_loss, num_basis, tradeoff_weight_reg, u_dim, pseudo=pseudo, tradeoff_UB=tradeoff_UB, _c_ll=c_ll, KDE_ratio=True, num_tries=num_tries, pymanopt_options=pymanopt_options, many_optimizer_num_cycles=many_optimizer_num_cycles, plot_b_info=plot_b_info) for tradeoff_weight_reg in tradeoff_weight_regs for pseudo in pseudos]\n",
    "#pseudo_UB_kde_my_fitter = cv.cv_fitter(fitter_list, cv_which_loss, cv_num_folds, cv_use_test)\n",
    "pseudo_UB_kde_my_fitter = cv.cv_fitter(fitter_constructor, arg_dicts, cv_which_loss, cv_num_folds, cv_use_test)"
   ]
  },
  {
   "cell_type": "code",
   "execution_count": 10,
   "metadata": {
    "collapsed": true
   },
   "outputs": [],
   "source": [
    "# define kde my fitter, with upper bound, pseudocount, cheap cv\n",
    "cv_which_loss = 'square'\n",
    "#cv_num_folds = 3\n",
    "cv_num_folds = 0\n",
    "#cv_use_test = False\n",
    "cv_use_test = True\n",
    "predictor_which_loss = 'square'\n",
    "#predictor_which_loss = 'logistic'\n",
    "num_basis = 100\n",
    "u_dim = 1\n",
    "pymanopt_options={'logverbosity':1, 'maxiter':10}\n",
    "many_optimizer_num_cycles = 5\n",
    "#num_tries = 2\n",
    "num_tries = 10\n",
    "#B_init_f_getter = lambda xs_train, ys_train, xs_test: (lambda: utils.ortho(np.random.normal(size=(xs_train.shape[1],u_dim))))\n",
    "#tradeoff_weight_regs = 2**np.linspace(-9,4,12)\n",
    "#tradeoff_weight_regs = [0.001]\n",
    "tradeoff_weight_regs = [0.001,0.01]\n",
    "#tradeoff_weight_regs = 2**np.linspace(-1,1,3)\n",
    "#tradeoff_UBs = 2**np.linspace(-16,-4,8)\n",
    "tradeoff_UB = 1.\n",
    "#print tradeoff_UBs, 'UBs'\n",
    "#tradeoff_UBs = [0.]\n",
    "#pseudos = 10**np.linspace(0,5,6)\n",
    "pseudos = 10**np.linspace(0,5,2)\n",
    "#plot_b_info = constructors.simple_plot_b_info\n",
    "plot_b_info = None\n",
    "c_ll = None\n",
    "fitter_constructor = lambda tradeoff_weight_reg, pseudo: lsif_constructor.lsif_ratio_fitter(predictor_which_loss, num_basis, tradeoff_weight_reg, u_dim, pseudo=pseudo, tradeoff_UB=tradeoff_UB, _c_ll=c_ll, KDE_ratio=True, num_tries=num_tries, pymanopt_options=pymanopt_options, many_optimizer_num_cycles=many_optimizer_num_cycles, plot_b_info=plot_b_info)\n",
    "default_tradeoff_weight_reg = 0.\n",
    "default_pseudo = 100000\n",
    "default_dict = {'tradeoff_weight_reg':default_tradeoff_weight_reg, 'pseudo':default_pseudo}\n",
    "arg_range_dict = {'tradeoff_weight_reg':tradeoff_weight_regs, 'pseudo':pseudos}\n",
    "arg_order = ['tradeoff_weight_reg', 'pseudo']\n",
    "#fitter_list = [lsif_constructor.lsif_ratio_fitter(predictor_which_loss, num_basis, tradeoff_weight_reg, u_dim, pseudo=pseudo, tradeoff_UB=tradeoff_UB, _c_ll=c_ll, KDE_ratio=True, num_tries=num_tries, pymanopt_options=pymanopt_options, many_optimizer_num_cycles=many_optimizer_num_cycles, plot_b_info=plot_b_info) for tradeoff_weight_reg in tradeoff_weight_regs for pseudo in pseudos]\n",
    "#pseudo_UB_kde_my_fitter = cv.cv_fitter(fitter_list, cv_which_loss, cv_num_folds, cv_use_test)\n",
    "cheap_pseudo_UB_kde_my_fitter = cv.cheap_cv_fitter(fitter_constructor, arg_range_dict, default_dict, arg_order, cv_which_loss, cv_num_folds, cv_use_test)"
   ]
  },
  {
   "cell_type": "code",
   "execution_count": 11,
   "metadata": {
    "collapsed": false
   },
   "outputs": [],
   "source": [
    "# define naive weighted fitter\n",
    "#cv_which_loss = 'square'\n",
    "#cv_num_folds = 3\n",
    "#cv_num_folds = 2\n",
    "#cv_use_test = False\n",
    "predictor_which_loss = 'square'\n",
    "num_basis = 100\n",
    "#u_dim = 8\n",
    "#pymanopt_options={'logverbosity':1, 'maxiter':10}\n",
    "many_optimizer_num_cycles = 1\n",
    "num_tries = 1\n",
    "#B_init_f_getter = None\n",
    "#learn_projection = False\n",
    "no_projection = True\n",
    "learn_weights = True\n",
    "#tradeoff_weight_reg = 0.\n",
    "#tradeoff_weight_regs = 2**np.linspace(-3,3,7)\n",
    "#tradeoff_weight_regs = 2**np.linspace(-1,1,3)\n",
    "#plot_b_info = constructors.simple_plot_b_info\n",
    "plot_b_info = None\n",
    "weighted_fitter = lsif_constructor.lsif_ratio_fitter(predictor_which_loss, num_basis, learn_weights=learn_weights, no_projection=no_projection, num_tries=num_tries, many_optimizer_num_cycles=many_optimizer_num_cycles, plot_b_info=plot_b_info)\n",
    "#fitter = cv.cv_fitter(fitter_list, cv_which_loss, cv_num_folds, cv_use_test)"
   ]
  },
  {
   "cell_type": "code",
   "execution_count": 12,
   "metadata": {
    "collapsed": true
   },
   "outputs": [],
   "source": [
    "# define random projection weighted fitter\n",
    "#cv_which_loss = 'square'\n",
    "#cv_num_folds = 3\n",
    "#cv_num_folds = 2\n",
    "#cv_use_test = False\n",
    "predictor_which_loss = 'square'\n",
    "num_basis = 100\n",
    "u_dim = 1\n",
    "#u_dim = 8\n",
    "#pymanopt_options={'logverbosity':1, 'maxiter':10}\n",
    "many_optimizer_num_cycles = 1\n",
    "num_tries = 1\n",
    "#B_init_f_getter = None\n",
    "learn_projection = False\n",
    "learn_weights = True\n",
    "which_B_init = 'random_projection'\n",
    "#tradeoff_weight_reg = 0.\n",
    "#plot_b_info = constructors.simple_plot_b_info\n",
    "plot_b_info = None\n",
    "#tradeoff_weight_regs = 2**np.linspace(-3,3,7)\n",
    "#tradeoff_weight_regs = 2**np.linspace(-1,1,3)\n",
    "random_projection_weighted_fitter = lsif_constructor.lsif_ratio_fitter(predictor_which_loss, num_basis, u_dim=u_dim, which_B_init=which_B_init, learn_weights=learn_weights, learn_projection=learn_projection, num_tries=num_tries, many_optimizer_num_cycles=many_optimizer_num_cycles, plot_b_info=plot_b_info)\n",
    "#fitter = cv.cv_fitter(fitter_list, cv_which_loss, cv_num_folds, cv_use_test)"
   ]
  },
  {
   "cell_type": "code",
   "execution_count": 13,
   "metadata": {
    "collapsed": true
   },
   "outputs": [],
   "source": [
    "# define SIR weighted fitter, dim=1\n",
    "#cv_which_loss = 'square'\n",
    "#cv_num_folds = 3\n",
    "#cv_num_folds = 2\n",
    "#cv_use_test = False\n",
    "predictor_which_loss = 'square'\n",
    "num_basis = 100\n",
    "u_dim = 1\n",
    "#u_dim = 8\n",
    "#pymanopt_options={'logverbosity':1, 'maxiter':10}\n",
    "many_optimizer_num_cycles = 1\n",
    "num_tries = 1\n",
    "#B_init_f_getter = None\n",
    "learn_projection = False\n",
    "learn_weights = True\n",
    "which_B_init = 'save'\n",
    "#tradeoff_weight_reg = 0.\n",
    "#plot_b_info = constructors.simple_plot_b_info\n",
    "plot_b_info = None\n",
    "#tradeoff_weight_regs = 2**np.linspace(-3,3,7)\n",
    "#tradeoff_weight_regs = 2**np.linspace(-1,1,3)\n",
    "SIR_1_weighted_fitter = lsif_constructor.lsif_ratio_fitter(predictor_which_loss, num_basis, u_dim=u_dim, which_B_init=which_B_init, learn_weights=learn_weights, learn_projection=learn_projection, num_tries=num_tries, many_optimizer_num_cycles=many_optimizer_num_cycles, plot_b_info=plot_b_info)\n",
    "#fitter = cv.cv_fitter(fitter_list, cv_which_loss, cv_num_folds, cv_use_test)"
   ]
  },
  {
   "cell_type": "code",
   "execution_count": 14,
   "metadata": {
    "collapsed": true
   },
   "outputs": [],
   "source": [
    "# define SIR weighted fitter, dim=2\n",
    "#cv_which_loss = 'square'\n",
    "#cv_num_folds = 3\n",
    "#cv_num_folds = 2\n",
    "#cv_use_test = False\n",
    "predictor_which_loss = 'square'\n",
    "num_basis = 100\n",
    "u_dim = 2\n",
    "#u_dim = 8\n",
    "#pymanopt_options={'logverbosity':1, 'maxiter':10}\n",
    "many_optimizer_num_cycles = 1\n",
    "num_tries = 1\n",
    "#B_init_f_getter = None\n",
    "learn_projection = False\n",
    "learn_weights = True\n",
    "which_B_init = 'save'\n",
    "#tradeoff_weight_reg = 0.\n",
    "#plot_b_info = constructors.simple_plot_b_info\n",
    "plot_b_info = None\n",
    "#tradeoff_weight_regs = 2**np.linspace(-3,3,7)\n",
    "#tradeoff_weight_regs = 2**np.linspace(-1,1,3)\n",
    "SIR_1_weighted_fitter = lsif_constructor.lsif_ratio_fitter(predictor_which_loss, num_basis, u_dim=u_dim, which_B_init=which_B_init, learn_weights=learn_weights, learn_projection=learn_projection, num_tries=num_tries, many_optimizer_num_cycles=many_optimizer_num_cycles, plot_b_info=plot_b_info)\n",
    "#fitter = cv.cv_fitter(fitter_list, cv_which_loss, cv_num_folds, cv_use_test)"
   ]
  },
  {
   "cell_type": "code",
   "execution_count": 15,
   "metadata": {
    "collapsed": false
   },
   "outputs": [],
   "source": [
    "# define naive unweighted fitter\n",
    "#cv_which_loss = 'square'\n",
    "#cv_num_folds = 3\n",
    "#cv_num_folds = 2\n",
    "#cv_use_test = False\n",
    "predictor_which_loss = 'square'\n",
    "num_basis = 100\n",
    "#u_dim = 8\n",
    "#pymanopt_options={'logverbosity':1, 'maxiter':10}\n",
    "many_optimizer_num_cycles = 1\n",
    "num_tries = 1\n",
    "#B_init_f_getter = None\n",
    "#learn_projection = False\n",
    "no_projection = True\n",
    "learn_weights = False\n",
    "#tradeoff_weight_reg = 0.\n",
    "#tradeoff_weight_regs = 2**np.linspace(-3,3,7)\n",
    "#tradeoff_weight_regs = 2**np.linspace(-1,1,3)\n",
    "#plot_b_info = constructors.simple_plot_b_info\n",
    "plot_b_info = None\n",
    "unweighted_fitter = lsif_constructor.lsif_ratio_fitter(predictor_which_loss, num_basis, learn_weights=learn_weights, no_projection=no_projection, num_tries=num_tries, many_optimizer_num_cycles=many_optimizer_num_cycles, plot_b_info=plot_b_info)\n",
    "#fitter = cv.cv_fitter(fitter_list, cv_which_loss, cv_num_folds, cv_use_test)"
   ]
  },
  {
   "cell_type": "code",
   "execution_count": 16,
   "metadata": {
    "collapsed": true
   },
   "outputs": [],
   "source": [
    "# define 2 dim hardcoded weighted fitter\n",
    "#cv_which_loss = 'square'\n",
    "#cv_num_folds = 3\n",
    "#cv_num_folds = 2\n",
    "#cv_use_test = False\n",
    "predictor_which_loss = 'square'\n",
    "num_basis = 100\n",
    "u_dim = 1\n",
    "#u_dim = 8\n",
    "#pymanopt_options={'logverbosity':1, 'maxiter':10}\n",
    "many_optimizer_num_cycles = 1\n",
    "num_tries = 1\n",
    "#B_init_f_getter = None\n",
    "learn_projection = False\n",
    "learn_weights = True\n",
    "which_B_init = 'hardcoded'\n",
    "def B_init_f_getter(xs_train, ys_train, xs_test):\n",
    "    B = np.zeros(shape=(xs_train.shape[1],2))\n",
    "    B[0,0] = 1.\n",
    "    B[1,1] = 1.\n",
    "    return lambda: B\n",
    "#tradeoff_weight_reg = 0.\n",
    "#plot_b_info = constructors.simple_plot_b_info\n",
    "plot_b_info = None\n",
    "#tradeoff_weight_regs = 2**np.linspace(-3,3,7)\n",
    "#tradeoff_weight_regs = 2**np.linspace(-1,1,3)\n",
    "hardcoded_weighted_fitter = lsif_constructor.lsif_ratio_fitter(predictor_which_loss, num_basis, u_dim=u_dim, which_B_init=which_B_init, B_init_f_getter=B_init_f_getter, learn_weights=learn_weights, learn_projection=learn_projection, num_tries=num_tries, many_optimizer_num_cycles=many_optimizer_num_cycles, plot_b_info=plot_b_info)\n",
    "#fitter = cv.cv_fitter(fitter_list, cv_which_loss, cv_num_folds, cv_use_test)"
   ]
  },
  {
   "cell_type": "code",
   "execution_count": 17,
   "metadata": {
    "collapsed": true
   },
   "outputs": [],
   "source": [
    "# define 2 dim hardcoded weighted fitter, KDE\n",
    "#cv_which_loss = 'square'\n",
    "#cv_num_folds = 3\n",
    "#cv_num_folds = 2\n",
    "#cv_use_test = False\n",
    "predictor_which_loss = 'square'\n",
    "num_basis = 100\n",
    "u_dim = 1\n",
    "#u_dim = 8\n",
    "#pymanopt_options={'logverbosity':1, 'maxiter':10}\n",
    "many_optimizer_num_cycles = 1\n",
    "num_tries = 1\n",
    "#B_init_f_getter = None\n",
    "learn_projection = False\n",
    "learn_weights = True\n",
    "which_B_init = 'hardcoded'\n",
    "def B_init_f_getter(xs_train, ys_train, xs_test):\n",
    "    B = np.zeros(shape=(xs_train.shape[1],2))\n",
    "    B[0,0] = 1.\n",
    "    B[1,1] = 1.\n",
    "    return lambda: B\n",
    "#tradeoff_weight_reg = 0.\n",
    "#plot_b_info = constructors.simple_plot_b_info\n",
    "plot_b_info = None\n",
    "#tradeoff_weight_regs = 2**np.linspace(-3,3,7)\n",
    "#tradeoff_weight_regs = 2**np.linspace(-1,1,3)\n",
    "KDE_ratio = True\n",
    "KDE_hardcoded_weighted_fitter = lsif_constructor.lsif_ratio_fitter(predictor_which_loss, num_basis, KDE_ratio=KDE_ratio, u_dim=u_dim, which_B_init=which_B_init, B_init_f_getter=B_init_f_getter, learn_weights=learn_weights, learn_projection=learn_projection, num_tries=num_tries, many_optimizer_num_cycles=many_optimizer_num_cycles, plot_b_info=plot_b_info)\n",
    "#fitter = cv.cv_fitter(fitter_list, cv_which_loss, cv_num_folds, cv_use_test)"
   ]
  },
  {
   "cell_type": "code",
   "execution_count": 18,
   "metadata": {
    "collapsed": false
   },
   "outputs": [],
   "source": [
    "#\n",
    "fitter_infos = [\n",
    "#    ('mine', my_fitter),\n",
    "#    ('kde_mine', kde_my_fitter),\n",
    "#    ('UB_kde_mine', UB_kde_my_fitter),\n",
    "    ('pseudo_UB_kde_mine', pseudo_UB_kde_my_fitter),\n",
    "#    ('cheap_pseudo_UB_kde_mine', cheap_pseudo_UB_kde_my_fitter),\n",
    "#    ('unweighted', unweighted_fitter),\n",
    "#    ('weighted', weighted_fitter),\n",
    "#    ('random_weighted', random_projection_weighted_fitter),\n",
    "#    ('SIR_1', SIR_1_weighted_fitter),\n",
    "#    ('SIR_2', SIR_1_weighted_fitter),\n",
    "#    ('hardcoded', hardcoded_weighted_fitter),\n",
    "#    ('KDE_hardcoded', KDE_hardcoded_weighted_fitter)\n",
    "]"
   ]
  },
  {
   "cell_type": "code",
   "execution_count": 19,
   "metadata": {
    "collapsed": false,
    "scrolled": false
   },
   "outputs": [
    {
     "name": "stdout",
     "output_type": "stream",
     "text": [
      "fold 0\n",
      "fitting: {'tradeoff_weight_reg': 0.001, 'tradeoff_UB': 1.0, 'pseudo': 1000.0}\n",
      "0.163867138083 pred\n",
      "0.162076289039 pred\n",
      "0.161609649468 pred\n",
      "0.165822938346 pred\n",
      "0.0202811825678 ll\n",
      "0.020151545023 ll\n",
      "0.0198965222056 ll\n",
      "0.0198180673619 ll\n",
      "0.00595898562244 CE\n",
      "> /Users/fultonw/Documents/projects/code/domain_adapt/domain_adapt/new/fxns.py(564)expected_conditional_PE_dist()\n",
      "-> return ans\n",
      "(Pdb) q\n"
     ]
    },
    {
     "ename": "BdbQuit",
     "evalue": "",
     "output_type": "error",
     "traceback": [
      "\u001b[0;31m---------------------------------------------------------------------------\u001b[0m",
      "\u001b[0;31mBdbQuit\u001b[0m                                   Traceback (most recent call last)",
      "\u001b[0;32m<ipython-input-19-fee892bc9516>\u001b[0m in \u001b[0;36m<module>\u001b[0;34m()\u001b[0m\n\u001b[1;32m      1\u001b[0m \u001b[0;31m# run\u001b[0m\u001b[0;34m\u001b[0m\u001b[0;34m\u001b[0m\u001b[0m\n\u001b[0;32m----> 2\u001b[0;31m \u001b[0mrun\u001b[0m\u001b[0;34m.\u001b[0m\u001b[0mrun\u001b[0m\u001b[0;34m(\u001b[0m\u001b[0mrandom_data_getter\u001b[0m\u001b[0;34m,\u001b[0m \u001b[0meval_num_trials\u001b[0m\u001b[0;34m,\u001b[0m \u001b[0meval_which_loss\u001b[0m\u001b[0;34m,\u001b[0m \u001b[0meval_num_folds\u001b[0m\u001b[0;34m,\u001b[0m \u001b[0meval_use_test\u001b[0m\u001b[0;34m,\u001b[0m \u001b[0mfitter_infos\u001b[0m\u001b[0;34m)\u001b[0m\u001b[0;34m\u001b[0m\u001b[0m\n\u001b[0m",
      "\u001b[0;32m/Users/fultonw/Documents/projects/runs/domain_adapt_run/domain_adapt_run/notebooks/new/cross_validation_multiple_fitters/run.pyc\u001b[0m in \u001b[0;36mrun\u001b[0;34m(random_data_getter, num_trials, which_loss, num_folds, use_test, fitter_infos)\u001b[0m\n\u001b[1;32m     19\u001b[0m \u001b[0;34m\u001b[0m\u001b[0m\n\u001b[1;32m     20\u001b[0m             \u001b[0;31m#trial_losses = cv.get_oos_loss(which_loss, num_folds, use_test, fitter, xs_train, xs_test, ys_train, ys_test=ys_test if use_test else None)\u001b[0m\u001b[0;34m\u001b[0m\u001b[0;34m\u001b[0m\u001b[0m\n\u001b[0;32m---> 21\u001b[0;31m             \u001b[0mtrial_losses\u001b[0m \u001b[0;34m=\u001b[0m \u001b[0mcv\u001b[0m\u001b[0;34m.\u001b[0m\u001b[0mget_oos_loss\u001b[0m\u001b[0;34m(\u001b[0m\u001b[0mwhich_loss\u001b[0m\u001b[0;34m,\u001b[0m \u001b[0mnum_folds\u001b[0m\u001b[0;34m,\u001b[0m \u001b[0muse_test\u001b[0m\u001b[0;34m,\u001b[0m \u001b[0mfitter\u001b[0m\u001b[0;34m,\u001b[0m \u001b[0mxs_train\u001b[0m\u001b[0;34m,\u001b[0m \u001b[0mxs_test\u001b[0m\u001b[0;34m,\u001b[0m \u001b[0mys_train\u001b[0m\u001b[0;34m,\u001b[0m \u001b[0mys_test\u001b[0m\u001b[0;34m=\u001b[0m\u001b[0mys_test\u001b[0m\u001b[0;34m)\u001b[0m\u001b[0;34m\u001b[0m\u001b[0m\n\u001b[0m\u001b[1;32m     22\u001b[0m \u001b[0;34m\u001b[0m\u001b[0m\n\u001b[1;32m     23\u001b[0m \u001b[0;34m\u001b[0m\u001b[0m\n",
      "\u001b[0;32m/Users/fultonw/Documents/projects/code/domain_adapt/domain_adapt/new/cv.pyc\u001b[0m in \u001b[0;36mget_oos_loss\u001b[0;34m(which_loss, num_folds, use_test, fitter, xs_train, xs_test, ys_train, ys_test)\u001b[0m\n\u001b[1;32m     27\u001b[0m             \u001b[0mys_test_is\u001b[0m \u001b[0;34m=\u001b[0m \u001b[0mys_test\u001b[0m\u001b[0;34m[\u001b[0m\u001b[0mtest_is_idx\u001b[0m\u001b[0;34m]\u001b[0m\u001b[0;34m\u001b[0m\u001b[0m\n\u001b[1;32m     28\u001b[0m             \u001b[0mys_test_oos\u001b[0m \u001b[0;34m=\u001b[0m \u001b[0mys_test\u001b[0m\u001b[0;34m[\u001b[0m\u001b[0mtest_oos_idx\u001b[0m\u001b[0;34m]\u001b[0m\u001b[0;34m\u001b[0m\u001b[0m\n\u001b[0;32m---> 29\u001b[0;31m             \u001b[0mforward_predictor\u001b[0m \u001b[0;34m=\u001b[0m \u001b[0mfitter\u001b[0m\u001b[0;34m(\u001b[0m\u001b[0mxs_train_is\u001b[0m\u001b[0;34m,\u001b[0m \u001b[0mxs_test_is\u001b[0m\u001b[0;34m,\u001b[0m \u001b[0mys_train_is\u001b[0m\u001b[0;34m,\u001b[0m \u001b[0mys_test_is\u001b[0m\u001b[0;34m)\u001b[0m\u001b[0;34m\u001b[0m\u001b[0m\n\u001b[0m\u001b[1;32m     30\u001b[0m             \u001b[0mpredicted_ys_test_oos\u001b[0m \u001b[0;34m=\u001b[0m \u001b[0mnp\u001b[0m\u001b[0;34m.\u001b[0m\u001b[0marray\u001b[0m\u001b[0;34m(\u001b[0m\u001b[0mmap\u001b[0m\u001b[0;34m(\u001b[0m\u001b[0mforward_predictor\u001b[0m\u001b[0;34m,\u001b[0m \u001b[0mxs_test_oos\u001b[0m\u001b[0;34m)\u001b[0m\u001b[0;34m)\u001b[0m\u001b[0;34m\u001b[0m\u001b[0m\n\u001b[1;32m     31\u001b[0m             \u001b[0;32mif\u001b[0m \u001b[0muse_test\u001b[0m\u001b[0;34m:\u001b[0m\u001b[0;34m\u001b[0m\u001b[0m\n",
      "\u001b[0;32m/Users/fultonw/Documents/projects/code/domain_adapt/domain_adapt/new/cv.pyc\u001b[0m in \u001b[0;36m__call__\u001b[0;34m(self, xs_train, xs_test, ys_train, ys_test)\u001b[0m\n\u001b[1;32m     79\u001b[0m     \u001b[0;32mdef\u001b[0m \u001b[0m__call__\u001b[0m\u001b[0;34m(\u001b[0m\u001b[0mself\u001b[0m\u001b[0;34m,\u001b[0m \u001b[0mxs_train\u001b[0m\u001b[0;34m,\u001b[0m \u001b[0mxs_test\u001b[0m\u001b[0;34m,\u001b[0m \u001b[0mys_train\u001b[0m\u001b[0;34m,\u001b[0m \u001b[0mys_test\u001b[0m\u001b[0;34m=\u001b[0m\u001b[0mNone\u001b[0m\u001b[0;34m)\u001b[0m\u001b[0;34m:\u001b[0m\u001b[0;34m\u001b[0m\u001b[0m\n\u001b[1;32m     80\u001b[0m         \u001b[0;31m# assumes individual fitters do not use ys_test\u001b[0m\u001b[0;34m\u001b[0m\u001b[0;34m\u001b[0m\u001b[0m\n\u001b[0;32m---> 81\u001b[0;31m         \u001b[0mbest_arg_dict\u001b[0m \u001b[0;34m=\u001b[0m \u001b[0mcv_helper\u001b[0m\u001b[0;34m(\u001b[0m\u001b[0mself\u001b[0m\u001b[0;34m.\u001b[0m\u001b[0mwhich_loss\u001b[0m\u001b[0;34m,\u001b[0m \u001b[0mself\u001b[0m\u001b[0;34m.\u001b[0m\u001b[0mnum_folds\u001b[0m\u001b[0;34m,\u001b[0m \u001b[0mself\u001b[0m\u001b[0;34m.\u001b[0m\u001b[0muse_test\u001b[0m\u001b[0;34m,\u001b[0m \u001b[0mself\u001b[0m\u001b[0;34m.\u001b[0m\u001b[0mfitter_constructor\u001b[0m\u001b[0;34m,\u001b[0m \u001b[0mself\u001b[0m\u001b[0;34m.\u001b[0m\u001b[0marg_dicts\u001b[0m\u001b[0;34m,\u001b[0m \u001b[0mxs_train\u001b[0m\u001b[0;34m,\u001b[0m \u001b[0mxs_test\u001b[0m\u001b[0;34m,\u001b[0m \u001b[0mys_train\u001b[0m\u001b[0;34m,\u001b[0m \u001b[0mys_test\u001b[0m\u001b[0;34m)\u001b[0m\u001b[0;34m\u001b[0m\u001b[0m\n\u001b[0m\u001b[1;32m     82\u001b[0m         \u001b[0mbest_fitter\u001b[0m \u001b[0;34m=\u001b[0m \u001b[0mself\u001b[0m\u001b[0;34m.\u001b[0m\u001b[0mfitter_constructor\u001b[0m\u001b[0;34m(\u001b[0m\u001b[0;34m**\u001b[0m\u001b[0mbest_arg_dict\u001b[0m\u001b[0;34m)\u001b[0m\u001b[0;34m\u001b[0m\u001b[0m\n\u001b[1;32m     83\u001b[0m         \u001b[0;32mreturn\u001b[0m \u001b[0mbest_fitter\u001b[0m\u001b[0;34m(\u001b[0m\u001b[0mxs_train\u001b[0m\u001b[0;34m,\u001b[0m \u001b[0mxs_test\u001b[0m\u001b[0;34m,\u001b[0m \u001b[0mys_train\u001b[0m\u001b[0;34m,\u001b[0m \u001b[0mys_test\u001b[0m\u001b[0;34m)\u001b[0m\u001b[0;34m\u001b[0m\u001b[0m\n",
      "\u001b[0;32m/Users/fultonw/Documents/projects/code/domain_adapt/domain_adapt/new/cv.pyc\u001b[0m in \u001b[0;36mcv_helper\u001b[0;34m(which_loss, num_folds, use_test, fitter_constructor, arg_dicts, xs_train, xs_test, ys_train, ys_test)\u001b[0m\n\u001b[1;32m     54\u001b[0m     \u001b[0;32mfor\u001b[0m \u001b[0marg_dict\u001b[0m \u001b[0;32min\u001b[0m \u001b[0marg_dicts\u001b[0m\u001b[0;34m:\u001b[0m\u001b[0;34m\u001b[0m\u001b[0m\n\u001b[1;32m     55\u001b[0m         \u001b[0mfitter\u001b[0m \u001b[0;34m=\u001b[0m \u001b[0mfitter_constructor\u001b[0m\u001b[0;34m(\u001b[0m\u001b[0;34m**\u001b[0m\u001b[0marg_dict\u001b[0m\u001b[0;34m)\u001b[0m\u001b[0;34m\u001b[0m\u001b[0m\n\u001b[0;32m---> 56\u001b[0;31m         \u001b[0mlosses\u001b[0m \u001b[0;34m=\u001b[0m \u001b[0mget_oos_loss\u001b[0m\u001b[0;34m(\u001b[0m\u001b[0mwhich_loss\u001b[0m\u001b[0;34m,\u001b[0m \u001b[0mnum_folds\u001b[0m\u001b[0;34m,\u001b[0m \u001b[0muse_test\u001b[0m\u001b[0;34m,\u001b[0m \u001b[0mfitter\u001b[0m\u001b[0;34m,\u001b[0m \u001b[0mxs_train\u001b[0m\u001b[0;34m,\u001b[0m \u001b[0mxs_test\u001b[0m\u001b[0;34m,\u001b[0m \u001b[0mys_train\u001b[0m\u001b[0;34m,\u001b[0m \u001b[0mys_test\u001b[0m\u001b[0;34m)\u001b[0m\u001b[0;34m\u001b[0m\u001b[0m\n\u001b[0m\u001b[1;32m     57\u001b[0m         \u001b[0;32mif\u001b[0m \u001b[0mnum_folds\u001b[0m \u001b[0;34m==\u001b[0m \u001b[0;36m0\u001b[0m\u001b[0;34m:\u001b[0m\u001b[0;34m\u001b[0m\u001b[0m\n\u001b[1;32m     58\u001b[0m             \u001b[0md\u001b[0m\u001b[0;34m.\u001b[0m\u001b[0mappend\u001b[0m\u001b[0;34m(\u001b[0m\u001b[0;34m(\u001b[0m\u001b[0marg_dict\u001b[0m\u001b[0;34m,\u001b[0m \u001b[0mlosses\u001b[0m\u001b[0;34m[\u001b[0m\u001b[0;36m0\u001b[0m\u001b[0;34m]\u001b[0m\u001b[0;34m)\u001b[0m\u001b[0;34m)\u001b[0m\u001b[0;34m\u001b[0m\u001b[0m\n",
      "\u001b[0;32m/Users/fultonw/Documents/projects/code/domain_adapt/domain_adapt/new/cv.pyc\u001b[0m in \u001b[0;36mget_oos_loss\u001b[0;34m(which_loss, num_folds, use_test, fitter, xs_train, xs_test, ys_train, ys_test)\u001b[0m\n\u001b[1;32m     44\u001b[0m     \u001b[0;32melse\u001b[0m\u001b[0;34m:\u001b[0m\u001b[0;34m\u001b[0m\u001b[0m\n\u001b[1;32m     45\u001b[0m         \u001b[0;32massert\u001b[0m \u001b[0muse_test\u001b[0m\u001b[0;34m\u001b[0m\u001b[0m\n\u001b[0;32m---> 46\u001b[0;31m         \u001b[0mpredictor\u001b[0m \u001b[0;34m=\u001b[0m \u001b[0mfitter\u001b[0m\u001b[0;34m(\u001b[0m\u001b[0mxs_train\u001b[0m\u001b[0;34m,\u001b[0m \u001b[0mxs_test\u001b[0m\u001b[0;34m,\u001b[0m \u001b[0mys_train\u001b[0m\u001b[0;34m,\u001b[0m \u001b[0mys_test\u001b[0m\u001b[0;34m)\u001b[0m\u001b[0;34m\u001b[0m\u001b[0m\n\u001b[0m\u001b[1;32m     47\u001b[0m         \u001b[0mpredicted_ys_test\u001b[0m \u001b[0;34m=\u001b[0m \u001b[0mnp\u001b[0m\u001b[0;34m.\u001b[0m\u001b[0marray\u001b[0m\u001b[0;34m(\u001b[0m\u001b[0mmap\u001b[0m\u001b[0;34m(\u001b[0m\u001b[0mpredictor\u001b[0m\u001b[0;34m,\u001b[0m \u001b[0mxs_test\u001b[0m\u001b[0;34m)\u001b[0m\u001b[0;34m)\u001b[0m\u001b[0;34m\u001b[0m\u001b[0m\n\u001b[1;32m     48\u001b[0m         \u001b[0;31m#pdb.set_trace()\u001b[0m\u001b[0;34m\u001b[0m\u001b[0;34m\u001b[0m\u001b[0m\n",
      "\u001b[0;32m/Users/fultonw/Documents/projects/code/domain_adapt/domain_adapt/new/lsif_constructor.py\u001b[0m in \u001b[0;36mfitter\u001b[0;34m(xs_train, xs_test, ys_train, ys_test)\u001b[0m\n\u001b[1;32m    705\u001b[0m         \u001b[0;31m#assert False\u001b[0m\u001b[0;34m\u001b[0m\u001b[0;34m\u001b[0m\u001b[0m\n\u001b[1;32m    706\u001b[0m \u001b[0;34m\u001b[0m\u001b[0m\n\u001b[0;32m--> 707\u001b[0;31m         \u001b[0mc_lsif_fit\u001b[0m\u001b[0;34m,\u001b[0m \u001b[0msigma_fit\u001b[0m\u001b[0;34m,\u001b[0m \u001b[0mc_pred_fit\u001b[0m\u001b[0;34m,\u001b[0m \u001b[0mc_ll_fit\u001b[0m\u001b[0;34m,\u001b[0m \u001b[0mB_fit\u001b[0m \u001b[0;34m=\u001b[0m \u001b[0moptimizer\u001b[0m\u001b[0;34m.\u001b[0m\u001b[0moptimize\u001b[0m\u001b[0;34m(\u001b[0m\u001b[0mpartialled_objective_given_B\u001b[0m\u001b[0;34m,\u001b[0m \u001b[0mc_lsif_init_f\u001b[0m\u001b[0;34m,\u001b[0m \u001b[0msigma_init_f\u001b[0m\u001b[0;34m,\u001b[0m \u001b[0mc_pred_init_f\u001b[0m\u001b[0;34m,\u001b[0m \u001b[0mc_ll_init_f\u001b[0m\u001b[0;34m,\u001b[0m \u001b[0mB_init_f\u001b[0m\u001b[0;34m)\u001b[0m\u001b[0;34m\u001b[0m\u001b[0m\n\u001b[0m\u001b[1;32m    708\u001b[0m \u001b[0;34m\u001b[0m\u001b[0m\n\u001b[1;32m    709\u001b[0m \u001b[0;31m#        print B_fit\u001b[0m\u001b[0;34m\u001b[0m\u001b[0;34m\u001b[0m\u001b[0m\n",
      "\u001b[0;32m/Users/fultonw/Documents/projects/code/domain_adapt/domain_adapt/new/optimizers.pyc\u001b[0m in \u001b[0;36moptimize\u001b[0;34m(self, *args)\u001b[0m\n\u001b[1;32m    196\u001b[0m             \u001b[0minit_vals\u001b[0m \u001b[0;34m=\u001b[0m \u001b[0mtuple\u001b[0m\u001b[0;34m(\u001b[0m\u001b[0;34m[\u001b[0m\u001b[0minit_f\u001b[0m\u001b[0;34m(\u001b[0m\u001b[0;34m)\u001b[0m \u001b[0;32mfor\u001b[0m \u001b[0minit_f\u001b[0m \u001b[0;32min\u001b[0m \u001b[0minit_fs\u001b[0m\u001b[0;34m]\u001b[0m\u001b[0;34m)\u001b[0m\u001b[0;34m\u001b[0m\u001b[0m\n\u001b[1;32m    197\u001b[0m             \u001b[0;31m#print init_vals\u001b[0m\u001b[0;34m\u001b[0m\u001b[0;34m\u001b[0m\u001b[0m\n\u001b[0;32m--> 198\u001b[0;31m             \u001b[0mx\u001b[0m \u001b[0;34m=\u001b[0m \u001b[0mself\u001b[0m\u001b[0;34m.\u001b[0m\u001b[0mhorse\u001b[0m\u001b[0;34m.\u001b[0m\u001b[0moptimize\u001b[0m\u001b[0;34m(\u001b[0m\u001b[0;34m*\u001b[0m\u001b[0;34m(\u001b[0m\u001b[0mopt_args\u001b[0m\u001b[0;34m+\u001b[0m\u001b[0minit_vals\u001b[0m\u001b[0;34m)\u001b[0m\u001b[0;34m)\u001b[0m\u001b[0;34m\u001b[0m\u001b[0m\n\u001b[0m\u001b[1;32m    199\u001b[0m             \u001b[0mxs\u001b[0m\u001b[0;34m.\u001b[0m\u001b[0mappend\u001b[0m\u001b[0;34m(\u001b[0m\u001b[0mx\u001b[0m\u001b[0;34m)\u001b[0m\u001b[0;34m\u001b[0m\u001b[0m\n\u001b[1;32m    200\u001b[0m             \u001b[0mopt_logs\u001b[0m\u001b[0;34m.\u001b[0m\u001b[0mappend\u001b[0m\u001b[0;34m(\u001b[0m\u001b[0mself\u001b[0m\u001b[0;34m.\u001b[0m\u001b[0mhorse\u001b[0m\u001b[0;34m.\u001b[0m\u001b[0mopt_log\u001b[0m\u001b[0;34m)\u001b[0m\u001b[0;34m\u001b[0m\u001b[0m\n",
      "\u001b[0;32m/Users/fultonw/Documents/projects/code/domain_adapt/domain_adapt/new/optimizers.pyc\u001b[0m in \u001b[0;36moptimize\u001b[0;34m(self, objective, *args)\u001b[0m\n\u001b[1;32m    268\u001b[0m             \u001b[0;32mfor\u001b[0m \u001b[0moptimizer\u001b[0m \u001b[0;32min\u001b[0m \u001b[0mself\u001b[0m\u001b[0;34m.\u001b[0m\u001b[0moptimizers\u001b[0m\u001b[0;34m:\u001b[0m\u001b[0;34m\u001b[0m\u001b[0m\n\u001b[1;32m    269\u001b[0m                 \u001b[0;31m#print 'result before', args\u001b[0m\u001b[0;34m\u001b[0m\u001b[0;34m\u001b[0m\u001b[0m\n\u001b[0;32m--> 270\u001b[0;31m                 \u001b[0margs\u001b[0m \u001b[0;34m=\u001b[0m \u001b[0moptimizer\u001b[0m\u001b[0;34m(\u001b[0m\u001b[0;34m*\u001b[0m\u001b[0margs\u001b[0m\u001b[0;34m)\u001b[0m\u001b[0;34m\u001b[0m\u001b[0m\n\u001b[0m\u001b[1;32m    271\u001b[0m                 \u001b[0;31m#print 'result after', args\u001b[0m\u001b[0;34m\u001b[0m\u001b[0;34m\u001b[0m\u001b[0m\n\u001b[1;32m    272\u001b[0m \u001b[0;31m#            if converged(old_args, args):\u001b[0m\u001b[0;34m\u001b[0m\u001b[0;34m\u001b[0m\u001b[0m\n",
      "\u001b[0;32m/Users/fultonw/Documents/projects/code/domain_adapt/domain_adapt/new/optimizers.pyc\u001b[0m in \u001b[0;36m__call__\u001b[0;34m(self, *args, **kwargs)\u001b[0m\n\u001b[1;32m     11\u001b[0m \u001b[0;34m\u001b[0m\u001b[0m\n\u001b[1;32m     12\u001b[0m     \u001b[0;32mdef\u001b[0m \u001b[0m__call__\u001b[0m\u001b[0;34m(\u001b[0m\u001b[0mself\u001b[0m\u001b[0;34m,\u001b[0m \u001b[0;34m*\u001b[0m\u001b[0margs\u001b[0m\u001b[0;34m,\u001b[0m \u001b[0;34m**\u001b[0m\u001b[0mkwargs\u001b[0m\u001b[0;34m)\u001b[0m\u001b[0;34m:\u001b[0m\u001b[0;34m\u001b[0m\u001b[0m\n\u001b[0;32m---> 13\u001b[0;31m         \u001b[0;32mreturn\u001b[0m \u001b[0mself\u001b[0m\u001b[0;34m.\u001b[0m\u001b[0moptimize\u001b[0m\u001b[0;34m(\u001b[0m\u001b[0;34m*\u001b[0m\u001b[0margs\u001b[0m\u001b[0;34m,\u001b[0m \u001b[0;34m**\u001b[0m\u001b[0mkwargs\u001b[0m\u001b[0;34m)\u001b[0m\u001b[0;34m\u001b[0m\u001b[0m\n\u001b[0m\u001b[1;32m     14\u001b[0m \u001b[0;34m\u001b[0m\u001b[0m\n\u001b[1;32m     15\u001b[0m \u001b[0;34m\u001b[0m\u001b[0m\n",
      "\u001b[0;32m/Users/fultonw/Documents/projects/code/domain_adapt/domain_adapt/new/optimizers.pyc\u001b[0m in \u001b[0;36moptimize\u001b[0;34m(self, *args)\u001b[0m\n\u001b[1;32m    247\u001b[0m     \u001b[0;32mdef\u001b[0m \u001b[0moptimize\u001b[0m\u001b[0;34m(\u001b[0m\u001b[0mself\u001b[0m\u001b[0;34m,\u001b[0m \u001b[0;34m*\u001b[0m\u001b[0margs\u001b[0m\u001b[0;34m)\u001b[0m\u001b[0;34m:\u001b[0m\u001b[0;34m\u001b[0m\u001b[0m\n\u001b[1;32m    248\u001b[0m         \u001b[0mstuffs\u001b[0m \u001b[0;34m=\u001b[0m \u001b[0;34m[\u001b[0m\u001b[0mget_stuff_f\u001b[0m\u001b[0;34m(\u001b[0m\u001b[0;34m*\u001b[0m\u001b[0margs\u001b[0m\u001b[0;34m)\u001b[0m \u001b[0;32mfor\u001b[0m \u001b[0mget_stuff_f\u001b[0m \u001b[0;32min\u001b[0m \u001b[0mself\u001b[0m\u001b[0;34m.\u001b[0m\u001b[0mget_stuff_fs\u001b[0m\u001b[0;34m]\u001b[0m\u001b[0;34m\u001b[0m\u001b[0m\n\u001b[0;32m--> 249\u001b[0;31m         \u001b[0mhorse_result\u001b[0m \u001b[0;34m=\u001b[0m \u001b[0mself\u001b[0m\u001b[0;34m.\u001b[0m\u001b[0mhorse\u001b[0m\u001b[0;34m(\u001b[0m\u001b[0;34m*\u001b[0m\u001b[0mstuffs\u001b[0m\u001b[0;34m)\u001b[0m\u001b[0;34m\u001b[0m\u001b[0m\n\u001b[0m\u001b[1;32m    250\u001b[0m         \u001b[0;32mreturn\u001b[0m \u001b[0mself\u001b[0m\u001b[0;34m.\u001b[0m\u001b[0mout_f\u001b[0m\u001b[0;34m(\u001b[0m\u001b[0margs\u001b[0m\u001b[0;34m,\u001b[0m \u001b[0mstuffs\u001b[0m\u001b[0;34m,\u001b[0m \u001b[0mhorse_result\u001b[0m\u001b[0;34m)\u001b[0m\u001b[0;34m\u001b[0m\u001b[0m\n\u001b[1;32m    251\u001b[0m \u001b[0;34m\u001b[0m\u001b[0m\n",
      "\u001b[0;32m/Users/fultonw/Documents/projects/code/domain_adapt/domain_adapt/new/optimizers.pyc\u001b[0m in \u001b[0;36m__call__\u001b[0;34m(self, *args, **kwargs)\u001b[0m\n\u001b[1;32m     11\u001b[0m \u001b[0;34m\u001b[0m\u001b[0m\n\u001b[1;32m     12\u001b[0m     \u001b[0;32mdef\u001b[0m \u001b[0m__call__\u001b[0m\u001b[0;34m(\u001b[0m\u001b[0mself\u001b[0m\u001b[0;34m,\u001b[0m \u001b[0;34m*\u001b[0m\u001b[0margs\u001b[0m\u001b[0;34m,\u001b[0m \u001b[0;34m**\u001b[0m\u001b[0mkwargs\u001b[0m\u001b[0;34m)\u001b[0m\u001b[0;34m:\u001b[0m\u001b[0;34m\u001b[0m\u001b[0m\n\u001b[0;32m---> 13\u001b[0;31m         \u001b[0;32mreturn\u001b[0m \u001b[0mself\u001b[0m\u001b[0;34m.\u001b[0m\u001b[0moptimize\u001b[0m\u001b[0;34m(\u001b[0m\u001b[0;34m*\u001b[0m\u001b[0margs\u001b[0m\u001b[0;34m,\u001b[0m \u001b[0;34m**\u001b[0m\u001b[0mkwargs\u001b[0m\u001b[0;34m)\u001b[0m\u001b[0;34m\u001b[0m\u001b[0m\n\u001b[0m\u001b[1;32m     14\u001b[0m \u001b[0;34m\u001b[0m\u001b[0m\n\u001b[1;32m     15\u001b[0m \u001b[0;34m\u001b[0m\u001b[0m\n",
      "\u001b[0;32m/Users/fultonw/Documents/projects/code/domain_adapt/domain_adapt/new/optimizers.pyc\u001b[0m in \u001b[0;36moptimize\u001b[0;34m(self, objective, dobjective_dB, B_init)\u001b[0m\n\u001b[1;32m     27\u001b[0m         \u001b[0;32mfrom\u001b[0m \u001b[0mpymanopt\u001b[0m \u001b[0;32mimport\u001b[0m \u001b[0mProblem\u001b[0m\u001b[0;34m\u001b[0m\u001b[0m\n\u001b[1;32m     28\u001b[0m         \u001b[0mproblem\u001b[0m \u001b[0;34m=\u001b[0m \u001b[0mpymanopt\u001b[0m\u001b[0;34m.\u001b[0m\u001b[0mProblem\u001b[0m\u001b[0;34m(\u001b[0m\u001b[0mmanifold\u001b[0m\u001b[0;34m=\u001b[0m\u001b[0mmanifold\u001b[0m\u001b[0;34m,\u001b[0m \u001b[0mcost\u001b[0m\u001b[0;34m=\u001b[0m\u001b[0mobjective\u001b[0m\u001b[0;34m,\u001b[0m \u001b[0megrad\u001b[0m\u001b[0;34m=\u001b[0m\u001b[0mdobjective_dB\u001b[0m\u001b[0;34m,\u001b[0m \u001b[0mverbosity\u001b[0m\u001b[0;34m=\u001b[0m\u001b[0mself\u001b[0m\u001b[0;34m.\u001b[0m\u001b[0mproblem_verbosity\u001b[0m\u001b[0;34m)\u001b[0m\u001b[0;34m\u001b[0m\u001b[0m\n\u001b[0;32m---> 29\u001b[0;31m         \u001b[0mB_fit\u001b[0m\u001b[0;34m,\u001b[0m \u001b[0mself\u001b[0m\u001b[0;34m.\u001b[0m\u001b[0mopt_log\u001b[0m \u001b[0;34m=\u001b[0m \u001b[0msolver\u001b[0m\u001b[0;34m.\u001b[0m\u001b[0msolve\u001b[0m\u001b[0;34m(\u001b[0m\u001b[0mproblem\u001b[0m\u001b[0;34m,\u001b[0m \u001b[0mx\u001b[0m\u001b[0;34m=\u001b[0m\u001b[0mB_init\u001b[0m\u001b[0;34m)\u001b[0m\u001b[0;34m\u001b[0m\u001b[0m\n\u001b[0m\u001b[1;32m     30\u001b[0m         \u001b[0;32mreturn\u001b[0m \u001b[0mB_fit\u001b[0m\u001b[0;34m\u001b[0m\u001b[0m\n\u001b[1;32m     31\u001b[0m \u001b[0;34m\u001b[0m\u001b[0m\n",
      "\u001b[0;32m/Users/fultonw/Library/Enthought/Canopy_64bit/User/lib/python2.7/site-packages/pymanopt/solvers/steepest_descent.pyc\u001b[0m in \u001b[0;36msolve\u001b[0;34m(self, problem, x, reuselinesearch)\u001b[0m\n\u001b[1;32m     72\u001b[0m         \u001b[0;32mwhile\u001b[0m \u001b[0mTrue\u001b[0m\u001b[0;34m:\u001b[0m\u001b[0;34m\u001b[0m\u001b[0m\n\u001b[1;32m     73\u001b[0m             \u001b[0;31m# Calculate new cost, grad and gradnorm\u001b[0m\u001b[0;34m\u001b[0m\u001b[0;34m\u001b[0m\u001b[0m\n\u001b[0;32m---> 74\u001b[0;31m             \u001b[0mcost\u001b[0m \u001b[0;34m=\u001b[0m \u001b[0mobjective\u001b[0m\u001b[0;34m(\u001b[0m\u001b[0mx\u001b[0m\u001b[0;34m)\u001b[0m\u001b[0;34m\u001b[0m\u001b[0m\n\u001b[0m\u001b[1;32m     75\u001b[0m             \u001b[0mgrad\u001b[0m \u001b[0;34m=\u001b[0m \u001b[0mgradient\u001b[0m\u001b[0;34m(\u001b[0m\u001b[0mx\u001b[0m\u001b[0;34m)\u001b[0m\u001b[0;34m\u001b[0m\u001b[0m\n\u001b[1;32m     76\u001b[0m             \u001b[0mgradnorm\u001b[0m \u001b[0;34m=\u001b[0m \u001b[0mman\u001b[0m\u001b[0;34m.\u001b[0m\u001b[0mnorm\u001b[0m\u001b[0;34m(\u001b[0m\u001b[0mx\u001b[0m\u001b[0;34m,\u001b[0m \u001b[0mgrad\u001b[0m\u001b[0;34m)\u001b[0m\u001b[0;34m\u001b[0m\u001b[0m\n",
      "\u001b[0;32m/Users/fultonw/Documents/projects/code/domain_adapt/domain_adapt/new/lsif_constructor.py\u001b[0m in \u001b[0;36m<lambda>\u001b[0;34m(B)\u001b[0m\n\u001b[1;32m    602\u001b[0m \u001b[0;34m\u001b[0m\u001b[0m\n\u001b[1;32m    603\u001b[0m         \u001b[0;32mdef\u001b[0m \u001b[0mB_optimizer_get_objective\u001b[0m\u001b[0;34m(\u001b[0m\u001b[0mc_lsif\u001b[0m\u001b[0;34m,\u001b[0m \u001b[0msigma\u001b[0m\u001b[0;34m,\u001b[0m \u001b[0mc_pred\u001b[0m\u001b[0;34m,\u001b[0m \u001b[0mc_ll\u001b[0m\u001b[0;34m,\u001b[0m \u001b[0mB\u001b[0m\u001b[0;34m)\u001b[0m\u001b[0;34m:\u001b[0m\u001b[0;34m\u001b[0m\u001b[0m\n\u001b[0;32m--> 604\u001b[0;31m             \u001b[0mobjective\u001b[0m \u001b[0;34m=\u001b[0m \u001b[0;32mlambda\u001b[0m \u001b[0mB\u001b[0m\u001b[0;34m:\u001b[0m \u001b[0mobjective_given_B\u001b[0m\u001b[0;34m(\u001b[0m\u001b[0mxs_train\u001b[0m\u001b[0;34m,\u001b[0m \u001b[0mxs_test\u001b[0m\u001b[0;34m,\u001b[0m \u001b[0msigma\u001b[0m\u001b[0;34m,\u001b[0m \u001b[0mB\u001b[0m\u001b[0;34m,\u001b[0m \u001b[0mc_lsif\u001b[0m\u001b[0;34m,\u001b[0m \u001b[0mxs_basis\u001b[0m\u001b[0;34m,\u001b[0m \u001b[0mmax_ratio\u001b[0m\u001b[0;34m,\u001b[0m \u001b[0madd_reg_lsif\u001b[0m\u001b[0;34m,\u001b[0m \u001b[0mys_train\u001b[0m\u001b[0;34m,\u001b[0m \u001b[0mc_pred\u001b[0m\u001b[0;34m,\u001b[0m \u001b[0madd_reg_pred\u001b[0m\u001b[0;34m,\u001b[0m \u001b[0mc_ll\u001b[0m\u001b[0;34m,\u001b[0m \u001b[0mws_full_train\u001b[0m\u001b[0;34m,\u001b[0m \u001b[0mpseudo\u001b[0m\u001b[0;34m)\u001b[0m\u001b[0;34m\u001b[0m\u001b[0m\n\u001b[0m\u001b[1;32m    605\u001b[0m             \u001b[0;32mreturn\u001b[0m \u001b[0mobjective\u001b[0m\u001b[0;34m\u001b[0m\u001b[0m\n\u001b[1;32m    606\u001b[0m \u001b[0;34m\u001b[0m\u001b[0m\n",
      "\u001b[0;32m/Users/fultonw/Documents/projects/code/domain_adapt/domain_adapt/new/fxns.pyc\u001b[0m in \u001b[0;36m__call__\u001b[0;34m(self, *args)\u001b[0m\n\u001b[1;32m    103\u001b[0m \u001b[0;34m\u001b[0m\u001b[0m\n\u001b[1;32m    104\u001b[0m     \u001b[0;32mdef\u001b[0m \u001b[0m__call__\u001b[0m\u001b[0;34m(\u001b[0m\u001b[0mself\u001b[0m\u001b[0;34m,\u001b[0m \u001b[0;34m*\u001b[0m\u001b[0margs\u001b[0m\u001b[0;34m)\u001b[0m\u001b[0;34m:\u001b[0m\u001b[0;34m\u001b[0m\u001b[0m\n\u001b[0;32m--> 105\u001b[0;31m         \u001b[0;32mreturn\u001b[0m \u001b[0mself\u001b[0m\u001b[0;34m.\u001b[0m\u001b[0mval\u001b[0m\u001b[0;34m(\u001b[0m\u001b[0;34m*\u001b[0m\u001b[0margs\u001b[0m\u001b[0;34m)\u001b[0m\u001b[0;34m\u001b[0m\u001b[0m\n\u001b[0m\u001b[1;32m    106\u001b[0m \u001b[0;34m\u001b[0m\u001b[0m\n\u001b[1;32m    107\u001b[0m     \u001b[0;34m@\u001b[0m\u001b[0mbasic\u001b[0m\u001b[0;34m.\u001b[0m\u001b[0mtimeit\u001b[0m\u001b[0;34m(\u001b[0m\u001b[0;34m'grad'\u001b[0m\u001b[0;34m)\u001b[0m\u001b[0;34m\u001b[0m\u001b[0m\n",
      "\u001b[0;32m/Users/fultonw/Documents/projects/code/domain_adapt/domain_adapt/new/fxns.pyc\u001b[0m in \u001b[0;36mval\u001b[0;34m(self, *args)\u001b[0m\n\u001b[1;32m     81\u001b[0m     \u001b[0;32mdef\u001b[0m \u001b[0mval\u001b[0m\u001b[0;34m(\u001b[0m\u001b[0mself\u001b[0m\u001b[0;34m,\u001b[0m \u001b[0;34m*\u001b[0m\u001b[0margs\u001b[0m\u001b[0;34m)\u001b[0m\u001b[0;34m:\u001b[0m\u001b[0;34m\u001b[0m\u001b[0m\n\u001b[1;32m     82\u001b[0m         \u001b[0;32mtry\u001b[0m\u001b[0;34m:\u001b[0m\u001b[0;34m\u001b[0m\u001b[0m\n\u001b[0;32m---> 83\u001b[0;31m             \u001b[0mtemps\u001b[0m\u001b[0;34m,\u001b[0m \u001b[0mval\u001b[0m \u001b[0;34m=\u001b[0m \u001b[0mself\u001b[0m\u001b[0;34m.\u001b[0m\u001b[0mforward_prop\u001b[0m\u001b[0;34m(\u001b[0m\u001b[0;34m*\u001b[0m\u001b[0margs\u001b[0m\u001b[0;34m)\u001b[0m\u001b[0;34m\u001b[0m\u001b[0m\n\u001b[0m\u001b[1;32m     84\u001b[0m             \u001b[0;32mif\u001b[0m \u001b[0mnp\u001b[0m\u001b[0;34m.\u001b[0m\u001b[0misnan\u001b[0m\u001b[0;34m(\u001b[0m\u001b[0mval\u001b[0m\u001b[0;34m)\u001b[0m\u001b[0;34m.\u001b[0m\u001b[0many\u001b[0m\u001b[0;34m(\u001b[0m\u001b[0;34m)\u001b[0m\u001b[0;34m:\u001b[0m\u001b[0;34m\u001b[0m\u001b[0m\n\u001b[1;32m     85\u001b[0m                 \u001b[0mpdb\u001b[0m\u001b[0;34m.\u001b[0m\u001b[0mset_trace\u001b[0m\u001b[0;34m(\u001b[0m\u001b[0;34m)\u001b[0m\u001b[0;34m\u001b[0m\u001b[0m\n",
      "\u001b[0;32m/Users/fultonw/Documents/projects/code/domain_adapt/domain_adapt/new/fxns.pyc\u001b[0m in \u001b[0;36mforward_prop\u001b[0;34m(self, *args)\u001b[0m\n\u001b[1;32m   1471\u001b[0m         \u001b[0;32mexcept\u001b[0m\u001b[0;34m:\u001b[0m\u001b[0;34m\u001b[0m\u001b[0m\n\u001b[1;32m   1472\u001b[0m             \u001b[0mpdb\u001b[0m\u001b[0;34m.\u001b[0m\u001b[0mset_trace\u001b[0m\u001b[0;34m(\u001b[0m\u001b[0;34m)\u001b[0m\u001b[0;34m\u001b[0m\u001b[0m\n\u001b[0;32m-> 1473\u001b[0;31m         \u001b[0mh_stuff\u001b[0m\u001b[0;34m,\u001b[0m \u001b[0mh_val\u001b[0m \u001b[0;34m=\u001b[0m \u001b[0mself\u001b[0m\u001b[0;34m.\u001b[0m\u001b[0mh\u001b[0m\u001b[0;34m.\u001b[0m\u001b[0mforward_prop\u001b[0m\u001b[0;34m(\u001b[0m\u001b[0;34m*\u001b[0m\u001b[0mh_args\u001b[0m\u001b[0;34m)\u001b[0m\u001b[0;34m\u001b[0m\u001b[0m\n\u001b[0m\u001b[1;32m   1474\u001b[0m         \u001b[0;32mreturn\u001b[0m \u001b[0;34m(\u001b[0m\u001b[0mg_val\u001b[0m\u001b[0;34m,\u001b[0m \u001b[0;34m(\u001b[0m\u001b[0mg_stuff\u001b[0m\u001b[0;34m,\u001b[0m \u001b[0mh_stuff\u001b[0m\u001b[0;34m)\u001b[0m\u001b[0;34m)\u001b[0m\u001b[0;34m,\u001b[0m \u001b[0mh_val\u001b[0m\u001b[0;34m\u001b[0m\u001b[0m\n\u001b[1;32m   1475\u001b[0m \u001b[0;34m\u001b[0m\u001b[0m\n",
      "\u001b[0;32m/Users/fultonw/Documents/projects/code/domain_adapt/domain_adapt/new/fxns.pyc\u001b[0m in \u001b[0;36mforward_prop\u001b[0;34m(self, *args)\u001b[0m\n\u001b[1;32m   1335\u001b[0m                 \u001b[0mpdb\u001b[0m\u001b[0;34m.\u001b[0m\u001b[0mset_trace\u001b[0m\u001b[0;34m(\u001b[0m\u001b[0;34m)\u001b[0m\u001b[0;34m\u001b[0m\u001b[0m\n\u001b[1;32m   1336\u001b[0m             \u001b[0;31m#f_val = f.val(*f_args)\u001b[0m\u001b[0;34m\u001b[0m\u001b[0;34m\u001b[0m\u001b[0m\n\u001b[0;32m-> 1337\u001b[0;31m             \u001b[0mf_val\u001b[0m \u001b[0;34m=\u001b[0m \u001b[0mf\u001b[0m\u001b[0;34m(\u001b[0m\u001b[0;34m*\u001b[0m\u001b[0mf_args\u001b[0m\u001b[0;34m)\u001b[0m\u001b[0;34m\u001b[0m\u001b[0m\n\u001b[0m\u001b[1;32m   1338\u001b[0m             \u001b[0mf_vals\u001b[0m\u001b[0;34m.\u001b[0m\u001b[0mappend\u001b[0m\u001b[0;34m(\u001b[0m\u001b[0mf_val\u001b[0m\u001b[0;34m)\u001b[0m\u001b[0;34m\u001b[0m\u001b[0m\n\u001b[1;32m   1339\u001b[0m             \u001b[0mans\u001b[0m \u001b[0;34m+=\u001b[0m \u001b[0mw\u001b[0m \u001b[0;34m*\u001b[0m \u001b[0mf_val\u001b[0m\u001b[0;34m\u001b[0m\u001b[0m\n",
      "\u001b[0;32m/Users/fultonw/Documents/projects/code/domain_adapt/domain_adapt/new/fxns.pyc\u001b[0m in \u001b[0;36m__call__\u001b[0;34m(self, *args)\u001b[0m\n\u001b[1;32m    103\u001b[0m \u001b[0;34m\u001b[0m\u001b[0m\n\u001b[1;32m    104\u001b[0m     \u001b[0;32mdef\u001b[0m \u001b[0m__call__\u001b[0m\u001b[0;34m(\u001b[0m\u001b[0mself\u001b[0m\u001b[0;34m,\u001b[0m \u001b[0;34m*\u001b[0m\u001b[0margs\u001b[0m\u001b[0;34m)\u001b[0m\u001b[0;34m:\u001b[0m\u001b[0;34m\u001b[0m\u001b[0m\n\u001b[0;32m--> 105\u001b[0;31m         \u001b[0;32mreturn\u001b[0m \u001b[0mself\u001b[0m\u001b[0;34m.\u001b[0m\u001b[0mval\u001b[0m\u001b[0;34m(\u001b[0m\u001b[0;34m*\u001b[0m\u001b[0margs\u001b[0m\u001b[0;34m)\u001b[0m\u001b[0;34m\u001b[0m\u001b[0m\n\u001b[0m\u001b[1;32m    106\u001b[0m \u001b[0;34m\u001b[0m\u001b[0m\n\u001b[1;32m    107\u001b[0m     \u001b[0;34m@\u001b[0m\u001b[0mbasic\u001b[0m\u001b[0;34m.\u001b[0m\u001b[0mtimeit\u001b[0m\u001b[0;34m(\u001b[0m\u001b[0;34m'grad'\u001b[0m\u001b[0;34m)\u001b[0m\u001b[0;34m\u001b[0m\u001b[0m\n",
      "\u001b[0;32m/Users/fultonw/Documents/projects/code/domain_adapt/domain_adapt/new/fxns.pyc\u001b[0m in \u001b[0;36mval\u001b[0;34m(self, *args)\u001b[0m\n\u001b[1;32m     81\u001b[0m     \u001b[0;32mdef\u001b[0m \u001b[0mval\u001b[0m\u001b[0;34m(\u001b[0m\u001b[0mself\u001b[0m\u001b[0;34m,\u001b[0m \u001b[0;34m*\u001b[0m\u001b[0margs\u001b[0m\u001b[0;34m)\u001b[0m\u001b[0;34m:\u001b[0m\u001b[0;34m\u001b[0m\u001b[0m\n\u001b[1;32m     82\u001b[0m         \u001b[0;32mtry\u001b[0m\u001b[0;34m:\u001b[0m\u001b[0;34m\u001b[0m\u001b[0m\n\u001b[0;32m---> 83\u001b[0;31m             \u001b[0mtemps\u001b[0m\u001b[0;34m,\u001b[0m \u001b[0mval\u001b[0m \u001b[0;34m=\u001b[0m \u001b[0mself\u001b[0m\u001b[0;34m.\u001b[0m\u001b[0mforward_prop\u001b[0m\u001b[0;34m(\u001b[0m\u001b[0;34m*\u001b[0m\u001b[0margs\u001b[0m\u001b[0;34m)\u001b[0m\u001b[0;34m\u001b[0m\u001b[0m\n\u001b[0m\u001b[1;32m     84\u001b[0m             \u001b[0;32mif\u001b[0m \u001b[0mnp\u001b[0m\u001b[0;34m.\u001b[0m\u001b[0misnan\u001b[0m\u001b[0;34m(\u001b[0m\u001b[0mval\u001b[0m\u001b[0;34m)\u001b[0m\u001b[0;34m.\u001b[0m\u001b[0many\u001b[0m\u001b[0;34m(\u001b[0m\u001b[0;34m)\u001b[0m\u001b[0;34m:\u001b[0m\u001b[0;34m\u001b[0m\u001b[0m\n\u001b[1;32m     85\u001b[0m                 \u001b[0mpdb\u001b[0m\u001b[0;34m.\u001b[0m\u001b[0mset_trace\u001b[0m\u001b[0;34m(\u001b[0m\u001b[0;34m)\u001b[0m\u001b[0;34m\u001b[0m\u001b[0m\n",
      "\u001b[0;32m/Users/fultonw/Documents/projects/code/domain_adapt/domain_adapt/new/fxns.pyc\u001b[0m in \u001b[0;36mforward_prop\u001b[0;34m(self, *args)\u001b[0m\n\u001b[1;32m   1471\u001b[0m         \u001b[0;32mexcept\u001b[0m\u001b[0;34m:\u001b[0m\u001b[0;34m\u001b[0m\u001b[0m\n\u001b[1;32m   1472\u001b[0m             \u001b[0mpdb\u001b[0m\u001b[0;34m.\u001b[0m\u001b[0mset_trace\u001b[0m\u001b[0;34m(\u001b[0m\u001b[0;34m)\u001b[0m\u001b[0;34m\u001b[0m\u001b[0m\n\u001b[0;32m-> 1473\u001b[0;31m         \u001b[0mh_stuff\u001b[0m\u001b[0;34m,\u001b[0m \u001b[0mh_val\u001b[0m \u001b[0;34m=\u001b[0m \u001b[0mself\u001b[0m\u001b[0;34m.\u001b[0m\u001b[0mh\u001b[0m\u001b[0;34m.\u001b[0m\u001b[0mforward_prop\u001b[0m\u001b[0;34m(\u001b[0m\u001b[0;34m*\u001b[0m\u001b[0mh_args\u001b[0m\u001b[0;34m)\u001b[0m\u001b[0;34m\u001b[0m\u001b[0m\n\u001b[0m\u001b[1;32m   1474\u001b[0m         \u001b[0;32mreturn\u001b[0m \u001b[0;34m(\u001b[0m\u001b[0mg_val\u001b[0m\u001b[0;34m,\u001b[0m \u001b[0;34m(\u001b[0m\u001b[0mg_stuff\u001b[0m\u001b[0;34m,\u001b[0m \u001b[0mh_stuff\u001b[0m\u001b[0;34m)\u001b[0m\u001b[0;34m)\u001b[0m\u001b[0;34m,\u001b[0m \u001b[0mh_val\u001b[0m\u001b[0;34m\u001b[0m\u001b[0m\n\u001b[1;32m   1475\u001b[0m \u001b[0;34m\u001b[0m\u001b[0m\n",
      "\u001b[0;32m/Users/fultonw/Documents/projects/code/domain_adapt/domain_adapt/new/fxns.pyc\u001b[0m in \u001b[0;36mforward_prop\u001b[0;34m(self, *args)\u001b[0m\n\u001b[1;32m   1335\u001b[0m                 \u001b[0mpdb\u001b[0m\u001b[0;34m.\u001b[0m\u001b[0mset_trace\u001b[0m\u001b[0;34m(\u001b[0m\u001b[0;34m)\u001b[0m\u001b[0;34m\u001b[0m\u001b[0m\n\u001b[1;32m   1336\u001b[0m             \u001b[0;31m#f_val = f.val(*f_args)\u001b[0m\u001b[0;34m\u001b[0m\u001b[0;34m\u001b[0m\u001b[0m\n\u001b[0;32m-> 1337\u001b[0;31m             \u001b[0mf_val\u001b[0m \u001b[0;34m=\u001b[0m \u001b[0mf\u001b[0m\u001b[0;34m(\u001b[0m\u001b[0;34m*\u001b[0m\u001b[0mf_args\u001b[0m\u001b[0;34m)\u001b[0m\u001b[0;34m\u001b[0m\u001b[0m\n\u001b[0m\u001b[1;32m   1338\u001b[0m             \u001b[0mf_vals\u001b[0m\u001b[0;34m.\u001b[0m\u001b[0mappend\u001b[0m\u001b[0;34m(\u001b[0m\u001b[0mf_val\u001b[0m\u001b[0;34m)\u001b[0m\u001b[0;34m\u001b[0m\u001b[0m\n\u001b[1;32m   1339\u001b[0m             \u001b[0mans\u001b[0m \u001b[0;34m+=\u001b[0m \u001b[0mw\u001b[0m \u001b[0;34m*\u001b[0m \u001b[0mf_val\u001b[0m\u001b[0;34m\u001b[0m\u001b[0m\n",
      "\u001b[0;32m/Users/fultonw/Documents/projects/code/domain_adapt/domain_adapt/new/fxns.pyc\u001b[0m in \u001b[0;36m__call__\u001b[0;34m(self, *args)\u001b[0m\n\u001b[1;32m    103\u001b[0m \u001b[0;34m\u001b[0m\u001b[0m\n\u001b[1;32m    104\u001b[0m     \u001b[0;32mdef\u001b[0m \u001b[0m__call__\u001b[0m\u001b[0;34m(\u001b[0m\u001b[0mself\u001b[0m\u001b[0;34m,\u001b[0m \u001b[0;34m*\u001b[0m\u001b[0margs\u001b[0m\u001b[0;34m)\u001b[0m\u001b[0;34m:\u001b[0m\u001b[0;34m\u001b[0m\u001b[0m\n\u001b[0;32m--> 105\u001b[0;31m         \u001b[0;32mreturn\u001b[0m \u001b[0mself\u001b[0m\u001b[0;34m.\u001b[0m\u001b[0mval\u001b[0m\u001b[0;34m(\u001b[0m\u001b[0;34m*\u001b[0m\u001b[0margs\u001b[0m\u001b[0;34m)\u001b[0m\u001b[0;34m\u001b[0m\u001b[0m\n\u001b[0m\u001b[1;32m    106\u001b[0m \u001b[0;34m\u001b[0m\u001b[0m\n\u001b[1;32m    107\u001b[0m     \u001b[0;34m@\u001b[0m\u001b[0mbasic\u001b[0m\u001b[0;34m.\u001b[0m\u001b[0mtimeit\u001b[0m\u001b[0;34m(\u001b[0m\u001b[0;34m'grad'\u001b[0m\u001b[0;34m)\u001b[0m\u001b[0;34m\u001b[0m\u001b[0m\n",
      "\u001b[0;32m/Users/fultonw/Documents/projects/code/domain_adapt/domain_adapt/new/fxns.pyc\u001b[0m in \u001b[0;36mval\u001b[0;34m(self, *args)\u001b[0m\n\u001b[1;32m     81\u001b[0m     \u001b[0;32mdef\u001b[0m \u001b[0mval\u001b[0m\u001b[0;34m(\u001b[0m\u001b[0mself\u001b[0m\u001b[0;34m,\u001b[0m \u001b[0;34m*\u001b[0m\u001b[0margs\u001b[0m\u001b[0;34m)\u001b[0m\u001b[0;34m:\u001b[0m\u001b[0;34m\u001b[0m\u001b[0m\n\u001b[1;32m     82\u001b[0m         \u001b[0;32mtry\u001b[0m\u001b[0;34m:\u001b[0m\u001b[0;34m\u001b[0m\u001b[0m\n\u001b[0;32m---> 83\u001b[0;31m             \u001b[0mtemps\u001b[0m\u001b[0;34m,\u001b[0m \u001b[0mval\u001b[0m \u001b[0;34m=\u001b[0m \u001b[0mself\u001b[0m\u001b[0;34m.\u001b[0m\u001b[0mforward_prop\u001b[0m\u001b[0;34m(\u001b[0m\u001b[0;34m*\u001b[0m\u001b[0margs\u001b[0m\u001b[0;34m)\u001b[0m\u001b[0;34m\u001b[0m\u001b[0m\n\u001b[0m\u001b[1;32m     84\u001b[0m             \u001b[0;32mif\u001b[0m \u001b[0mnp\u001b[0m\u001b[0;34m.\u001b[0m\u001b[0misnan\u001b[0m\u001b[0;34m(\u001b[0m\u001b[0mval\u001b[0m\u001b[0;34m)\u001b[0m\u001b[0;34m.\u001b[0m\u001b[0many\u001b[0m\u001b[0;34m(\u001b[0m\u001b[0;34m)\u001b[0m\u001b[0;34m:\u001b[0m\u001b[0;34m\u001b[0m\u001b[0m\n\u001b[1;32m     85\u001b[0m                 \u001b[0mpdb\u001b[0m\u001b[0;34m.\u001b[0m\u001b[0mset_trace\u001b[0m\u001b[0;34m(\u001b[0m\u001b[0;34m)\u001b[0m\u001b[0;34m\u001b[0m\u001b[0m\n",
      "\u001b[0;32m/Users/fultonw/Documents/projects/code/domain_adapt/domain_adapt/new/fxns.pyc\u001b[0m in \u001b[0;36mforward_prop\u001b[0;34m(self, *args)\u001b[0m\n\u001b[1;32m   1367\u001b[0m         \u001b[0mg_args\u001b[0m \u001b[0;34m=\u001b[0m \u001b[0mself\u001b[0m\u001b[0;34m.\u001b[0m\u001b[0mg_args\u001b[0m\u001b[0;34m(\u001b[0m\u001b[0;34m*\u001b[0m\u001b[0margs\u001b[0m\u001b[0;34m)\u001b[0m\u001b[0;34m\u001b[0m\u001b[0m\n\u001b[1;32m   1368\u001b[0m         \u001b[0mh_args\u001b[0m \u001b[0;34m=\u001b[0m \u001b[0mself\u001b[0m\u001b[0;34m.\u001b[0m\u001b[0mh_args\u001b[0m\u001b[0;34m(\u001b[0m\u001b[0;34m*\u001b[0m\u001b[0margs\u001b[0m\u001b[0;34m)\u001b[0m\u001b[0;34m\u001b[0m\u001b[0m\n\u001b[0;32m-> 1369\u001b[0;31m         \u001b[0mg_val\u001b[0m \u001b[0;34m=\u001b[0m \u001b[0mself\u001b[0m\u001b[0;34m.\u001b[0m\u001b[0mg\u001b[0m\u001b[0;34m.\u001b[0m\u001b[0mval\u001b[0m\u001b[0;34m(\u001b[0m\u001b[0;34m*\u001b[0m\u001b[0mg_args\u001b[0m\u001b[0;34m)\u001b[0m\u001b[0;34m\u001b[0m\u001b[0m\n\u001b[0m\u001b[1;32m   1370\u001b[0m         \u001b[0mh_val\u001b[0m \u001b[0;34m=\u001b[0m \u001b[0mself\u001b[0m\u001b[0;34m.\u001b[0m\u001b[0mh\u001b[0m\u001b[0;34m.\u001b[0m\u001b[0mval\u001b[0m\u001b[0;34m(\u001b[0m\u001b[0;34m*\u001b[0m\u001b[0mh_args\u001b[0m\u001b[0;34m)\u001b[0m\u001b[0;34m\u001b[0m\u001b[0m\n\u001b[1;32m   1371\u001b[0m         \u001b[0;32mreturn\u001b[0m \u001b[0;34m(\u001b[0m\u001b[0mg_val\u001b[0m\u001b[0;34m,\u001b[0m\u001b[0mh_val\u001b[0m\u001b[0;34m)\u001b[0m\u001b[0;34m,\u001b[0m \u001b[0mg_val\u001b[0m \u001b[0;34m*\u001b[0m \u001b[0mh_val\u001b[0m\u001b[0;34m\u001b[0m\u001b[0m\n",
      "\u001b[0;32m/Users/fultonw/Documents/projects/code/domain_adapt/domain_adapt/new/fxns.pyc\u001b[0m in \u001b[0;36mval\u001b[0;34m(self, *args)\u001b[0m\n\u001b[1;32m     81\u001b[0m     \u001b[0;32mdef\u001b[0m \u001b[0mval\u001b[0m\u001b[0;34m(\u001b[0m\u001b[0mself\u001b[0m\u001b[0;34m,\u001b[0m \u001b[0;34m*\u001b[0m\u001b[0margs\u001b[0m\u001b[0;34m)\u001b[0m\u001b[0;34m:\u001b[0m\u001b[0;34m\u001b[0m\u001b[0m\n\u001b[1;32m     82\u001b[0m         \u001b[0;32mtry\u001b[0m\u001b[0;34m:\u001b[0m\u001b[0;34m\u001b[0m\u001b[0m\n\u001b[0;32m---> 83\u001b[0;31m             \u001b[0mtemps\u001b[0m\u001b[0;34m,\u001b[0m \u001b[0mval\u001b[0m \u001b[0;34m=\u001b[0m \u001b[0mself\u001b[0m\u001b[0;34m.\u001b[0m\u001b[0mforward_prop\u001b[0m\u001b[0;34m(\u001b[0m\u001b[0;34m*\u001b[0m\u001b[0margs\u001b[0m\u001b[0;34m)\u001b[0m\u001b[0;34m\u001b[0m\u001b[0m\n\u001b[0m\u001b[1;32m     84\u001b[0m             \u001b[0;32mif\u001b[0m \u001b[0mnp\u001b[0m\u001b[0;34m.\u001b[0m\u001b[0misnan\u001b[0m\u001b[0;34m(\u001b[0m\u001b[0mval\u001b[0m\u001b[0;34m)\u001b[0m\u001b[0;34m.\u001b[0m\u001b[0many\u001b[0m\u001b[0;34m(\u001b[0m\u001b[0;34m)\u001b[0m\u001b[0;34m:\u001b[0m\u001b[0;34m\u001b[0m\u001b[0m\n\u001b[1;32m     85\u001b[0m                 \u001b[0mpdb\u001b[0m\u001b[0;34m.\u001b[0m\u001b[0mset_trace\u001b[0m\u001b[0;34m(\u001b[0m\u001b[0;34m)\u001b[0m\u001b[0;34m\u001b[0m\u001b[0m\n",
      "\u001b[0;32m/Users/fultonw/Documents/projects/code/domain_adapt/domain_adapt/new/fxns.pyc\u001b[0m in \u001b[0;36mforward_prop\u001b[0;34m(self, *args)\u001b[0m\n\u001b[1;32m     40\u001b[0m         \u001b[0mreturns\u001b[0m \u001b[0;34m(\u001b[0m\u001b[0mtemps\u001b[0m\u001b[0;34m,\u001b[0m \u001b[0mval\u001b[0m\u001b[0;34m)\u001b[0m\u001b[0;34m\u001b[0m\u001b[0m\n\u001b[1;32m     41\u001b[0m         \"\"\"\n\u001b[0;32m---> 42\u001b[0;31m         \u001b[0;32mreturn\u001b[0m \u001b[0mNone\u001b[0m\u001b[0;34m,\u001b[0m \u001b[0mself\u001b[0m\u001b[0;34m.\u001b[0m\u001b[0m_val\u001b[0m\u001b[0;34m(\u001b[0m\u001b[0;34m*\u001b[0m\u001b[0margs\u001b[0m\u001b[0;34m)\u001b[0m\u001b[0;34m\u001b[0m\u001b[0m\n\u001b[0m\u001b[1;32m     43\u001b[0m \u001b[0;34m\u001b[0m\u001b[0m\n\u001b[1;32m     44\u001b[0m     \u001b[0;32mdef\u001b[0m \u001b[0mbackward_prop\u001b[0m\u001b[0;34m(\u001b[0m\u001b[0mself\u001b[0m\u001b[0;34m,\u001b[0m \u001b[0margs\u001b[0m\u001b[0;34m,\u001b[0m \u001b[0mtemps\u001b[0m\u001b[0;34m,\u001b[0m \u001b[0mval\u001b[0m\u001b[0;34m,\u001b[0m \u001b[0mcare_argnums\u001b[0m\u001b[0;34m)\u001b[0m\u001b[0;34m:\u001b[0m\u001b[0;34m\u001b[0m\u001b[0m\n",
      "\u001b[0;32m/Users/fultonw/Documents/projects/code/domain_adapt/domain_adapt/new/fxns.pyc\u001b[0m in \u001b[0;36mexpected_conditional_PE_dist\u001b[0;34m(full_ws, ws, pseudocount)\u001b[0m\n\u001b[1;32m    562\u001b[0m     \u001b[0;32mprint\u001b[0m \u001b[0mans\u001b[0m\u001b[0;34m,\u001b[0m \u001b[0;34m'CE'\u001b[0m\u001b[0;34m\u001b[0m\u001b[0m\n\u001b[1;32m    563\u001b[0m     \u001b[0mpdb\u001b[0m\u001b[0;34m.\u001b[0m\u001b[0mset_trace\u001b[0m\u001b[0;34m(\u001b[0m\u001b[0;34m)\u001b[0m\u001b[0;34m\u001b[0m\u001b[0m\n\u001b[0;32m--> 564\u001b[0;31m     \u001b[0;32mreturn\u001b[0m \u001b[0mans\u001b[0m\u001b[0;34m\u001b[0m\u001b[0m\n\u001b[0m\u001b[1;32m    565\u001b[0m \u001b[0;34m\u001b[0m\u001b[0m\n\u001b[1;32m    566\u001b[0m \u001b[0;32mdef\u001b[0m \u001b[0mweight_reg\u001b[0m\u001b[0;34m(\u001b[0m\u001b[0mws\u001b[0m\u001b[0;34m)\u001b[0m\u001b[0;34m:\u001b[0m\u001b[0;34m\u001b[0m\u001b[0m\n",
      "\u001b[0;32m/Users/fultonw/Documents/projects/code/domain_adapt/domain_adapt/new/fxns.pyc\u001b[0m in \u001b[0;36mexpected_conditional_PE_dist\u001b[0;34m(full_ws, ws, pseudocount)\u001b[0m\n\u001b[1;32m    562\u001b[0m     \u001b[0;32mprint\u001b[0m \u001b[0mans\u001b[0m\u001b[0;34m,\u001b[0m \u001b[0;34m'CE'\u001b[0m\u001b[0;34m\u001b[0m\u001b[0m\n\u001b[1;32m    563\u001b[0m     \u001b[0mpdb\u001b[0m\u001b[0;34m.\u001b[0m\u001b[0mset_trace\u001b[0m\u001b[0;34m(\u001b[0m\u001b[0;34m)\u001b[0m\u001b[0;34m\u001b[0m\u001b[0m\n\u001b[0;32m--> 564\u001b[0;31m     \u001b[0;32mreturn\u001b[0m \u001b[0mans\u001b[0m\u001b[0;34m\u001b[0m\u001b[0m\n\u001b[0m\u001b[1;32m    565\u001b[0m \u001b[0;34m\u001b[0m\u001b[0m\n\u001b[1;32m    566\u001b[0m \u001b[0;32mdef\u001b[0m \u001b[0mweight_reg\u001b[0m\u001b[0;34m(\u001b[0m\u001b[0mws\u001b[0m\u001b[0;34m)\u001b[0m\u001b[0;34m:\u001b[0m\u001b[0;34m\u001b[0m\u001b[0m\n",
      "\u001b[0;32m/Applications/Canopy.app/appdata/canopy-1.4.1.1975.macosx-x86_64/Canopy.app/Contents/lib/python2.7/bdb.pyc\u001b[0m in \u001b[0;36mtrace_dispatch\u001b[0;34m(self, frame, event, arg)\u001b[0m\n\u001b[1;32m     47\u001b[0m             \u001b[0;32mreturn\u001b[0m \u001b[0;31m# None\u001b[0m\u001b[0;34m\u001b[0m\u001b[0m\n\u001b[1;32m     48\u001b[0m         \u001b[0;32mif\u001b[0m \u001b[0mevent\u001b[0m \u001b[0;34m==\u001b[0m \u001b[0;34m'line'\u001b[0m\u001b[0;34m:\u001b[0m\u001b[0;34m\u001b[0m\u001b[0m\n\u001b[0;32m---> 49\u001b[0;31m             \u001b[0;32mreturn\u001b[0m \u001b[0mself\u001b[0m\u001b[0;34m.\u001b[0m\u001b[0mdispatch_line\u001b[0m\u001b[0;34m(\u001b[0m\u001b[0mframe\u001b[0m\u001b[0;34m)\u001b[0m\u001b[0;34m\u001b[0m\u001b[0m\n\u001b[0m\u001b[1;32m     50\u001b[0m         \u001b[0;32mif\u001b[0m \u001b[0mevent\u001b[0m \u001b[0;34m==\u001b[0m \u001b[0;34m'call'\u001b[0m\u001b[0;34m:\u001b[0m\u001b[0;34m\u001b[0m\u001b[0m\n\u001b[1;32m     51\u001b[0m             \u001b[0;32mreturn\u001b[0m \u001b[0mself\u001b[0m\u001b[0;34m.\u001b[0m\u001b[0mdispatch_call\u001b[0m\u001b[0;34m(\u001b[0m\u001b[0mframe\u001b[0m\u001b[0;34m,\u001b[0m \u001b[0marg\u001b[0m\u001b[0;34m)\u001b[0m\u001b[0;34m\u001b[0m\u001b[0m\n",
      "\u001b[0;32m/Applications/Canopy.app/appdata/canopy-1.4.1.1975.macosx-x86_64/Canopy.app/Contents/lib/python2.7/bdb.pyc\u001b[0m in \u001b[0;36mdispatch_line\u001b[0;34m(self, frame)\u001b[0m\n\u001b[1;32m     66\u001b[0m         \u001b[0;32mif\u001b[0m \u001b[0mself\u001b[0m\u001b[0;34m.\u001b[0m\u001b[0mstop_here\u001b[0m\u001b[0;34m(\u001b[0m\u001b[0mframe\u001b[0m\u001b[0;34m)\u001b[0m \u001b[0;32mor\u001b[0m \u001b[0mself\u001b[0m\u001b[0;34m.\u001b[0m\u001b[0mbreak_here\u001b[0m\u001b[0;34m(\u001b[0m\u001b[0mframe\u001b[0m\u001b[0;34m)\u001b[0m\u001b[0;34m:\u001b[0m\u001b[0;34m\u001b[0m\u001b[0m\n\u001b[1;32m     67\u001b[0m             \u001b[0mself\u001b[0m\u001b[0;34m.\u001b[0m\u001b[0muser_line\u001b[0m\u001b[0;34m(\u001b[0m\u001b[0mframe\u001b[0m\u001b[0;34m)\u001b[0m\u001b[0;34m\u001b[0m\u001b[0m\n\u001b[0;32m---> 68\u001b[0;31m             \u001b[0;32mif\u001b[0m \u001b[0mself\u001b[0m\u001b[0;34m.\u001b[0m\u001b[0mquitting\u001b[0m\u001b[0;34m:\u001b[0m \u001b[0;32mraise\u001b[0m \u001b[0mBdbQuit\u001b[0m\u001b[0;34m\u001b[0m\u001b[0m\n\u001b[0m\u001b[1;32m     69\u001b[0m         \u001b[0;32mreturn\u001b[0m \u001b[0mself\u001b[0m\u001b[0;34m.\u001b[0m\u001b[0mtrace_dispatch\u001b[0m\u001b[0;34m\u001b[0m\u001b[0m\n\u001b[1;32m     70\u001b[0m \u001b[0;34m\u001b[0m\u001b[0m\n",
      "\u001b[0;31mBdbQuit\u001b[0m: "
     ]
    }
   ],
   "source": [
    "# run\n",
    "run.run(random_data_getter, eval_num_trials, eval_which_loss, eval_num_folds, eval_use_test, fitter_infos)"
   ]
  },
  {
   "cell_type": "code",
   "execution_count": null,
   "metadata": {
    "collapsed": true
   },
   "outputs": [],
   "source": []
  }
 ],
 "metadata": {
  "kernelspec": {
   "display_name": "Python 2",
   "language": "python",
   "name": "python2"
  },
  "language_info": {
   "codemirror_mode": {
    "name": "ipython",
    "version": 2
   },
   "file_extension": ".py",
   "mimetype": "text/x-python",
   "name": "python",
   "nbconvert_exporter": "python",
   "pygments_lexer": "ipython2",
   "version": "2.7.6"
  }
 },
 "nbformat": 4,
 "nbformat_minor": 0
}
