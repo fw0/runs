{
 "cells": [
  {
   "cell_type": "code",
   "execution_count": 1,
   "metadata": {
    "collapsed": false
   },
   "outputs": [],
   "source": [
    "import constants\n",
    "cache_folder_name = 'ratio=logreg;loss=squared;method=pymanopt_UB'\n",
    "seed = 44"
   ]
  },
  {
   "cell_type": "code",
   "execution_count": 2,
   "metadata": {
    "collapsed": false
   },
   "outputs": [],
   "source": [
    "import autograd.numpy as np\n",
    "np.random.seed(seed)\n",
    "import python_utils.python_utils.basic as basic\n",
    "import python_utils.python_utils.caching as caching\n",
    "log_folder = '%s/%s' % (constants.cache_folder, cache_folder_name)\n",
    "caching.init(constants.cache_folder, constants.which_hash, basic.archiver(log_folder))\n",
    "%load_ext autoreload\n",
    "%autoreload 2\n",
    "import matplotlib\n",
    "matplotlib.use('Agg')"
   ]
  },
  {
   "cell_type": "code",
   "execution_count": 3,
   "metadata": {
    "collapsed": false
   },
   "outputs": [
    {
     "data": {
      "text/plain": [
       "'/Users/fultonw/Documents/projects/runs/domain_adapt_run/domain_adapt_run/notebooks/new/hyperparameter_loss_surface_stratified/better_v_data/cache'"
      ]
     },
     "execution_count": 3,
     "metadata": {},
     "output_type": "execute_result"
    }
   ],
   "source": [
    "constants.cache_folder"
   ]
  },
  {
   "cell_type": "code",
   "execution_count": 4,
   "metadata": {
    "collapsed": false
   },
   "outputs": [
    {
     "name": "stdout",
     "output_type": "stream",
     "text": [
      "Couldn't import dot_parser, loading of dot files will not be possible.\n"
     ]
    }
   ],
   "source": [
    "import matplotlib.pyplot as plt\n",
    "from IPython.display import display_pretty, display_html\n",
    "import python_utils.python_utils.basic as basic\n",
    "import pandas as pd\n",
    "import pdb\n",
    "import itertools\n",
    "import functools\n",
    "import scipy.stats\n",
    "import scipy\n",
    "import cvxopt\n",
    "import autograd\n",
    "import autograd.numpy as np\n",
    "import domain_adapt.domain_adapt.new.fxns as fxns\n",
    "import domain_adapt.domain_adapt.new.utils as utils\n",
    "import domain_adapt.domain_adapt.new.optimizers as optimizers\n",
    "import domain_adapt.domain_adapt.new.constructors as constructors\n",
    "import domain_adapt.domain_adapt.SDR_data as data\n",
    "import domain_adapt_run.domain_adapt_run.notebooks.new.hyperparameter_loss_surface_stratified.run as run\n",
    "#import data.domain_adapt_data.domain_adapt_data.fxns as data"
   ]
  },
  {
   "cell_type": "code",
   "execution_count": 5,
   "metadata": {
    "collapsed": true
   },
   "outputs": [],
   "source": [
    "# define data\n",
    "x_dim = 50\n",
    "num_train = 50\n",
    "num_test = 50\n",
    "proportion = 0.5\n",
    "def get_data(seed):\n",
    "    np.random.seed(seed)\n",
    "    return data.better_v_data(x_dim=x_dim, num_train=num_train, num_test=num_test, proportion=proportion)"
   ]
  },
  {
   "cell_type": "code",
   "execution_count": 6,
   "metadata": {
    "collapsed": false
   },
   "outputs": [],
   "source": [
    "# define fitter\n",
    "pymanopt_options={'logverbosity':2, 'maxiter':100}\n",
    "#u_dim = 1\n",
    "unconstrained = False\n",
    "num_tries = 5\n",
    "plot_b_info = constructors.plot_b_info\n",
    "def get_fitter(c_lsqr_loss, c_lsqr_loss_eval, c_lsqr, c_logreg, weight_reg, UB_reg, sigma, max_ratio, u_dim):\n",
    "    B_init_f_getter = lambda xs_train, ys_train, xs_test: (lambda: np.random.normal(size=(xs_train.shape[1],u_dim)))\n",
    "    return constructors.logreg_ratio_UB_fitter(c_lsqr, c_logreg, weight_reg, UB_reg, sigma, B_init_f_getter, unconstrained, c_lsqr_loss, c_lsqr_loss_eval, max_ratio=max_ratio, num_tries=num_tries, pymanopt_options=pymanopt_options, plot_b_info=plot_b_info)"
   ]
  },
  {
   "cell_type": "code",
   "execution_count": 7,
   "metadata": {
    "collapsed": false
   },
   "outputs": [],
   "source": [
    "# define hyperparameter search space via an iterator\n",
    "UB_regs = [0.]#1,1.,10.]\n",
    "u_dims = [1,]\n",
    "c_lsqr_losses = [1.]\n",
    "c_lsqr_loss_evals = [0.]\n",
    "c_lsqrs = [.1,1.,10.,100]\n",
    "c_logregs = [0.1,1.,10.]\n",
    "weight_regs = [0.1,1.,10.]\n",
    "sigmas = [0.25,1.,5.]#,5.]\n",
    "max_ratios = [5.]\n",
    "make_tuple = lambda key, vals: [(key,val) for val in vals]\n",
    "care_hyperparam_tuples = itertools.product(\n",
    "    make_tuple('UB_reg',UB_regs), \n",
    "    make_tuple('u_dim',u_dims), \n",
    "    )\n",
    "nocare_hyperparam_tuples = itertools.product(\n",
    "    make_tuple('c_lsqr_loss',c_lsqr_losses), \n",
    "    make_tuple('c_lsqr_loss_eval',c_lsqr_loss_evals), \n",
    "    make_tuple('c_lsqr',c_lsqrs), \n",
    "    make_tuple('c_logreg',c_logregs), \n",
    "    make_tuple('weight_reg',weight_regs), \n",
    "    make_tuple('UB_reg',UB_regs), \n",
    "    make_tuple('sigma',sigmas), \n",
    "    make_tuple('max_ratio',max_ratios)\n",
    "    )\n"
   ]
  },
  {
   "cell_type": "code",
   "execution_count": 8,
   "metadata": {
    "collapsed": true
   },
   "outputs": [],
   "source": [
    "#\n",
    "mapper = map\n",
    "#mapper = functools.partial(basic.joblib_parallel_map, 2, True)"
   ]
  },
  {
   "cell_type": "code",
   "execution_count": null,
   "metadata": {
    "collapsed": false,
    "scrolled": false
   },
   "outputs": [],
   "source": [
    "# \n",
    "num_iterations = 5"
   ]
  },
  {
   "cell_type": "code",
   "execution_count": null,
   "metadata": {
    "collapsed": false,
    "scrolled": true
   },
   "outputs": [],
   "source": [
    "# \n",
    "run.run(get_data, get_fitter, care_hyperparam_tuples, nocare_hyperparam_tuples, num_iterations, mapper)"
   ]
  }
 ],
 "metadata": {
  "kernelspec": {
   "display_name": "Python 2",
   "language": "python",
   "name": "python2"
  },
  "language_info": {
   "codemirror_mode": {
    "name": "ipython",
    "version": 2
   },
   "file_extension": ".py",
   "mimetype": "text/x-python",
   "name": "python",
   "nbconvert_exporter": "python",
   "pygments_lexer": "ipython2",
   "version": "2.7.6"
  }
 },
 "nbformat": 4,
 "nbformat_minor": 0
}
