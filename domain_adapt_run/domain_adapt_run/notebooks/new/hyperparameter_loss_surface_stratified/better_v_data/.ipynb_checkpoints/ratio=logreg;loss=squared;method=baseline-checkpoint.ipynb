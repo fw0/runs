{
 "cells": [
  {
   "cell_type": "code",
   "execution_count": 1,
   "metadata": {
    "collapsed": false
   },
   "outputs": [],
   "source": [
    "%load_ext autoreload\n",
    "%autoreload 2"
   ]
  },
  {
   "cell_type": "code",
   "execution_count": 2,
   "metadata": {
    "collapsed": false
   },
   "outputs": [
    {
     "name": "stdout",
     "output_type": "stream",
     "text": [
      "Couldn't import dot_parser, loading of dot files will not be possible.\n"
     ]
    },
    {
     "ename": "ImportError",
     "evalue": "No module named better_v_data.run",
     "output_type": "error",
     "traceback": [
      "\u001b[0;31m---------------------------------------------------------------------------\u001b[0m",
      "\u001b[0;31mImportError\u001b[0m                               Traceback (most recent call last)",
      "\u001b[0;32m<ipython-input-2-06a6e9535983>\u001b[0m in \u001b[0;36m<module>\u001b[0;34m()\u001b[0m\n\u001b[1;32m     20\u001b[0m \u001b[0;32mimport\u001b[0m \u001b[0mdomain_adapt\u001b[0m\u001b[0;34m.\u001b[0m\u001b[0mdomain_adapt\u001b[0m\u001b[0;34m.\u001b[0m\u001b[0mnew\u001b[0m\u001b[0;34m.\u001b[0m\u001b[0mconstructors\u001b[0m \u001b[0;32mas\u001b[0m \u001b[0mconstructors\u001b[0m\u001b[0;34m\u001b[0m\u001b[0m\n\u001b[1;32m     21\u001b[0m \u001b[0;32mimport\u001b[0m \u001b[0mdomain_adapt\u001b[0m\u001b[0;34m.\u001b[0m\u001b[0mdomain_adapt\u001b[0m\u001b[0;34m.\u001b[0m\u001b[0mSDR_data\u001b[0m \u001b[0;32mas\u001b[0m \u001b[0mdata\u001b[0m\u001b[0;34m\u001b[0m\u001b[0m\n\u001b[0;32m---> 22\u001b[0;31m \u001b[0;32mimport\u001b[0m \u001b[0mdomain_adapt_run\u001b[0m\u001b[0;34m.\u001b[0m\u001b[0mdomain_adapt_run\u001b[0m\u001b[0;34m.\u001b[0m\u001b[0mnotebooks\u001b[0m\u001b[0;34m.\u001b[0m\u001b[0mnew\u001b[0m\u001b[0;34m.\u001b[0m\u001b[0mhyperparameter_loss_surface_stratified\u001b[0m\u001b[0;34m.\u001b[0m\u001b[0mbetter_v_data\u001b[0m\u001b[0;34m.\u001b[0m\u001b[0mrun\u001b[0m \u001b[0;32mas\u001b[0m \u001b[0mrun\u001b[0m\u001b[0;34m\u001b[0m\u001b[0m\n\u001b[0m",
      "\u001b[0;31mImportError\u001b[0m: No module named better_v_data.run"
     ]
    }
   ],
   "source": [
    "import numpy as np\n",
    "seed = 42\n",
    "np.random.seed(seed)\n",
    "import matplotlib.pyplot as plt\n",
    "import matplotlib\n",
    "from IPython.display import display_pretty, display_html\n",
    "import python_utils.python_utils.basic as basic\n",
    "import pandas as pd\n",
    "import pdb\n",
    "import itertools\n",
    "import functools\n",
    "import scipy.stats\n",
    "import scipy\n",
    "import cvxopt\n",
    "import autograd\n",
    "import autograd.numpy as np\n",
    "import domain_adapt.domain_adapt.new.fxns as fxns\n",
    "import domain_adapt.domain_adapt.new.utils as utils\n",
    "import domain_adapt.domain_adapt.new.optimizers as optimizers\n",
    "import domain_adapt.domain_adapt.new.constructors as constructors\n",
    "import domain_adapt.domain_adapt.SDR_data as data\n",
    "import domain_adapt_run.domain_adapt_run.notebooks.new.hyperparameter_loss_surface_stratified.better_v_data.run as run"
   ]
  },
  {
   "cell_type": "code",
   "execution_count": null,
   "metadata": {
    "collapsed": false
   },
   "outputs": [],
   "source": [
    "# define data\n",
    "x_dim = 50\n",
    "num_train = 50\n",
    "num_test = 50\n",
    "proportion = 0.5\n",
    "def get_data(seed):\n",
    "    np.random.seed(seed)\n",
    "    return data.better_v_data(x_dim=x_dim, num_train=num_train, num_test=num_test, proportion=proportion)"
   ]
  },
  {
   "cell_type": "code",
   "execution_count": null,
   "metadata": {
    "collapsed": true
   },
   "outputs": [],
   "source": [
    "# define fitter\n",
    "num_tries = 1\n",
    "plot_b_info = constructors.plot_b_info\n",
    "def get_fitter(c_logreg, c_lsqr, sigma, max_ratio):\n",
    "    return constructors.baseline_fitter(c_logreg, c_lsqr, sigma, max_ratio=max_ratio, plot_b_info=plot_b_info)"
   ]
  },
  {
   "cell_type": "code",
   "execution_count": null,
   "metadata": {
    "collapsed": false
   },
   "outputs": [],
   "source": [
    "# define hyperparameter search space via an iterator\n",
    "c_lsqrs = [10,100]#,150,500,1000]\n",
    "c_logregs = [0.1,1.]\n",
    "sigmas = [0.25,5.]#,5.]\n",
    "max_ratios = [2.,5.]\n",
    "make_tuple = lambda key, vals: [(key,val) for val in vals]\n",
    "care_hyperparam_tuples = itertools.product(\n",
    "    )\n",
    "nocare_hyperparam_tuples = itertools.product(\n",
    "    make_tuple('c_lsqr',c_lsqrs), \n",
    "    make_tuple('c_logreg',c_logregs), \n",
    "    make_tuple('sigma',sigmas), \n",
    "    make_tuple('max_ratio',max_ratios)\n",
    "    )"
   ]
  },
  {
   "cell_type": "code",
   "execution_count": null,
   "metadata": {
    "collapsed": true
   },
   "outputs": [],
   "source": [
    "# define mapper\n",
    "mapper = map"
   ]
  },
  {
   "cell_type": "code",
   "execution_count": null,
   "metadata": {
    "collapsed": false,
    "scrolled": true
   },
   "outputs": [],
   "source": [
    "# \n",
    "run.run(get_data, get_fitter, care_hyperparam_tuples, nocare_hyperparam_tuples, num_iterations, mapper)"
   ]
  },
  {
   "cell_type": "code",
   "execution_count": null,
   "metadata": {
    "collapsed": false
   },
   "outputs": [],
   "source": [
    "dict(this_results)"
   ]
  },
  {
   "cell_type": "code",
   "execution_count": null,
   "metadata": {
    "collapsed": false
   },
   "outputs": [],
   "source": [
    "pd.DataFrame.from_dict(dict(this_results)).T"
   ]
  },
  {
   "cell_type": "code",
   "execution_count": null,
   "metadata": {
    "collapsed": false,
    "scrolled": false
   },
   "outputs": [],
   "source": [
    "fig,ax = plt.subplots()\n",
    "ax.text(0.5,0.5,'gg\\ngg\\ngg\\ngg')\n",
    "ax.text(0.5,2.5,'55')\n",
    "basic.display_fig_inline(fig)"
   ]
  }
 ],
 "metadata": {
  "kernelspec": {
   "display_name": "Python 2",
   "language": "python",
   "name": "python2"
  },
  "language_info": {
   "codemirror_mode": {
    "name": "ipython",
    "version": 2
   },
   "file_extension": ".py",
   "mimetype": "text/x-python",
   "name": "python",
   "nbconvert_exporter": "python",
   "pygments_lexer": "ipython2",
   "version": "2.7.6"
  }
 },
 "nbformat": 4,
 "nbformat_minor": 0
}
