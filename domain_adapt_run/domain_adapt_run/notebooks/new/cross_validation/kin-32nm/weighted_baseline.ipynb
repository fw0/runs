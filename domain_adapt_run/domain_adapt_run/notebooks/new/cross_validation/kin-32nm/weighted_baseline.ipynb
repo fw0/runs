{
 "cells": [
  {
   "cell_type": "code",
   "execution_count": 1,
   "metadata": {
    "collapsed": false
   },
   "outputs": [],
   "source": [
    "import constants\n",
    "cache_folder_name = 'weighted_baseline'\n",
    "seed = 44"
   ]
  },
  {
   "cell_type": "code",
   "execution_count": 2,
   "metadata": {
    "collapsed": false
   },
   "outputs": [
    {
     "name": "stdout",
     "output_type": "stream",
     "text": [
      "[Errno 17] File exists: '/Users/fultonw/Documents/projects/runs/domain_adapt_run/domain_adapt_run/notebooks/new/cross_validation/cache/weighted_baseline'\n"
     ]
    }
   ],
   "source": [
    "import autograd.numpy as np\n",
    "np.random.seed(seed)\n",
    "import python_utils.python_utils.basic as basic\n",
    "import python_utils.python_utils.caching as caching\n",
    "log_folder = '%s/%s' % (constants.cache_folder, cache_folder_name)\n",
    "caching.init(constants.cache_folder, constants.which_hash, basic.archiver(log_folder))\n",
    "%load_ext autoreload\n",
    "%autoreload 2\n",
    "import matplotlib\n",
    "matplotlib.use('Agg')"
   ]
  },
  {
   "cell_type": "code",
   "execution_count": 3,
   "metadata": {
    "collapsed": false
   },
   "outputs": [
    {
     "name": "stdout",
     "output_type": "stream",
     "text": [
      "Couldn't import dot_parser, loading of dot files will not be possible.\n"
     ]
    }
   ],
   "source": [
    "import matplotlib.pyplot as plt\n",
    "from IPython.display import display_pretty, display_html\n",
    "import python_utils.python_utils.basic as basic\n",
    "import pandas as pd\n",
    "import pdb\n",
    "import itertools\n",
    "import functools\n",
    "import scipy.stats\n",
    "import scipy\n",
    "import cvxopt\n",
    "import autograd\n",
    "import autograd.numpy as np\n",
    "import domain_adapt.domain_adapt.new.fxns as fxns\n",
    "import domain_adapt.domain_adapt.new.utils as utils\n",
    "import domain_adapt.domain_adapt.new.optimizers as optimizers\n",
    "import domain_adapt.domain_adapt.new.constructors as constructors\n",
    "import domain_adapt.domain_adapt.new.lsif_constructor as lsif_constructor\n",
    "import domain_adapt.domain_adapt.new.cv as cv\n",
    "#import domain_adapt.domain_adapt.SDR_data as data\n",
    "import domain_adapt_run.domain_adapt_run.notebooks.new.cross_validation.run as run\n",
    "import data.domain_adapt_data.domain_adapt_data.fxns as data"
   ]
  },
  {
   "cell_type": "code",
   "execution_count": 4,
   "metadata": {
    "collapsed": true
   },
   "outputs": [],
   "source": [
    "# define \n",
    "def random_data_getter():\n",
    "    xs, ys = data.kin_data('kin-32fh')\n",
    "    N_train = 100\n",
    "    N_test = 500\n",
    "    c_cols=range(8)\n",
    "    return data.lsif_data_subsample(xs, ys, N_train, N_test, c_cols=c_cols)"
   ]
  },
  {
   "cell_type": "code",
   "execution_count": 5,
   "metadata": {
    "collapsed": false
   },
   "outputs": [],
   "source": [
    "# define\n",
    "#cv_which_loss = 'square'\n",
    "#cv_num_folds = 3\n",
    "#cv_num_folds = 2\n",
    "#cv_use_test = False\n",
    "predictor_which_loss = 'square'\n",
    "num_basis = 100\n",
    "#u_dim = 8\n",
    "#pymanopt_options={'logverbosity':1, 'maxiter':10}\n",
    "many_optimizer_num_cycles = 1\n",
    "num_tries = 1\n",
    "B_init_f_getter = None\n",
    "learn_projection = False\n",
    "learn_weights = True\n",
    "tradeoff_weight_reg = 0.\n",
    "#tradeoff_weight_regs = 2**np.linspace(-3,3,7)\n",
    "#tradeoff_weight_regs = 2**np.linspace(-1,1,3)\n",
    "fitter = lsif_constructor.lsif_ratio_fitter(predictor_which_loss, num_basis, tradeoff_weight_reg, B_init_f_getter, learn_weights=learn_weights, learn_projection=learn_projection, num_tries=num_tries, many_optimizer_num_cycles=many_optimizer_num_cycles)\n",
    "#fitter = cv.cv_fitter(fitter_list, cv_which_loss, cv_num_folds, cv_use_test)"
   ]
  },
  {
   "cell_type": "code",
   "execution_count": 6,
   "metadata": {
    "collapsed": false,
    "scrolled": false
   },
   "outputs": [
    {
     "name": "stdout",
     "output_type": "stream",
     "text": [
      "/Users/fultonw/Documents/projects/code/data/domain_adapt_data/data/kin-32fh.data\n",
      "[ 1.  1.  1.  1.  1.  1.  1.  1.  1.  1.  1.  1.  1.  1.  1.  1.  1.  1.\n",
      "  1.  1.  1.  1.  1.  1.  1.  1.  1.  1.  1.  1.  1.  1.  1.] [ 0.  0.  0.  0.  0.  0.  0.  0.  0.  0.  0.  0.  0.  0.  0.  0.  0.  0.\n",
      "  0.  0.  0.  0.  0.  0.  0.  0.  0.  0.  0.  0.  0.  0.  1.]\n",
      "> /Users/fultonw/Documents/projects/code/data/domain_adapt_data/domain_adapt_data/fxns.py(116)lsif_data_subsample()\n",
      "-> return xs_train, xs_test, ys_train, ys_test\n",
      "(Pdb) q\n"
     ]
    },
    {
     "ename": "BdbQuit",
     "evalue": "",
     "output_type": "error",
     "traceback": [
      "\u001b[0;31m---------------------------------------------------------------------------\u001b[0m",
      "\u001b[0;31mBdbQuit\u001b[0m                                   Traceback (most recent call last)",
      "\u001b[0;32m<ipython-input-6-a018b8865129>\u001b[0m in \u001b[0;36m<module>\u001b[0;34m()\u001b[0m\n\u001b[1;32m      4\u001b[0m \u001b[0meval_num_folds\u001b[0m \u001b[0;34m=\u001b[0m \u001b[0;36m0\u001b[0m\u001b[0;34m\u001b[0m\u001b[0m\n\u001b[1;32m      5\u001b[0m \u001b[0meval_use_test\u001b[0m \u001b[0;34m=\u001b[0m \u001b[0mTrue\u001b[0m\u001b[0;34m\u001b[0m\u001b[0m\n\u001b[0;32m----> 6\u001b[0;31m \u001b[0mrun\u001b[0m\u001b[0;34m.\u001b[0m\u001b[0mrun\u001b[0m\u001b[0;34m(\u001b[0m\u001b[0mrandom_data_getter\u001b[0m\u001b[0;34m,\u001b[0m \u001b[0meval_num_trials\u001b[0m\u001b[0;34m,\u001b[0m \u001b[0meval_which_loss\u001b[0m\u001b[0;34m,\u001b[0m \u001b[0meval_num_folds\u001b[0m\u001b[0;34m,\u001b[0m \u001b[0meval_use_test\u001b[0m\u001b[0;34m,\u001b[0m \u001b[0mfitter\u001b[0m\u001b[0;34m)\u001b[0m\u001b[0;34m\u001b[0m\u001b[0m\n\u001b[0m",
      "\u001b[0;32m/Users/fultonw/Documents/projects/runs/domain_adapt_run/domain_adapt_run/notebooks/new/cross_validation/run.pyc\u001b[0m in \u001b[0;36mrun\u001b[0;34m(random_data_getter, num_trials, which_loss, num_folds, use_test, fitter)\u001b[0m\n\u001b[1;32m     10\u001b[0m     \u001b[0;32mfor\u001b[0m \u001b[0mi\u001b[0m \u001b[0;32min\u001b[0m \u001b[0mxrange\u001b[0m\u001b[0;34m(\u001b[0m\u001b[0mnum_trials\u001b[0m\u001b[0;34m)\u001b[0m\u001b[0;34m:\u001b[0m\u001b[0;34m\u001b[0m\u001b[0m\n\u001b[1;32m     11\u001b[0m \u001b[0;34m\u001b[0m\u001b[0m\n\u001b[0;32m---> 12\u001b[0;31m         \u001b[0mxs_train\u001b[0m\u001b[0;34m,\u001b[0m \u001b[0mxs_test\u001b[0m\u001b[0;34m,\u001b[0m \u001b[0mys_train\u001b[0m\u001b[0;34m,\u001b[0m \u001b[0mys_test\u001b[0m \u001b[0;34m=\u001b[0m \u001b[0mrandom_data_getter\u001b[0m\u001b[0;34m(\u001b[0m\u001b[0;34m)\u001b[0m\u001b[0;34m\u001b[0m\u001b[0m\n\u001b[0m\u001b[1;32m     13\u001b[0m \u001b[0;34m\u001b[0m\u001b[0m\n\u001b[1;32m     14\u001b[0m         \u001b[0mtrial_losses\u001b[0m \u001b[0;34m=\u001b[0m \u001b[0mcv\u001b[0m\u001b[0;34m.\u001b[0m\u001b[0mget_oos_loss\u001b[0m\u001b[0;34m(\u001b[0m\u001b[0mwhich_loss\u001b[0m\u001b[0;34m,\u001b[0m \u001b[0mnum_folds\u001b[0m\u001b[0;34m,\u001b[0m \u001b[0muse_test\u001b[0m\u001b[0;34m,\u001b[0m \u001b[0mfitter\u001b[0m\u001b[0;34m,\u001b[0m \u001b[0mxs_train\u001b[0m\u001b[0;34m,\u001b[0m \u001b[0mxs_test\u001b[0m\u001b[0;34m,\u001b[0m \u001b[0mys_train\u001b[0m\u001b[0;34m,\u001b[0m \u001b[0mys_test\u001b[0m\u001b[0;34m=\u001b[0m\u001b[0mys_test\u001b[0m \u001b[0;32mif\u001b[0m \u001b[0muse_test\u001b[0m \u001b[0;32melse\u001b[0m \u001b[0mNone\u001b[0m\u001b[0;34m)\u001b[0m\u001b[0;34m\u001b[0m\u001b[0m\n",
      "\u001b[0;32m<ipython-input-4-6994f7fd5c75>\u001b[0m in \u001b[0;36mrandom_data_getter\u001b[0;34m()\u001b[0m\n\u001b[1;32m      5\u001b[0m     \u001b[0mN_test\u001b[0m \u001b[0;34m=\u001b[0m \u001b[0;36m500\u001b[0m\u001b[0;34m\u001b[0m\u001b[0m\n\u001b[1;32m      6\u001b[0m     \u001b[0mc_cols\u001b[0m\u001b[0;34m=\u001b[0m\u001b[0mrange\u001b[0m\u001b[0;34m(\u001b[0m\u001b[0;36m8\u001b[0m\u001b[0;34m)\u001b[0m\u001b[0;34m\u001b[0m\u001b[0m\n\u001b[0;32m----> 7\u001b[0;31m     \u001b[0;32mreturn\u001b[0m \u001b[0mdata\u001b[0m\u001b[0;34m.\u001b[0m\u001b[0mlsif_data_subsample\u001b[0m\u001b[0;34m(\u001b[0m\u001b[0mxs\u001b[0m\u001b[0;34m,\u001b[0m \u001b[0mys\u001b[0m\u001b[0;34m,\u001b[0m \u001b[0mN_train\u001b[0m\u001b[0;34m,\u001b[0m \u001b[0mN_test\u001b[0m\u001b[0;34m,\u001b[0m \u001b[0mc_cols\u001b[0m\u001b[0;34m=\u001b[0m\u001b[0mc_cols\u001b[0m\u001b[0;34m)\u001b[0m\u001b[0;34m\u001b[0m\u001b[0m\n\u001b[0m",
      "\u001b[0;32m/Users/fultonw/Documents/projects/code/data/domain_adapt_data/domain_adapt_data/fxns.py\u001b[0m in \u001b[0;36mlsif_data_subsample\u001b[0;34m(xs, ys, N_train, N_test, c_cols)\u001b[0m\n\u001b[1;32m    114\u001b[0m     \u001b[0;32mprint\u001b[0m \u001b[0mnp\u001b[0m\u001b[0;34m.\u001b[0m\u001b[0mmax\u001b[0m\u001b[0;34m(\u001b[0m\u001b[0mxs\u001b[0m\u001b[0;34m,\u001b[0m \u001b[0maxis\u001b[0m\u001b[0;34m=\u001b[0m\u001b[0;36m0\u001b[0m\u001b[0;34m)\u001b[0m\u001b[0;34m,\u001b[0m \u001b[0mnp\u001b[0m\u001b[0;34m.\u001b[0m\u001b[0mmin\u001b[0m\u001b[0;34m(\u001b[0m\u001b[0mxs\u001b[0m\u001b[0;34m,\u001b[0m \u001b[0maxis\u001b[0m\u001b[0;34m=\u001b[0m\u001b[0;36m0\u001b[0m\u001b[0;34m)\u001b[0m\u001b[0;34m\u001b[0m\u001b[0m\n\u001b[1;32m    115\u001b[0m     \u001b[0mpdb\u001b[0m\u001b[0;34m.\u001b[0m\u001b[0mset_trace\u001b[0m\u001b[0;34m(\u001b[0m\u001b[0;34m)\u001b[0m\u001b[0;34m\u001b[0m\u001b[0m\n\u001b[0;32m--> 116\u001b[0;31m     \u001b[0;32mreturn\u001b[0m \u001b[0mxs_train\u001b[0m\u001b[0;34m,\u001b[0m \u001b[0mxs_test\u001b[0m\u001b[0;34m,\u001b[0m \u001b[0mys_train\u001b[0m\u001b[0;34m,\u001b[0m \u001b[0mys_test\u001b[0m\u001b[0;34m\u001b[0m\u001b[0m\n\u001b[0m\u001b[1;32m    117\u001b[0m \u001b[0;34m\u001b[0m\u001b[0m\n\u001b[1;32m    118\u001b[0m \u001b[0;32mdef\u001b[0m \u001b[0msplit\u001b[0m\u001b[0;34m(\u001b[0m\u001b[0mtraining_proportion\u001b[0m\u001b[0;34m,\u001b[0m \u001b[0mseed\u001b[0m\u001b[0;34m,\u001b[0m \u001b[0mxs\u001b[0m\u001b[0;34m,\u001b[0m \u001b[0mys\u001b[0m\u001b[0;34m)\u001b[0m\u001b[0;34m:\u001b[0m\u001b[0;34m\u001b[0m\u001b[0m\n",
      "\u001b[0;32m/Users/fultonw/Documents/projects/code/data/domain_adapt_data/domain_adapt_data/fxns.py\u001b[0m in \u001b[0;36mlsif_data_subsample\u001b[0;34m(xs, ys, N_train, N_test, c_cols)\u001b[0m\n\u001b[1;32m    114\u001b[0m     \u001b[0;32mprint\u001b[0m \u001b[0mnp\u001b[0m\u001b[0;34m.\u001b[0m\u001b[0mmax\u001b[0m\u001b[0;34m(\u001b[0m\u001b[0mxs\u001b[0m\u001b[0;34m,\u001b[0m \u001b[0maxis\u001b[0m\u001b[0;34m=\u001b[0m\u001b[0;36m0\u001b[0m\u001b[0;34m)\u001b[0m\u001b[0;34m,\u001b[0m \u001b[0mnp\u001b[0m\u001b[0;34m.\u001b[0m\u001b[0mmin\u001b[0m\u001b[0;34m(\u001b[0m\u001b[0mxs\u001b[0m\u001b[0;34m,\u001b[0m \u001b[0maxis\u001b[0m\u001b[0;34m=\u001b[0m\u001b[0;36m0\u001b[0m\u001b[0;34m)\u001b[0m\u001b[0;34m\u001b[0m\u001b[0m\n\u001b[1;32m    115\u001b[0m     \u001b[0mpdb\u001b[0m\u001b[0;34m.\u001b[0m\u001b[0mset_trace\u001b[0m\u001b[0;34m(\u001b[0m\u001b[0;34m)\u001b[0m\u001b[0;34m\u001b[0m\u001b[0m\n\u001b[0;32m--> 116\u001b[0;31m     \u001b[0;32mreturn\u001b[0m \u001b[0mxs_train\u001b[0m\u001b[0;34m,\u001b[0m \u001b[0mxs_test\u001b[0m\u001b[0;34m,\u001b[0m \u001b[0mys_train\u001b[0m\u001b[0;34m,\u001b[0m \u001b[0mys_test\u001b[0m\u001b[0;34m\u001b[0m\u001b[0m\n\u001b[0m\u001b[1;32m    117\u001b[0m \u001b[0;34m\u001b[0m\u001b[0m\n\u001b[1;32m    118\u001b[0m \u001b[0;32mdef\u001b[0m \u001b[0msplit\u001b[0m\u001b[0;34m(\u001b[0m\u001b[0mtraining_proportion\u001b[0m\u001b[0;34m,\u001b[0m \u001b[0mseed\u001b[0m\u001b[0;34m,\u001b[0m \u001b[0mxs\u001b[0m\u001b[0;34m,\u001b[0m \u001b[0mys\u001b[0m\u001b[0;34m)\u001b[0m\u001b[0;34m:\u001b[0m\u001b[0;34m\u001b[0m\u001b[0m\n",
      "\u001b[0;32m/Applications/Canopy.app/appdata/canopy-1.4.1.1975.macosx-x86_64/Canopy.app/Contents/lib/python2.7/bdb.pyc\u001b[0m in \u001b[0;36mtrace_dispatch\u001b[0;34m(self, frame, event, arg)\u001b[0m\n\u001b[1;32m     47\u001b[0m             \u001b[0;32mreturn\u001b[0m \u001b[0;31m# None\u001b[0m\u001b[0;34m\u001b[0m\u001b[0m\n\u001b[1;32m     48\u001b[0m         \u001b[0;32mif\u001b[0m \u001b[0mevent\u001b[0m \u001b[0;34m==\u001b[0m \u001b[0;34m'line'\u001b[0m\u001b[0;34m:\u001b[0m\u001b[0;34m\u001b[0m\u001b[0m\n\u001b[0;32m---> 49\u001b[0;31m             \u001b[0;32mreturn\u001b[0m \u001b[0mself\u001b[0m\u001b[0;34m.\u001b[0m\u001b[0mdispatch_line\u001b[0m\u001b[0;34m(\u001b[0m\u001b[0mframe\u001b[0m\u001b[0;34m)\u001b[0m\u001b[0;34m\u001b[0m\u001b[0m\n\u001b[0m\u001b[1;32m     50\u001b[0m         \u001b[0;32mif\u001b[0m \u001b[0mevent\u001b[0m \u001b[0;34m==\u001b[0m \u001b[0;34m'call'\u001b[0m\u001b[0;34m:\u001b[0m\u001b[0;34m\u001b[0m\u001b[0m\n\u001b[1;32m     51\u001b[0m             \u001b[0;32mreturn\u001b[0m \u001b[0mself\u001b[0m\u001b[0;34m.\u001b[0m\u001b[0mdispatch_call\u001b[0m\u001b[0;34m(\u001b[0m\u001b[0mframe\u001b[0m\u001b[0;34m,\u001b[0m \u001b[0marg\u001b[0m\u001b[0;34m)\u001b[0m\u001b[0;34m\u001b[0m\u001b[0m\n",
      "\u001b[0;32m/Applications/Canopy.app/appdata/canopy-1.4.1.1975.macosx-x86_64/Canopy.app/Contents/lib/python2.7/bdb.pyc\u001b[0m in \u001b[0;36mdispatch_line\u001b[0;34m(self, frame)\u001b[0m\n\u001b[1;32m     66\u001b[0m         \u001b[0;32mif\u001b[0m \u001b[0mself\u001b[0m\u001b[0;34m.\u001b[0m\u001b[0mstop_here\u001b[0m\u001b[0;34m(\u001b[0m\u001b[0mframe\u001b[0m\u001b[0;34m)\u001b[0m \u001b[0;32mor\u001b[0m \u001b[0mself\u001b[0m\u001b[0;34m.\u001b[0m\u001b[0mbreak_here\u001b[0m\u001b[0;34m(\u001b[0m\u001b[0mframe\u001b[0m\u001b[0;34m)\u001b[0m\u001b[0;34m:\u001b[0m\u001b[0;34m\u001b[0m\u001b[0m\n\u001b[1;32m     67\u001b[0m             \u001b[0mself\u001b[0m\u001b[0;34m.\u001b[0m\u001b[0muser_line\u001b[0m\u001b[0;34m(\u001b[0m\u001b[0mframe\u001b[0m\u001b[0;34m)\u001b[0m\u001b[0;34m\u001b[0m\u001b[0m\n\u001b[0;32m---> 68\u001b[0;31m             \u001b[0;32mif\u001b[0m \u001b[0mself\u001b[0m\u001b[0;34m.\u001b[0m\u001b[0mquitting\u001b[0m\u001b[0;34m:\u001b[0m \u001b[0;32mraise\u001b[0m \u001b[0mBdbQuit\u001b[0m\u001b[0;34m\u001b[0m\u001b[0m\n\u001b[0m\u001b[1;32m     69\u001b[0m         \u001b[0;32mreturn\u001b[0m \u001b[0mself\u001b[0m\u001b[0;34m.\u001b[0m\u001b[0mtrace_dispatch\u001b[0m\u001b[0;34m\u001b[0m\u001b[0m\n\u001b[1;32m     70\u001b[0m \u001b[0;34m\u001b[0m\u001b[0m\n",
      "\u001b[0;31mBdbQuit\u001b[0m: "
     ]
    }
   ],
   "source": [
    "# run\n",
    "eval_num_trials = 100\n",
    "eval_which_loss = 'square'\n",
    "eval_num_folds = 0\n",
    "eval_use_test = True\n",
    "run.run(random_data_getter, eval_num_trials, eval_which_loss, eval_num_folds, eval_use_test, fitter)"
   ]
  }
 ],
 "metadata": {
  "kernelspec": {
   "display_name": "Python 2",
   "language": "python",
   "name": "python2"
  },
  "language_info": {
   "codemirror_mode": {
    "name": "ipython",
    "version": 2
   },
   "file_extension": ".py",
   "mimetype": "text/x-python",
   "name": "python",
   "nbconvert_exporter": "python",
   "pygments_lexer": "ipython2",
   "version": "2.7.6"
  }
 },
 "nbformat": 4,
 "nbformat_minor": 0
}
