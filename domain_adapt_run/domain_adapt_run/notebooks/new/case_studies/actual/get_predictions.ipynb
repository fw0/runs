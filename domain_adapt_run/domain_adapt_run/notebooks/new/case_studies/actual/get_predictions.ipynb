{
 "cells": [
  {
   "cell_type": "code",
   "execution_count": null,
   "metadata": {
    "collapsed": true
   },
   "outputs": [],
   "source": [
    "path = None\n",
    "mode = None\n",
    "profile = None\n",
    "compute = None\n",
    "recompute = None\n",
    "by_fitter = None\n",
    "fitter_groups = None"
   ]
  },
  {
   "cell_type": "code",
   "execution_count": null,
   "metadata": {
    "collapsed": true
   },
   "outputs": [],
   "source": [
    "import python_utils.python_utils.basic as basic\n",
    "seed = 42\n",
    "import autograd.numpy as np\n",
    "np.random.seed(seed)\n",
    "import python_utils.python_utils.caching as caching\n",
    "%load_ext autoreload\n",
    "%autoreload 2\n",
    "import matplotlib\n",
    "matplotlib.use('Agg')"
   ]
  },
  {
   "cell_type": "code",
   "execution_count": null,
   "metadata": {
    "collapsed": true
   },
   "outputs": [],
   "source": [
    "import get_predictions\n",
    "string_to_bool = lambda s: True if s=='True' else False\n",
    "compute = string_to_bool(compute)\n",
    "recompute = string_to_bool(recompute)\n",
    "by_fitter = string_to_bool(recompute)\n",
    "get_predictions.run(path, mode, profile, compute, recompute, by_fitter, fitter_groups)"
   ]
  }
 ],
 "metadata": {
  "kernelspec": {
   "display_name": "Python 2",
   "language": "python",
   "name": "python2"
  },
  "language_info": {
   "codemirror_mode": {
    "name": "ipython",
    "version": 2
   },
   "file_extension": ".py",
   "mimetype": "text/x-python",
   "name": "python",
   "nbconvert_exporter": "python",
   "pygments_lexer": "ipython2",
   "version": "2.7.6"
  }
 },
 "nbformat": 4,
 "nbformat_minor": 0
}
