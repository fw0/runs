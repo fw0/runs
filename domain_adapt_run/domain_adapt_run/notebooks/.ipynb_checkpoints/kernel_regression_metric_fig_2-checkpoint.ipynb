{
 "cells": [
  {
   "cell_type": "code",
   "execution_count": 1,
   "metadata": {
    "collapsed": false
   },
   "outputs": [],
   "source": [
    "import domain_adapt_run.domain_adapt_run.constants as constants\n",
    "cache_folder_name = 'kernel_regression_metric'\n",
    "seed = 42"
   ]
  },
  {
   "cell_type": "code",
   "execution_count": 2,
   "metadata": {
    "collapsed": false
   },
   "outputs": [
    {
     "name": "stdout",
     "output_type": "stream",
     "text": [
      "[Errno 17] File exists: '/Users/fultonw/Documents/projects/runs/domain_adapt_run/cache/kernel_regression_metric'\n"
     ]
    }
   ],
   "source": [
    "import numpy as np\n",
    "np.random.seed(seed)\n",
    "import python_utils.python_utils.basic as basic\n",
    "import python_utils.python_utils.caching as caching\n",
    "log_folder = '%s/%s' % (constants.cache_folder, cache_folder_name)\n",
    "caching.init(constants.cache_folder, constants.which_hash, basic.archiver(log_folder))\n",
    "%load_ext autoreload\n",
    "%autoreload 2"
   ]
  },
  {
   "cell_type": "code",
   "execution_count": 3,
   "metadata": {
    "collapsed": false
   },
   "outputs": [],
   "source": [
    "import matplotlib.pyplot as plt\n",
    "import matplotlib\n",
    "from mpl_toolkits.mplot3d import Axes3D\n",
    "from IPython.display import display_pretty, display_html\n",
    "import python_utils.python_utils.basic as basic\n",
    "import pandas as pd\n",
    "import pdb\n",
    "import itertools\n",
    "import functools\n",
    "import scipy.stats\n",
    "import cvxopt\n",
    "import functools\n",
    "import domain_adapt.domain_adapt.KR_metric as KR_metric\n",
    "import data.mushroom.mushroom.fxns as uci_data\n",
    "import domain_adapt.domain_adapt.data as data_fxns"
   ]
  },
  {
   "cell_type": "code",
   "execution_count": 4,
   "metadata": {
    "collapsed": false
   },
   "outputs": [
    {
     "ename": "ImportError",
     "evalue": "No module named mushroom.mushroom.fxns",
     "output_type": "error",
     "traceback": [
      "\u001b[0;31m---------------------------------------------------------------------------\u001b[0m",
      "\u001b[0;31mImportError\u001b[0m                               Traceback (most recent call last)",
      "\u001b[0;32m<ipython-input-4-76cf8a08faea>\u001b[0m in \u001b[0;36m<module>\u001b[0;34m()\u001b[0m\n\u001b[1;32m      1\u001b[0m \u001b[0;31m# get data\u001b[0m\u001b[0;34m\u001b[0m\u001b[0;34m\u001b[0m\u001b[0m\n\u001b[1;32m      2\u001b[0m \u001b[0;31m#xs, ys, ws, xs_test, ys_test = data.fig_2_train_test_data(250, 60, 0.6, 0.8, 3)\u001b[0m\u001b[0;34m\u001b[0m\u001b[0;34m\u001b[0m\u001b[0m\n\u001b[0;32m----> 3\u001b[0;31m \u001b[0mxs\u001b[0m\u001b[0;34m,\u001b[0m \u001b[0mys\u001b[0m\u001b[0;34m,\u001b[0m \u001b[0mws\u001b[0m\u001b[0;34m,\u001b[0m \u001b[0mxs_test\u001b[0m\u001b[0;34m,\u001b[0m \u001b[0mys_test\u001b[0m \u001b[0;34m=\u001b[0m \u001b[0mdata_fxns\u001b[0m\u001b[0;34m.\u001b[0m\u001b[0msplit_whitewine_data\u001b[0m\u001b[0;34m(\u001b[0m\u001b[0;34m)\u001b[0m\u001b[0;34m\u001b[0m\u001b[0m\n\u001b[0m\u001b[1;32m      4\u001b[0m \u001b[0mN\u001b[0m\u001b[0;34m,\u001b[0m \u001b[0mx_dim\u001b[0m \u001b[0;34m=\u001b[0m \u001b[0mxs\u001b[0m\u001b[0;34m.\u001b[0m\u001b[0mshape\u001b[0m\u001b[0;34m\u001b[0m\u001b[0m\n",
      "\u001b[0;32m/Users/fultonw/Documents/projects/code/domain_adapt/domain_adapt/data.py\u001b[0m in \u001b[0;36msplit_whitewine_data\u001b[0;34m()\u001b[0m\n\u001b[1;32m     80\u001b[0m \u001b[0;32mdef\u001b[0m \u001b[0msplit_whitewine_data\u001b[0m\u001b[0;34m(\u001b[0m\u001b[0;34m)\u001b[0m\u001b[0;34m:\u001b[0m\u001b[0;34m\u001b[0m\u001b[0m\n\u001b[1;32m     81\u001b[0m \u001b[0;34m\u001b[0m\u001b[0m\n\u001b[0;32m---> 82\u001b[0;31m     \u001b[0;32mimport\u001b[0m \u001b[0mdata\u001b[0m\u001b[0;34m.\u001b[0m\u001b[0mmushroom\u001b[0m\u001b[0;34m.\u001b[0m\u001b[0mmushroom\u001b[0m\u001b[0;34m.\u001b[0m\u001b[0mfxns\u001b[0m \u001b[0;32mas\u001b[0m \u001b[0muci_data\u001b[0m\u001b[0;34m\u001b[0m\u001b[0m\n\u001b[0m\u001b[1;32m     83\u001b[0m \u001b[0;34m\u001b[0m\u001b[0m\n\u001b[1;32m     84\u001b[0m     \u001b[0mxs\u001b[0m\u001b[0;34m,\u001b[0m \u001b[0mys\u001b[0m \u001b[0;34m=\u001b[0m \u001b[0muci_data\u001b[0m\u001b[0;34m.\u001b[0m\u001b[0mwhitewine_data\u001b[0m\u001b[0;34m(\u001b[0m\u001b[0;34m)\u001b[0m\u001b[0;34m\u001b[0m\u001b[0m\n",
      "\u001b[0;31mImportError\u001b[0m: No module named mushroom.mushroom.fxns"
     ]
    }
   ],
   "source": [
    "# get data\n",
    "#xs, ys, ws, xs_test, ys_test = data.fig_2_train_test_data(250, 60, 0.6, 0.8, 3)\n",
    "xs, ys, ws, xs_test, ys_test = data_fxns.split_whitewine_data()\n",
    "N, x_dim = xs.shape"
   ]
  },
  {
   "cell_type": "markdown",
   "metadata": {},
   "source": [
    "* simulate data.  generate p(x) = p(x[0:3]) * p([x[3:10]).  specify, compute f(x).  then apply T().  dim reduct should hopefully recover first 3 rows of T_inv."
   ]
  },
  {
   "cell_type": "code",
   "execution_count": null,
   "metadata": {
    "collapsed": false
   },
   "outputs": [],
   "source": [
    "# get color for each point\n",
    "colormap = plt.cm.get_cmap('Spectral')\n",
    "colors = colormap(ys)"
   ]
  },
  {
   "cell_type": "code",
   "execution_count": null,
   "metadata": {
    "collapsed": false
   },
   "outputs": [],
   "source": [
    "# plot data in x\n",
    "from mpl_toolkits.mplot3d import Axes3D\n",
    "try:\n",
    "    basic.scatter_3d(xs[:,0],xs[:,1],xs[:,2], colors=colors)\n",
    "except:\n",
    "    basic.scatter(xs[:,0],xs[:,1],colors=colors)"
   ]
  },
  {
   "cell_type": "code",
   "execution_count": null,
   "metadata": {
    "collapsed": true
   },
   "outputs": [],
   "source": [
    "# define rank of distance metric\n",
    "D = 1"
   ]
  },
  {
   "cell_type": "code",
   "execution_count": null,
   "metadata": {
    "collapsed": false
   },
   "outputs": [],
   "source": [
    "# define weights for debugging grad descent, which should just be 1's\n",
    "ws_dummy = np.ones(N)"
   ]
  },
  {
   "cell_type": "code",
   "execution_count": null,
   "metadata": {
    "collapsed": false
   },
   "outputs": [],
   "source": [
    "# define some utility functions for optimizing\n",
    "real_shape = (D,x_dim)\n",
    "mat_to_vec = lambda x: x.reshape(D*x_dim)\n",
    "vec_to_mat = lambda x:x.reshape((D,x_dim))\n",
    "mat_f = functools.partial(KR_metric.L,xs,ys,ws_dummy)\n",
    "vec_f = lambda vec_A: mat_f(vec_to_mat(vec_A))\n",
    "mat_f_grad = functools.partial(KR_metric.L_grad,xs,ys,ws_dummy)\n",
    "vec_f_grad = lambda vec_A: mat_to_vec(mat_f_grad(vec_to_mat(vec_A)))"
   ]
  },
  {
   "cell_type": "code",
   "execution_count": null,
   "metadata": {
    "collapsed": false
   },
   "outputs": [],
   "source": [
    "# setup opt\n",
    "mat_A_0 = np.random.uniform(size=real_shape)\n",
    "vec_A_0 = mat_to_vec(mat_A_0)\n",
    "check = scipy.optimize.check_grad(vec_f, vec_f_grad, vec_A_0)\n",
    "numpy_grad = scipy.optimize.approx_fprime(vec_A_0, vec_f, .01)\n",
    "my_grad = vec_f_grad(vec_A_0)\n",
    "print 'gradient check', check, numpy_grad-my_grad"
   ]
  },
  {
   "cell_type": "code",
   "execution_count": null,
   "metadata": {
    "collapsed": false,
    "scrolled": false
   },
   "outputs": [],
   "source": [
    "# optimize using numpy\n",
    "def print_stuff(x):\n",
    "    print x, vec_f(x)\n",
    "    return x\n",
    "#optimizer = scipy.optimize.fmin_bfgs\n",
    "#vec_solution = scipy.optimize.fmin(vec_f,vec_A_0,callback=print_stuff)\n",
    "vec_solution = scipy.optimize.fmin_bfgs(vec_f,vec_A_0,vec_f_grad,callback=print_stuff)\n",
    "fit_A = vec_to_mat(vec_solution)\n",
    "print 'fit_A\\n',fit_A\n",
    "print 'K', np.exp(KR_metric.log_K_f(fit_A,xs))[0:5,0:5]\n",
    "print 'eig of A\\'A\\n',np.linalg.eig(fit_A.T.dot(fit_A))"
   ]
  },
  {
   "cell_type": "code",
   "execution_count": null,
   "metadata": {
    "collapsed": false
   },
   "outputs": [],
   "source": [
    "# setup my optimizer\n",
    "stop_f = lambda t, x, x_new: (t > 25) or (np.linalg.norm(x-x_new) < .001)\n",
    "step_f = functools.partial(KR_metric.line_search,100,0.5,0.5,vec_f)"
   ]
  },
  {
   "cell_type": "code",
   "execution_count": null,
   "metadata": {
    "collapsed": false,
    "scrolled": false
   },
   "outputs": [],
   "source": [
    "# optimize using mine\n",
    "my_vec_solution = KR_metric.grad_descent(step_f,stop_f,vec_A_0,vec_f,vec_f_grad)\n",
    "A_dummy = vec_to_mat(my_vec_solution)\n",
    "print 'fit_A\\n',A_dummy\n",
    "print 'K', np.exp(KR_metric.log_K_f(A_dummy,xs))[0:5,0:5]\n",
    "print 'eig of A\\'A\\n',np.linalg.eig(A_dummy.T.dot(A_dummy))"
   ]
  },
  {
   "cell_type": "code",
   "execution_count": null,
   "metadata": {
    "collapsed": true
   },
   "outputs": [],
   "source": [
    "# define update step for alternating.  same for future alternatings    \n",
    "short_stop_f = lambda t, x, x_new: (t > 1) or (np.linalg.norm(x-x_new) < .001)\n",
    "short_grad_descent = functools.partial(KR_metric.grad_descent, step_f, short_stop_f)\n",
    "\n",
    "short_update_A = functools.partial(KR_metric.update_A,mat_to_vec,vec_to_mat,\\\n",
    "                                   KR_metric.L,KR_metric.L_grad,short_grad_descent)"
   ]
  },
  {
   "cell_type": "code",
   "execution_count": null,
   "metadata": {
    "collapsed": false
   },
   "outputs": [],
   "source": [
    "# get dummy test predictions\n",
    "dummy_ys_test_hat = KR_metric.ys_hat_f_log_K_test(A_dummy, xs, ys, xs_test)"
   ]
  },
  {
   "cell_type": "code",
   "execution_count": null,
   "metadata": {
    "collapsed": false
   },
   "outputs": [],
   "source": [
    "# print dummy error\n",
    "print 'dummy test error', np.linalg.norm(dummy_ys_test_hat - ys_test, ord=2)**2"
   ]
  },
  {
   "cell_type": "code",
   "execution_count": null,
   "metadata": {
    "collapsed": true
   },
   "outputs": [],
   "source": [
    "# define weight estimator for alternating\n",
    "cheating_weight_f = lambda us_train, us_test: ws"
   ]
  },
  {
   "cell_type": "code",
   "execution_count": null,
   "metadata": {
    "collapsed": false
   },
   "outputs": [],
   "source": [
    "# do alternating, with cheating weights\n",
    "A_cheating = KR_metric.run(short_update_A, cheating_weight_f, mat_A_0, ws, xs, xs_test, ys)\n",
    "print 'A_cheating', A_cheating"
   ]
  },
  {
   "cell_type": "code",
   "execution_count": null,
   "metadata": {
    "collapsed": true
   },
   "outputs": [],
   "source": [
    "# get cheating test predictions\n",
    "cheating_ys_test_hat = KR_metric.ys_hat_f_log_K_test(A_cheating, xs, ys, xs_test)"
   ]
  },
  {
   "cell_type": "code",
   "execution_count": null,
   "metadata": {
    "collapsed": false
   },
   "outputs": [],
   "source": [
    "# print cheating error\n",
    "print 'cheating test error', np.linalg.norm(cheating_ys_test_hat - ys_test, ord=2)**2"
   ]
  }
 ],
 "metadata": {
  "kernelspec": {
   "display_name": "Python 2",
   "language": "python",
   "name": "python2"
  },
  "language_info": {
   "codemirror_mode": {
    "name": "ipython",
    "version": 2
   },
   "file_extension": ".py",
   "mimetype": "text/x-python",
   "name": "python",
   "nbconvert_exporter": "python",
   "pygments_lexer": "ipython2",
   "version": "2.7.6"
  }
 },
 "nbformat": 4,
 "nbformat_minor": 0
}
