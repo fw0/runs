{
 "cells": [
  {
   "cell_type": "code",
   "execution_count": 1,
   "metadata": {
    "collapsed": true
   },
   "outputs": [],
   "source": [
    "import domain_adapt_run.domain_adapt_run.constants as constants\n",
    "cache_folder_name = 'kernel_mean_matching_gradient'\n",
    "seed = 42"
   ]
  },
  {
   "cell_type": "code",
   "execution_count": 2,
   "metadata": {
    "collapsed": false
   },
   "outputs": [
    {
     "name": "stdout",
     "output_type": "stream",
     "text": [
      "[Errno 17] File exists: '/Users/fultonw/Documents/projects/runs/domain_adapt_run/cache/kernel_mean_matching_gradient'\n"
     ]
    }
   ],
   "source": [
    "import numpy as np\n",
    "np.random.seed(seed)\n",
    "import python_utils.python_utils.basic as basic\n",
    "import python_utils.python_utils.caching as caching\n",
    "log_folder = '%s/%s' % (constants.cache_folder, cache_folder_name)\n",
    "caching.init(constants.cache_folder, constants.which_hash, basic.archiver(log_folder))\n",
    "%load_ext autoreload\n",
    "%autoreload 2"
   ]
  },
  {
   "cell_type": "code",
   "execution_count": 3,
   "metadata": {
    "collapsed": true
   },
   "outputs": [],
   "source": [
    "import matplotlib.pyplot as plt\n",
    "import matplotlib\n",
    "from IPython.display import display_pretty, display_html\n",
    "import python_utils.python_utils.basic as basic\n",
    "import pandas as pd\n",
    "import pdb\n",
    "import itertools\n",
    "import functools\n",
    "import scipy.stats\n",
    "import cvxopt, autograd\n",
    "import domain_adapt.domain_adapt.kernels as kernels"
   ]
  },
  {
   "cell_type": "markdown",
   "metadata": {},
   "source": [
    "* define dimensionality of distributions\n",
    "* define 2 distributions - train and test.  have their pdf and sampling methods\n",
    "* set number of train and test samples to generate\n",
    "* define pairwise within and across train/test sample kernel distances, either directly via a function, or parameterize that function by the feature map\n",
    "* (below will be a fxn of projection matrix)\n",
    "* projection matrix\n",
    "* project train and test raw data to get u's\n",
    "* use that kernel distance function to populate K and kappa in the optimization problem\n",
    "* solve the optimization problem to get the B's\n",
    "* compare B(x) to p_test(u) / p_train(u).  maybe plot scatter plot of B(x) vs that ratio"
   ]
  },
  {
   "cell_type": "code",
   "execution_count": 4,
   "metadata": {
    "collapsed": true
   },
   "outputs": [],
   "source": [
    "# define dimensionality of distributions\n",
    "x_dim = 2\n",
    "u_dim = 1"
   ]
  },
  {
   "cell_type": "code",
   "execution_count": 5,
   "metadata": {
    "collapsed": false
   },
   "outputs": [],
   "source": [
    "# define train distribution\n",
    "train_dist = scipy.stats.multivariate_normal(mean=np.zeros(shape=x_dim))\n",
    "train_pdf = train_dist.pdf\n",
    "train_sample = train_dist.rvs"
   ]
  },
  {
   "cell_type": "code",
   "execution_count": 6,
   "metadata": {
    "collapsed": true
   },
   "outputs": [],
   "source": [
    "# define test distribution\n",
    "test_dist = scipy.stats.multivariate_normal(mean=np.zeros(shape=x_dim)+1.)\n",
    "test_pdf = test_dist.pdf\n",
    "test_sample = test_dist.rvs"
   ]
  },
  {
   "cell_type": "code",
   "execution_count": 7,
   "metadata": {
    "collapsed": true
   },
   "outputs": [],
   "source": [
    "# define number of samples to generate\n",
    "num_train = 10\n",
    "num_test = 15"
   ]
  },
  {
   "cell_type": "code",
   "execution_count": 8,
   "metadata": {
    "collapsed": false
   },
   "outputs": [
    {
     "name": "stdout",
     "output_type": "stream",
     "text": [
      "[[ 2.46564877  0.7742237 ]\n",
      " [ 1.0675282  -0.42474819]\n",
      " [ 0.45561728  1.11092259]\n",
      " [-0.15099358  1.37569802]\n",
      " [ 0.39936131  0.70830625]\n",
      " [ 0.39829339  2.85227818]\n",
      " [ 0.98650278 -0.05771093]\n",
      " [ 1.82254491 -0.22084365]\n",
      " [ 1.2088636  -0.95967012]\n",
      " [-0.32818605  1.19686124]\n",
      " [ 1.73846658  1.17136828]\n",
      " [ 0.88435172  0.6988963 ]\n",
      " [-0.47852199  0.28015579]\n",
      " [ 0.53936123  2.05712223]\n",
      " [ 1.34361829 -0.76304016]]\n"
     ]
    }
   ],
   "source": [
    "# generate the samples\n",
    "np.random.seed(42)\n",
    "xs_train = np.array([train_sample() for i in xrange(num_train)])\n",
    "if len(xs_train.shape) == 1:\n",
    "    xs_train = xs_train.reshape(len(xs_train),1)\n",
    "xs_test = np.array([test_sample() for i in xrange(num_test)])\n",
    "if len(xs_test.shape) == 1:\n",
    "    xs_test = xs_test.reshape(len(xs_test),1)\n",
    "print xs_test"
   ]
  },
  {
   "cell_type": "code",
   "execution_count": 9,
   "metadata": {
    "collapsed": false
   },
   "outputs": [],
   "source": [
    "# define kernel function\n",
    "sigma = 0.1\n",
    "get_K = functools.partial(kernels.get_gaussian_K, sigma)"
   ]
  },
  {
   "cell_type": "code",
   "execution_count": 10,
   "metadata": {
    "collapsed": true
   },
   "outputs": [],
   "source": [
    "# define hyperparameters\n",
    "B_max = 100\n",
    "eps = 0.1"
   ]
  },
  {
   "cell_type": "code",
   "execution_count": 11,
   "metadata": {
    "collapsed": false
   },
   "outputs": [],
   "source": [
    "# define projection matrix 1\n",
    "#P1 = kernels.ortho(np.random.normal(size=(x_dim, u_dim)))\n",
    "P1 = kernels.ortho(np.array([[1.,2.]]).T)\n",
    "assert P1.shape[0] == x_dim\n",
    "assert P1.shape[1] <= u_dim"
   ]
  },
  {
   "cell_type": "code",
   "execution_count": 12,
   "metadata": {
    "collapsed": false
   },
   "outputs": [],
   "source": [
    "# define projection matrix 2\n",
    "delta_P_direction = kernels.ortho(np.random.normal(size=(x_dim, u_dim)))\n",
    "delta_P_direction = delta_P_direction / np.linalg.norm(delta_P_direction)\n",
    "delta = 0.0001\n",
    "P2 = P1 + (delta_P_direction * delta)\n",
    "assert P2.shape[0] == x_dim\n",
    "assert P2.shape[1] <= u_dim"
   ]
  },
  {
   "cell_type": "code",
   "execution_count": 13,
   "metadata": {
    "collapsed": false
   },
   "outputs": [],
   "source": [
    "# define fxn from projection matrix to B's\n",
    "the_get_KMM_ws = functools.partial(kernels.get_KMM_ws, xs_train, xs_test, get_K, B_max, eps)"
   ]
  },
  {
   "cell_type": "code",
   "execution_count": 14,
   "metadata": {
    "collapsed": true
   },
   "outputs": [],
   "source": [
    "# fxn to plot results\n",
    "def plot_KMM_results(P, xs_train, xs_test, B):\n",
    "    \n",
    "    if verbose:\n",
    "        \n",
    "        # calculate true B's\n",
    "        test_projected_pdf = test_pdf # INCORRECT\n",
    "        train_projected_pdf = train_pdf\n",
    "        true_B = test_projected_pdf(train_us) / train_projected_pdf(train_us)\n",
    "        \n",
    "        # define plot constants\n",
    "        s = 2\n",
    "        max_lim = 10\n",
    "        \n",
    "        # plot \n",
    "        fig, ax = plt.subplots()\n",
    "        ax.scatter(train_us, true_B, s=s,color='red',label='true ratio')\n",
    "        ax.scatter(train_us, B,s=s,color='blue',label='estimated ratio')\n",
    "        #ax.set_xlim((-max_lim,max_lim/2))\n",
    "        ax.set_ylim((0,max_lim))\n",
    "        ax.set_xlabel('u')\n",
    "        ax.set_ylabel('ratio')\n",
    "        ax.legend()\n",
    "        basic.display_fig_inline(fig)\n",
    "        \n",
    "        # plot scatterplot\n",
    "        fig, ax = plt.subplots()\n",
    "        ax.scatter(true_B,B, s=s)\n",
    "        ax.set_xlabel('true')\n",
    "        ax.set_ylabel('predicted')\n",
    "        ax.set_xlim((0,max_lim))\n",
    "        ax.set_ylim((0,max_lim))\n",
    "        basic.display_fig_inline(fig)\n",
    "        \n",
    "    return B"
   ]
  },
  {
   "cell_type": "code",
   "execution_count": 15,
   "metadata": {
    "collapsed": false,
    "scrolled": false
   },
   "outputs": [
    {
     "name": "stdout",
     "output_type": "stream",
     "text": [
      "     pcost       dcost       gap    pres   dres\n",
      " 0:  1.4688e+02 -3.0369e+03  5e+04  6e-01  3e-14\n",
      " 1:  3.2594e+00 -1.1996e+03  1e+03  2e-16  3e-12\n",
      " 2:  3.1999e+00 -2.0612e+01  2e+01  2e-16  1e-13\n",
      " 3:  2.5557e+00 -5.9450e+00  9e+00  1e-16  3e-14\n",
      " 4:  9.6831e-01 -7.8799e+00  9e+00  2e-16  3e-14\n",
      " 5:  7.2325e-01  2.1319e-01  5e-01  3e-16  8e-15\n",
      " 6:  7.0509e-01  6.9243e-01  1e-02  2e-16  8e-15\n",
      " 7:  7.0500e-01  7.0486e-01  1e-04  1e-16  3e-14\n",
      " 8:  7.0500e-01  7.0500e-01  1e-06  2e-16  7e-14\n",
      " 9:  7.0500e-01  7.0500e-01  1e-08  1e-16  8e-14\n",
      "Optimal solution found.\n",
      "[ 1.87534847  1.08250116  1.04344811  0.83394479  0.85726605  0.72138579\n",
      "  0.3929636   0.7219596   1.06321594  0.4079665 ]\n",
      "     pcost       dcost       gap    pres   dres\n",
      " 0:  1.4691e+02 -3.0361e+03  5e+04  6e-01  4e-14\n",
      " 1:  3.2621e+00 -1.1996e+03  1e+03  2e-16  1e-12\n",
      " 2:  3.2026e+00 -2.0606e+01  2e+01  2e-16  3e-14\n",
      " 3:  2.5591e+00 -5.9446e+00  9e+00  2e-16  2e-14\n",
      " 4:  9.7101e-01 -7.8803e+00  9e+00  2e-16  2e-14\n",
      " 5:  7.2616e-01  2.1627e-01  5e-01  2e-16  5e-15\n",
      " 6:  7.0804e-01  6.9540e-01  1e-02  2e-16  2e-15\n",
      " 7:  7.0794e-01  7.0780e-01  1e-04  2e-16  3e-14\n",
      " 8:  7.0794e-01  7.0794e-01  1e-06  2e-16  5e-14\n",
      " 9:  7.0794e-01  7.0794e-01  1e-08  2e-16  7e-15\n",
      "Optimal solution found.\n",
      "[ 1.87550273  1.08194871  1.04326688  0.83386379  0.85670104  0.72173839\n",
      "  0.39325917  0.72232335  1.06305382  0.40834212]\n"
     ]
    },
    {
     "data": {
      "text/plain": [
       "array([ 1.54260832, -5.52450773, -1.81221875, -0.80998733, -5.65013353,\n",
       "        3.52605388,  2.95571399,  3.63748708, -1.62116212,  3.75614619])"
      ]
     },
     "execution_count": 15,
     "metadata": {},
     "output_type": "execute_result"
    }
   ],
   "source": [
    "# calculate derivative of B's in direction delta_P at P\n",
    "B_P1 = the_get_KMM_ws(P1)\n",
    "B_P2 = the_get_KMM_ws(P2)\n",
    "deriv = (B_P2 - B_P1) / delta\n",
    "deriv"
   ]
  },
  {
   "cell_type": "code",
   "execution_count": 16,
   "metadata": {
    "collapsed": false
   },
   "outputs": [
    {
     "data": {
      "image/png": "[encoded data removed]",
      "text/plain": [
       "<IPython.core.display.Image object>"
      ]
     },
     "metadata": {},
     "output_type": "display_data"
    },
    {
     "data": {
      "text/plain": [
       "<matplotlib.figure.Figure at 0x10afc53d0>"
      ]
     },
     "execution_count": 16,
     "metadata": {},
     "output_type": "execute_result"
    }
   ],
   "source": [
    "# plot hist of deriv of B's\n",
    "fig, ax = plt.subplots()\n",
    "ax.hist(deriv, bins = 100, cumulative=True)\n",
    "basic.display_fig_inline(fig)"
   ]
  },
  {
   "cell_type": "code",
   "execution_count": 17,
   "metadata": {
    "collapsed": false
   },
   "outputs": [
    {
     "name": "stdout",
     "output_type": "stream",
     "text": [
      "smallest_weight 0.392963599479\n",
      "num tight: 0\n"
     ]
    }
   ],
   "source": [
    "# identify initially tight constraints\n",
    "print 'smallest_weight', np.min(B_P1)\n",
    "tight_eps = np.min(B_P1) + .001\n",
    "tight = (B_P1 < tight_eps) | (B_P1 > B_max - tight_eps)\n",
    "print 'num tight:', np.sum(tight)"
   ]
  },
  {
   "cell_type": "code",
   "execution_count": 18,
   "metadata": {
    "collapsed": false
   },
   "outputs": [
    {
     "name": "stderr",
     "output_type": "stream",
     "text": [
      "/Users/fultonw/Library/Enthought/Canopy_64bit/User/lib/python2.7/site-packages/matplotlib/axes.py:8261: UserWarning: 2D hist input should be nsamples x nvariables;\n",
      " this looks transposed (shape is 0 x 1)\n",
      "  'this looks transposed (shape is %d x %d)' % x.shape[::-1])\n"
     ]
    },
    {
     "ename": "ValueError",
     "evalue": "zero-size array to reduction operation minimum which has no identity",
     "output_type": "error",
     "traceback": [
      "\u001b[0;31m---------------------------------------------------------------------------\u001b[0m",
      "\u001b[0;31mValueError\u001b[0m                                Traceback (most recent call last)",
      "\u001b[0;32m<ipython-input-18-d4120eb29cd8>\u001b[0m in \u001b[0;36m<module>\u001b[0;34m()\u001b[0m\n\u001b[1;32m      1\u001b[0m \u001b[0;31m# plot hist of deriv of B's that were initially tight.  should all be 0\u001b[0m\u001b[0;34m\u001b[0m\u001b[0;34m\u001b[0m\u001b[0m\n\u001b[1;32m      2\u001b[0m \u001b[0mfig\u001b[0m\u001b[0;34m,\u001b[0m \u001b[0max\u001b[0m \u001b[0;34m=\u001b[0m \u001b[0mplt\u001b[0m\u001b[0;34m.\u001b[0m\u001b[0msubplots\u001b[0m\u001b[0;34m(\u001b[0m\u001b[0;34m)\u001b[0m\u001b[0;34m\u001b[0m\u001b[0m\n\u001b[0;32m----> 3\u001b[0;31m \u001b[0max\u001b[0m\u001b[0;34m.\u001b[0m\u001b[0mhist\u001b[0m\u001b[0;34m(\u001b[0m\u001b[0mderiv\u001b[0m\u001b[0;34m[\u001b[0m\u001b[0mtight\u001b[0m\u001b[0;34m]\u001b[0m\u001b[0;34m,\u001b[0m \u001b[0mbins\u001b[0m \u001b[0;34m=\u001b[0m \u001b[0;36m100\u001b[0m\u001b[0;34m,\u001b[0m \u001b[0mcumulative\u001b[0m\u001b[0;34m=\u001b[0m\u001b[0mTrue\u001b[0m\u001b[0;34m)\u001b[0m\u001b[0;34m\u001b[0m\u001b[0m\n\u001b[0m\u001b[1;32m      4\u001b[0m \u001b[0mbasic\u001b[0m\u001b[0;34m.\u001b[0m\u001b[0mdisplay_fig_inline\u001b[0m\u001b[0;34m(\u001b[0m\u001b[0mfig\u001b[0m\u001b[0;34m)\u001b[0m\u001b[0;34m\u001b[0m\u001b[0m\n",
      "\u001b[0;32m/Users/fultonw/Library/Enthought/Canopy_64bit/User/lib/python2.7/site-packages/matplotlib/axes.pyc\u001b[0m in \u001b[0;36mhist\u001b[0;34m(self, x, bins, range, normed, weights, cumulative, bottom, histtype, align, orientation, rwidth, log, color, label, stacked, **kwargs)\u001b[0m\n\u001b[1;32m   8310\u001b[0m             \u001b[0mxmax\u001b[0m \u001b[0;34m=\u001b[0m \u001b[0;34m-\u001b[0m\u001b[0mnp\u001b[0m\u001b[0;34m.\u001b[0m\u001b[0minf\u001b[0m\u001b[0;34m\u001b[0m\u001b[0m\n\u001b[1;32m   8311\u001b[0m             \u001b[0;32mfor\u001b[0m \u001b[0mxi\u001b[0m \u001b[0;32min\u001b[0m \u001b[0mx\u001b[0m\u001b[0;34m:\u001b[0m\u001b[0;34m\u001b[0m\u001b[0m\n\u001b[0;32m-> 8312\u001b[0;31m                 \u001b[0mxmin\u001b[0m \u001b[0;34m=\u001b[0m \u001b[0mmin\u001b[0m\u001b[0;34m(\u001b[0m\u001b[0mxmin\u001b[0m\u001b[0;34m,\u001b[0m \u001b[0mxi\u001b[0m\u001b[0;34m.\u001b[0m\u001b[0mmin\u001b[0m\u001b[0;34m(\u001b[0m\u001b[0;34m)\u001b[0m\u001b[0;34m)\u001b[0m\u001b[0;34m\u001b[0m\u001b[0m\n\u001b[0m\u001b[1;32m   8313\u001b[0m                 \u001b[0mxmax\u001b[0m \u001b[0;34m=\u001b[0m \u001b[0mmax\u001b[0m\u001b[0;34m(\u001b[0m\u001b[0mxmax\u001b[0m\u001b[0;34m,\u001b[0m \u001b[0mxi\u001b[0m\u001b[0;34m.\u001b[0m\u001b[0mmax\u001b[0m\u001b[0;34m(\u001b[0m\u001b[0;34m)\u001b[0m\u001b[0;34m)\u001b[0m\u001b[0;34m\u001b[0m\u001b[0m\n\u001b[1;32m   8314\u001b[0m             \u001b[0mbin_range\u001b[0m \u001b[0;34m=\u001b[0m \u001b[0;34m(\u001b[0m\u001b[0mxmin\u001b[0m\u001b[0;34m,\u001b[0m \u001b[0mxmax\u001b[0m\u001b[0;34m)\u001b[0m\u001b[0;34m\u001b[0m\u001b[0m\n",
      "\u001b[0;32m/Users/fultonw/Library/Enthought/Canopy_64bit/User/lib/python2.7/site-packages/numpy/core/_methods.pyc\u001b[0m in \u001b[0;36m_amin\u001b[0;34m(a, axis, out, keepdims)\u001b[0m\n\u001b[1;32m     27\u001b[0m \u001b[0;34m\u001b[0m\u001b[0m\n\u001b[1;32m     28\u001b[0m \u001b[0;32mdef\u001b[0m \u001b[0m_amin\u001b[0m\u001b[0;34m(\u001b[0m\u001b[0ma\u001b[0m\u001b[0;34m,\u001b[0m \u001b[0maxis\u001b[0m\u001b[0;34m=\u001b[0m\u001b[0mNone\u001b[0m\u001b[0;34m,\u001b[0m \u001b[0mout\u001b[0m\u001b[0;34m=\u001b[0m\u001b[0mNone\u001b[0m\u001b[0;34m,\u001b[0m \u001b[0mkeepdims\u001b[0m\u001b[0;34m=\u001b[0m\u001b[0mFalse\u001b[0m\u001b[0;34m)\u001b[0m\u001b[0;34m:\u001b[0m\u001b[0;34m\u001b[0m\u001b[0m\n\u001b[0;32m---> 29\u001b[0;31m     \u001b[0;32mreturn\u001b[0m \u001b[0mumr_minimum\u001b[0m\u001b[0;34m(\u001b[0m\u001b[0ma\u001b[0m\u001b[0;34m,\u001b[0m \u001b[0maxis\u001b[0m\u001b[0;34m,\u001b[0m \u001b[0mNone\u001b[0m\u001b[0;34m,\u001b[0m \u001b[0mout\u001b[0m\u001b[0;34m,\u001b[0m \u001b[0mkeepdims\u001b[0m\u001b[0;34m)\u001b[0m\u001b[0;34m\u001b[0m\u001b[0m\n\u001b[0m\u001b[1;32m     30\u001b[0m \u001b[0;34m\u001b[0m\u001b[0m\n\u001b[1;32m     31\u001b[0m \u001b[0;32mdef\u001b[0m \u001b[0m_sum\u001b[0m\u001b[0;34m(\u001b[0m\u001b[0ma\u001b[0m\u001b[0;34m,\u001b[0m \u001b[0maxis\u001b[0m\u001b[0;34m=\u001b[0m\u001b[0mNone\u001b[0m\u001b[0;34m,\u001b[0m \u001b[0mdtype\u001b[0m\u001b[0;34m=\u001b[0m\u001b[0mNone\u001b[0m\u001b[0;34m,\u001b[0m \u001b[0mout\u001b[0m\u001b[0;34m=\u001b[0m\u001b[0mNone\u001b[0m\u001b[0;34m,\u001b[0m \u001b[0mkeepdims\u001b[0m\u001b[0;34m=\u001b[0m\u001b[0mFalse\u001b[0m\u001b[0;34m)\u001b[0m\u001b[0;34m:\u001b[0m\u001b[0;34m\u001b[0m\u001b[0m\n",
      "\u001b[0;31mValueError\u001b[0m: zero-size array to reduction operation minimum which has no identity"
     ]
    }
   ],
   "source": [
    "# plot hist of deriv of B's that were initially tight.  should all be 0\n",
    "fig, ax = plt.subplots()\n",
    "ax.hist(deriv[tight], bins = 100, cumulative=True)\n",
    "basic.display_fig_inline(fig)"
   ]
  },
  {
   "cell_type": "code",
   "execution_count": null,
   "metadata": {
    "collapsed": false
   },
   "outputs": [],
   "source": [
    "# general stuff needed to calculate gradient\n",
    "\n",
    "def f(get_K, B, P):\n",
    "    \n",
    "    # create K, kappa, use them to return objective fxn value\n",
    "    \n",
    "    import autograd, autograd.numpy as np\n",
    "    \n",
    "    us_train = np.dot(xs_train, P)\n",
    "    us_test = np.dot(xs_test, P)\n",
    "    K, kappa = kernels.get_KMM_params(us_train, us_test, get_K)\n",
    "    \n",
    "    return np.dot(np.dot(B.T, K), B)/2. + np.dot(kappa, B)\n",
    "\n",
    "the_f = functools.partial(f, get_K)\n",
    "\n",
    "A, b = kernels.get_KMM_ineq_constraints(num_train, B_max, eps)"
   ]
  },
  {
   "cell_type": "code",
   "execution_count": null,
   "metadata": {
    "collapsed": true
   },
   "outputs": [],
   "source": [
    "# define some solvers\n",
    "lstsq_solver = lambda A,b: np.linalg.lstsq(A, b)[0]\n",
    "cg_solver = lambda A,b: scipy.sparse.linalg.cg(A, b)[0]\n",
    "solver = lstsq_solver\n",
    "#solver = cg_solver"
   ]
  },
  {
   "cell_type": "code",
   "execution_count": null,
   "metadata": {
    "collapsed": false
   },
   "outputs": [],
   "source": [
    "# file fxn deriv\n",
    "ws1 = kernels.get_KMM_ws(xs_train, xs_test, get_K, B_max, eps, P1)\n",
    "anal_deriv = kernels.get_dx_opt_delta_p(solver, the_f, A, b, ws1, P1, delta_P_direction)\n",
    "anal_deriv"
   ]
  },
  {
   "cell_type": "code",
   "execution_count": null,
   "metadata": {
    "collapsed": false
   },
   "outputs": [],
   "source": [
    "assert False"
   ]
  },
  {
   "cell_type": "code",
   "execution_count": null,
   "metadata": {
    "collapsed": false
   },
   "outputs": [],
   "source": [
    "\n",
    "df_dB = autograd.grad(the_f) # ans dim: |B|\n",
    "d_dP_df_dB = autograd.jacobian(lambda P,B: df_dB(B,P)) # ans dim: |B| x |P|\n",
    "\n",
    "def tight_constraints(B, num_train, B_max, eps):\n",
    "    G,h = kernels.get_KMM_ineq_constraints(num_train, B_max, eps)\n",
    "    LHS = np.dot(G,B)\n",
    "    assert (LHS < h).all()\n",
    "    tight_eps = 0.0001\n",
    "    tight = (h - LHS) < tight_eps\n",
    "    return G[tight], h[tight]"
   ]
  },
  {
   "cell_type": "code",
   "execution_count": null,
   "metadata": {
    "collapsed": false
   },
   "outputs": [],
   "source": [
    "# test f at B_P1 to see if cost matches that from solver\n",
    "the_f(B_P1, P1)"
   ]
  },
  {
   "cell_type": "code",
   "execution_count": null,
   "metadata": {
    "collapsed": false,
    "scrolled": false
   },
   "outputs": [],
   "source": [
    "# compute quantities needed to solve equation that gives gradient\n",
    "A_tight, b_tight = tight_constraints(B_P2, num_train, B_max, eps)\n",
    "num_tight = A_tight.shape[0]\n",
    "print 'num_tight:', num_tight\n",
    "print df_dB(B_P1, P1)\n",
    "print d_dP_df_dB(P1, B_P1)\n",
    "d_top = -np.sum(d_dP_df_dB(P1, B_P1) * (delta_P_direction[np.newaxis,:,:]), axis=(1,2))\n",
    "print 'd_top',d_top\n",
    "d_bottom = np.zeros(num_tight)\n",
    "d = np.hstack((d_top,d_bottom))\n",
    "Q_P1 = get_K(np.dot(xs_train, P1), np.dot(xs_train, P1))\n",
    "print 'Q', Q_P1\n",
    "C = np.vstack((np.hstack((Q_P1,-A_tight.T)), np.hstack((A_tight,np.zeros((num_tight,num_tight))))))\n",
    "C.shape\n",
    "anal_deriv = np.dot(np.linalg.inv(C),d)\n",
    "print 'solver error', np.linalg.norm(d - np.dot(C,anal_deriv))\n",
    "anal_deriv"
   ]
  },
  {
   "cell_type": "code",
   "execution_count": null,
   "metadata": {
    "collapsed": false
   },
   "outputs": [],
   "source": [
    "print deriv.shape, anal_deriv.shape\n",
    "#print deriv\n",
    "#print anal_deriv\n",
    "for x in zip(deriv,anal_deriv):\n",
    "    print x"
   ]
  }
 ],
 "metadata": {
  "kernelspec": {
   "display_name": "Python 2",
   "language": "python",
   "name": "python2"
  },
  "language_info": {
   "codemirror_mode": {
    "name": "ipython",
    "version": 2
   },
   "file_extension": ".py",
   "mimetype": "text/x-python",
   "name": "python",
   "nbconvert_exporter": "python",
   "pygments_lexer": "ipython2",
   "version": "2.7.6"
  }
 },
 "nbformat": 4,
 "nbformat_minor": 0
}
