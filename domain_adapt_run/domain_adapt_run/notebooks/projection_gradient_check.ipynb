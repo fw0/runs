{
 "cells": [
  {
   "cell_type": "code",
   "execution_count": 57,
   "metadata": {
    "collapsed": false
   },
   "outputs": [],
   "source": [
    "import domain_adapt_run.domain_adapt_run.constants as constants\n",
    "cache_folder_name = 'projection_gradient_check'\n",
    "seed = 42"
   ]
  },
  {
   "cell_type": "code",
   "execution_count": 58,
   "metadata": {
    "collapsed": false
   },
   "outputs": [
    {
     "name": "stdout",
     "output_type": "stream",
     "text": [
      "[Errno 17] File exists: '/Users/fultonw/Documents/projects/runs/domain_adapt_run/cache/projection_gradient_check'\n",
      "The autoreload extension is already loaded. To reload it, use:\n",
      "  %reload_ext autoreload\n"
     ]
    }
   ],
   "source": [
    "import numpy as np\n",
    "np.random.seed(seed)\n",
    "import python_utils.python_utils.basic as basic\n",
    "import python_utils.python_utils.caching as caching\n",
    "log_folder = '%s/%s' % (constants.cache_folder, cache_folder_name)\n",
    "caching.init(constants.cache_folder, constants.which_hash, basic.archiver(log_folder))\n",
    "%load_ext autoreload\n",
    "%autoreload 2"
   ]
  },
  {
   "cell_type": "code",
   "execution_count": 59,
   "metadata": {
    "collapsed": false
   },
   "outputs": [],
   "source": [
    "import matplotlib.pyplot as plt\n",
    "import matplotlib\n",
    "#plt.ion()\n",
    "from mpl_toolkits.mplot3d import Axes3D\n",
    "from IPython.display import display_pretty, display_html\n",
    "import python_utils.python_utils.basic as basic\n",
    "import pandas as pd\n",
    "import pdb\n",
    "import itertools\n",
    "import functools\n",
    "import scipy.stats\n",
    "import cvxopt\n",
    "import statsmodels.regression\n",
    "import tensorflow as tf\n",
    "import scipy.optimize\n",
    "import domain_adapt.domain_adapt.projection as proj\n",
    "import sklearn.linear_model\n",
    "import numdifftools as nd\n",
    "import pymanopt\n",
    "import pymanopt.manifolds\n",
    "import pymanopt.solvers\n",
    "import domain_adapt.domain_adapt.kernels as kernels\n",
    "import copy"
   ]
  },
  {
   "cell_type": "code",
   "execution_count": 60,
   "metadata": {
    "collapsed": true
   },
   "outputs": [],
   "source": [
    "# helper functions, constants\n",
    "eps = 1e-8\n",
    "def error(X, y, U, theta):\n",
    "    y_hat = X.dot(U).dot(theta)\n",
    "    return np.sum((y_hat - y)**2)"
   ]
  },
  {
   "cell_type": "code",
   "execution_count": 61,
   "metadata": {
    "collapsed": true
   },
   "outputs": [],
   "source": [
    "# define projection dimension\n",
    "K = 2"
   ]
  },
  {
   "cell_type": "code",
   "execution_count": 62,
   "metadata": {
    "collapsed": true
   },
   "outputs": [],
   "source": [
    "# define kernel\n",
    "ker = kernels.nothing_kernel()\n",
    "#ker = kernels.rbf_kernel(1.)"
   ]
  },
  {
   "cell_type": "code",
   "execution_count": 63,
   "metadata": {
    "collapsed": false
   },
   "outputs": [
    {
     "name": "stdout",
     "output_type": "stream",
     "text": [
      "B: [ 0.97854832  0.20601745]\n",
      "(75,)\n",
      "[-1.  1. -1. -1.  1. -1.  1. -1. -1. -1. -1.  1. -1.  1.  1. -1. -1.  1.\n",
      " -1.  1.  1.  1. -1. -1. -1. -1.  1. -1.  1.  1. -1. -1.  1.  1.  1. -1.\n",
      " -1.  1.  1. -1.  1. -1. -1.  1.  1. -1.  1.  1. -1. -1. -1. -1.  1.  1.\n",
      "  1.  1.  1. -1.  1.  1.  1.  1.  1.  1.  1.  1. -1.  1. -1.  1.  1. -1.\n",
      "  1. -1.  1.]\n"
     ]
    }
   ],
   "source": [
    "# generate some data\n",
    "N = 75\n",
    "D = 3\n",
    "X = np.random.normal(size=(N,D))\n",
    "U = np.random.normal(size=(D,K))\n",
    "X_U = ker.projected_K(X, U)\n",
    "L = X_U.shape[1]\n",
    "B = np.random.normal(size=L)\n",
    "B = B / np.linalg.norm(B)\n",
    "#B = np.ones(shape=D)\n",
    "#B = np.arange(L)+2\n",
    "print 'B:', B\n",
    "y = X_U.dot(B) + np.random.normal(scale=0.2,size=N)\n",
    "print y.shape\n",
    "#B_z = np.random.uniform(size=L)\n",
    "B_z = np.random.normal(size=L)\n",
    "B_z = B_z / np.linalg.norm(B)\n",
    "z_prob = proj.sigmoid(X_U.dot(B_z))\n",
    "z = -1+2*(np.random.uniform(size=N) < z_prob).astype(float)\n",
    "r = 1.\n",
    "print z\n",
    "#print X_U.dot(B)"
   ]
  },
  {
   "cell_type": "code",
   "execution_count": 64,
   "metadata": {
    "collapsed": true
   },
   "outputs": [],
   "source": [
    "# fix data to loss function\n",
    "fixed_logreg_loss = functools.partial(proj.logreg_loss,X_U,z)\n",
    "fixed_logreg_loss_grad = functools.partial(proj.logreg_loss_grad,X_U,z)"
   ]
  },
  {
   "cell_type": "code",
   "execution_count": 65,
   "metadata": {
    "collapsed": false
   },
   "outputs": [
    {
     "name": "stdout",
     "output_type": "stream",
     "text": [
      "numerical gradient: [-15.72796791  16.77133312]\n",
      "analytical gradient [-15.72796948  16.77133135]\n"
     ]
    }
   ],
   "source": [
    "# gradient check for logistic loss\n",
    "B_0 = np.random.normal(size=L)\n",
    "print 'numerical gradient:', scipy.optimize.approx_fprime(B_0,fixed_logreg_loss,eps)\n",
    "print 'analytical gradient', fixed_logreg_loss_grad(B_0)"
   ]
  },
  {
   "cell_type": "code",
   "execution_count": 66,
   "metadata": {
    "collapsed": false,
    "scrolled": false
   },
   "outputs": [
    {
     "name": "stdout",
     "output_type": "stream",
     "text": [
      "B from sklearn [[ 0.56218273 -0.11117321]]\n"
     ]
    },
    {
     "data": {
      "text/plain": [
       "46.203814727638914"
      ]
     },
     "execution_count": 66,
     "metadata": {},
     "output_type": "execute_result"
    }
   ],
   "source": [
    "# run sklearn logistic regression\n",
    "fitter = sklearn.linear_model.LogisticRegression(C=150,fit_intercept=False)\n",
    "fit = fitter.fit(X_U,z)\n",
    "#print dir(fit)\n",
    "print 'B from sklearn', fit.coef_\n",
    "sklearn.metrics.log_loss(z,fit.predict_proba(X_U),normalize=False)"
   ]
  },
  {
   "cell_type": "code",
   "execution_count": 67,
   "metadata": {
    "collapsed": false
   },
   "outputs": [
    {
     "data": {
      "text/plain": [
       "   status: 0\n",
       "  success: True\n",
       "     njev: 10\n",
       "     nfev: 10\n",
       " hess_inv: array([[ 0.03416512, -0.00983913],\n",
       "       [-0.00983913,  0.06054928]])\n",
       "      fun: 46.2038144444355\n",
       "        x: array([ 0.56231802, -0.11125382])\n",
       "  message: 'Optimization terminated successfully.'\n",
       "      jac: array([  3.71943282e-06,   1.66814258e-06])"
      ]
     },
     "execution_count": 67,
     "metadata": {},
     "output_type": "execute_result"
    }
   ],
   "source": [
    "# run logistic regression\n",
    "#method='Nelder-Mead'\n",
    "#method='CG'\n",
    "#method='Newton-CG'\n",
    "method='BFGS'\n",
    "scipy.optimize.minimize(fixed_logreg_loss, B_0, jac=fixed_logreg_loss_grad, method=method)"
   ]
  },
  {
   "cell_type": "code",
   "execution_count": 68,
   "metadata": {
    "collapsed": false
   },
   "outputs": [
    {
     "name": "stdout",
     "output_type": "stream",
     "text": [
      "B from my logreg from file [ 0.56218273 -0.11117321]\n"
     ]
    }
   ],
   "source": [
    "# run logistic regression, function from file\n",
    "print 'B from my logreg from file', proj.logreg(X_U,z)"
   ]
  },
  {
   "cell_type": "markdown",
   "metadata": {},
   "source": [
    "# gradient check for U_ij\n",
    "#U_0 = np.random.normal(size=(D,K))\n",
    "U_0 = U\n",
    "print U_0.shape\n",
    "test_i = 2\n",
    "test_j = 1\n",
    "U_0_plus = copy.deepcopy(U_0)\n",
    "U_0_plus[test_i,test_j] += eps\n",
    "U_ij_to_K_grad = (ker.projected_K(X, U_0_plus) - ker.projected_K(X, U_0)) / eps\n",
    "print 'numerical gradient:'\n",
    "print U_ij_to_K_grad\n",
    "print 'analytical gradient:'\n",
    "print ker.U_i_j_to_projected_K_ks_l_grad(X, U_0, test_i, test_j)"
   ]
  },
  {
   "cell_type": "code",
   "execution_count": 69,
   "metadata": {
    "collapsed": true
   },
   "outputs": [],
   "source": [
    "# fix projected logreg function\n",
    "fixed_U_to_B_opt = functools.partial(proj.U_to_B_opt, X, z, ker)"
   ]
  },
  {
   "cell_type": "code",
   "execution_count": 70,
   "metadata": {
    "collapsed": false,
    "scrolled": false
   },
   "outputs": [
    {
     "name": "stdout",
     "output_type": "stream",
     "text": [
      "numerical gradient for U to B_opt:\n",
      "[[[-0.23036079 -0.00977279]\n",
      "  [ 0.05252474 -0.13608285]]\n",
      "\n",
      " [[ 0.17056718  0.29353943]\n",
      "  [-0.02913196 -0.14909494]]\n",
      "\n",
      " [[-0.18723931  0.48106418]\n",
      "  [ 0.03313424 -0.01805086]]]\n",
      "\n",
      "analytical gradient for U to B_opt:\n",
      "[[[-0.23041261 -0.00976182]\n",
      "  [ 0.05254549 -0.13614056]]\n",
      "\n",
      " [[ 0.17058705  0.29364558]\n",
      "  [-0.02912897 -0.14915256]]\n",
      "\n",
      " [[-0.187313    0.48126828]\n",
      "  [ 0.03314296 -0.01806021]]]\n"
     ]
    }
   ],
   "source": [
    "# gradient check for U_to_B_opt\n",
    "U_0 = U\n",
    "print 'numerical gradient for U to B_opt:'\n",
    "print nd.Jacobian(lambda U: fixed_U_to_B_opt(U.reshape((D,K))))(U_0.flatten()).T.reshape((D,K,L))[0:5,0:5,0:5]\n",
    "#print nd.Jacobian(lambda U: fixed_U_to_B_opt(U.reshape((D,K))))(U_0.flatten())#.T.reshape((D,N,N))\n",
    "print '\\nanalytical gradient for U to B_opt:'\n",
    "print proj.U_to_B_opt_grad(X, z, U_0, ker)[0:5,0:5,0:5]"
   ]
  },
  {
   "cell_type": "code",
   "execution_count": 14,
   "metadata": {
    "collapsed": true
   },
   "outputs": [],
   "source": [
    "# fix L functions\n",
    "theta_0 = np.random.uniform(size=K)\n",
    "theta_fixed_U_to_L = lambda U: proj.U_theta_to_L(r, X, y, z, U, theta_0)\n",
    "U_fixed_theta_to_L = lambda theta: proj.U_theta_to_L(r, X, y, z, U_0, theta)"
   ]
  },
  {
   "cell_type": "code",
   "execution_count": 37,
   "metadata": {
    "collapsed": false,
    "scrolled": false
   },
   "outputs": [
    {
     "name": "stdout",
     "output_type": "stream",
     "text": [
      "U: [[ 0.65648121]\n",
      " [-0.49077213]]\n",
      "theta: [ 0.76259639]\n",
      "L: 6584.58587837\n",
      "numerical gradient for U to L:\n",
      "[[-1003.47985952]\n",
      " [-2511.02016428]]\n",
      "\n",
      "analytical gradient for U to L:\n",
      "[[-1003.47985952]\n",
      " [-2511.02016428]]\n",
      "numerical gradient for theta to L:\n",
      "[[ 752.13185351]]\n",
      "\n",
      "analytical gradient for theta to L:\n",
      "[ 752.13185351]\n"
     ]
    }
   ],
   "source": [
    "# gradient check for L\n",
    "L, (U_to_L_grad, theta_to_L_grad) = proj.U_theta_to_L_with_grad(r, X, y, z, U_0, theta_0)\n",
    "print 'U:', U_0\n",
    "print 'theta:', theta_0\n",
    "print 'L:', L\n",
    "print 'numerical gradient for U to L:'\n",
    "print nd.Jacobian(lambda U: theta_fixed_U_to_L(U.reshape((D,K))))(U_0.flatten()).T.reshape((D,K))\n",
    "print '\\nanalytical gradient for U to L:'\n",
    "print U_to_L_grad\n",
    "#print proj.U_to_L_grad(r, X, y, theta_0, z, U_0)\n",
    "print 'numerical gradient for theta to L:'\n",
    "print nd.Jacobian(U_fixed_theta_to_L)(theta_0)\n",
    "print '\\nanalytical gradient for theta to L:'\n",
    "#print proj.theta_to_L_grad(r, X, y, U_0, z, theta_0)\n",
    "print theta_to_L_grad"
   ]
  },
  {
   "cell_type": "code",
   "execution_count": 27,
   "metadata": {
    "collapsed": false
   },
   "outputs": [
    {
     "data": {
      "text/plain": [
       "(500, 3)"
      ]
     },
     "execution_count": 27,
     "metadata": {},
     "output_type": "execute_result"
    },
    {
     "name": "stdout",
     "output_type": "stream",
     "text": [
      "\n"
     ]
    }
   ],
   "source": [
    "# now, add some noise dimensions to X\n",
    "noise_D = 3\n",
    "noise_X = np.concatenate((X,np.random.normal(size=(N,noise_D-D))),axis=1)\n",
    "noise_X.shape"
   ]
  },
  {
   "cell_type": "code",
   "execution_count": 28,
   "metadata": {
    "collapsed": true
   },
   "outputs": [],
   "source": [
    "# define desired projection size\n",
    "reduc_K = D"
   ]
  },
  {
   "cell_type": "code",
   "execution_count": 34,
   "metadata": {
    "collapsed": false
   },
   "outputs": [
    {
     "name": "stdout",
     "output_type": "stream",
     "text": [
      "initial U:\n",
      "[[ 1.  0.]\n",
      " [ 0.  1.]\n",
      " [ 0.  0.]]\n",
      "initial theta:\n",
      "[2 3]\n"
     ]
    }
   ],
   "source": [
    "# set initial U, theta for testing sufficient dimension reduction\n",
    "#noise_U = np.random.normal(size=(noise_D,reduc_K))\n",
    "noise_U = np.concatenate((np.eye(reduc_K), np.zeros((noise_D-reduc_K,reduc_K))), axis=0)\n",
    "#noise_theta = np.random.normal(size=reduc_K)\n",
    "noise_theta = B\n",
    "print 'initial U:'\n",
    "print noise_U\n",
    "print 'initial theta:'\n",
    "print noise_theta"
   ]
  },
  {
   "cell_type": "code",
   "execution_count": 35,
   "metadata": {
    "collapsed": false
   },
   "outputs": [],
   "source": [
    "# the things that don't change\n",
    "#manifold = pymanopt.manifolds.Stiefel(noise_D, reduc_K)\n",
    "manifold = pymanopt.manifolds.Grassmann(noise_D, reduc_K)\n",
    "solver = pymanopt.solvers.SteepestDescent(maxiter=25)\n",
    "#solver = pymanopt.solvers.NelderMead(maxiter=25)\n",
    "#solver = pymanopt.solvers.ParticleSwarm(maxiter=25)"
   ]
  },
  {
   "cell_type": "code",
   "execution_count": null,
   "metadata": {
    "collapsed": false,
    "scrolled": false
   },
   "outputs": [
    {
     "name": "stdout",
     "output_type": "stream",
     "text": [
      "error before theta: 20.4765425007\n",
      "inside calculated L: 20.4765425007\n",
      "[ 2.13775687  2.91881328]\n",
      "> <ipython-input-40-abba955c70b5>(10)<module>()\n",
      "-> print 'error before U:', error(noise_X,y,noise_U,noise_theta)\n",
      "(Pdb) c\n",
      "error before U: 20.4765425007\n",
      " iter\t\t   cost val\t    grad. norm\n",
      "inside calculated L: 20.4765425007\n",
      "    1\t+2.0476542500681781e+01\t6.23106015e+00\n",
      "inside calculated L: 3544.27564692\n",
      "inside calculated L: 1300.54354123\n",
      "inside calculated L: 384.279663346\n",
      "inside calculated L: 114.563219442\n",
      "inside calculated L: 44.0598935982\n",
      "inside calculated L: 26.2943728829\n",
      "inside calculated L: 21.8839233458\n",
      "inside calculated L: 20.8041966476\n",
      "inside calculated L: 20.5463014024\n",
      "inside calculated L: 20.4878989304\n",
      "inside calculated L: 20.4763393012\n",
      "inside calculated L: 20.4763393012\n",
      "    2\t+2.0476339301151334e+01\t5.81470960e+00\n",
      "inside calculated L: 20.4756470051\n",
      "inside calculated L: 20.4756470051\n",
      "    3\t+2.0475647005129915e+01\t4.09057583e+00\n",
      "inside calculated L: 20.4757042233\n",
      "inside calculated L: 20.4749690057\n",
      "inside calculated L: 20.4749690057\n",
      "    4\t+2.0474969005716115e+01\t8.44981445e-02\n",
      "inside calculated L: 26.8136505364\n",
      "inside calculated L: 22.0607351082\n",
      "inside calculated L: 20.8712360582\n",
      "inside calculated L: 20.5738832499\n",
      "inside calculated L: 20.4996147151\n",
      "inside calculated L: 20.4810882814\n",
      "inside calculated L: 20.4764776642\n",
      "inside calculated L: 20.4753355799\n",
      "inside calculated L: 20.4750553528\n",
      "inside calculated L: 20.4749879441\n",
      "inside calculated L: 20.4749724161\n",
      "inside calculated L: 20.4749691962\n",
      "inside calculated L: 20.4749687223\n",
      "inside calculated L: 20.4749687223\n",
      "    5\t+2.0474968722283936e+01\t1.21550580e-02\n",
      "inside calculated L: 20.4750212435\n",
      "inside calculated L: 20.4749815691\n",
      "inside calculated L: 20.4749717923\n",
      "inside calculated L: 20.4749694189\n",
      "inside calculated L: 20.474968861\n",
      "inside calculated L: 20.4749687393\n",
      "inside calculated L: 20.4749687177\n",
      "inside calculated L: 20.4749687177\n",
      "    6\t+2.0474968717668730e+01\t5.82148007e-03\n",
      "inside calculated L: 20.4749687612\n",
      "inside calculated L: 20.4749687239\n",
      "inside calculated L: 20.4749687169\n",
      "inside calculated L: 20.4749687169\n",
      "    7\t+2.0474968716929833e+01\t3.95745605e-03\n",
      "inside calculated L: 20.4749687174\n",
      "inside calculated L: 20.4749687163\n",
      "inside calculated L: 20.4749687163\n",
      "    8\t+2.0474968716312048e+01\t6.48626219e-04\n",
      "inside calculated L: 20.4749688034\n",
      "inside calculated L: 20.4749687375\n",
      "inside calculated L: 20.4749687213\n",
      "inside calculated L: 20.4749687174\n",
      "inside calculated L: 20.4749687165\n",
      "inside calculated L: 20.4749687163\n",
      "inside calculated L: 20.4749687163\n",
      "inside calculated L: 20.4749687163\n",
      "    9\t+2.0474968716295301e+01\t8.56454345e-05\n",
      "inside calculated L: 20.47496872\n",
      "inside calculated L: 20.4749687172\n",
      "inside calculated L: 20.4749687165\n",
      "inside calculated L: 20.4749687163\n",
      "inside calculated L: 20.4749687163\n",
      "inside calculated L: 20.4749687163\n",
      "inside calculated L: 20.4749687163\n",
      "inside calculated L: 20.4749687163\n",
      "   10\t+2.0474968716295173e+01\t6.51053286e-05\n",
      "inside calculated L: 20.4749687163\n",
      "inside calculated L: 20.4749687163\n",
      "   11\t+2.0474968716295038e+01\t3.18206274e-05\n",
      "inside calculated L: 20.4749687163\n",
      "inside calculated L: 20.4749687163\n",
      "inside calculated L: 20.4749687163\n",
      "inside calculated L: 20.4749687163\n",
      "   12\t+2.0474968716295017e+01\t2.05115738e-05\n",
      "inside calculated L: 20.4749687163\n",
      "inside calculated L: 20.4749687163\n",
      "inside calculated L: 20.4749687163\n",
      "   13\t+2.0474968716294995e+01\t5.12596813e-06\n",
      "inside calculated L: 20.4749687163\n",
      "inside calculated L: 20.4749687163\n",
      "inside calculated L: 20.4749687163\n",
      "inside calculated L: 20.4749687163\n",
      "inside calculated L: 20.4749687163\n",
      "inside calculated L: 20.4749687163\n",
      "   14\t+2.0474968716294992e+01\t7.69761808e-06\n",
      "inside calculated L: 20.4749687163\n",
      "inside calculated L: 20.4749687163\n",
      "inside calculated L: 20.4749687163\n",
      "inside calculated L: 20.4749687163\n",
      "   15\t+2.0474968716294992e+01\t2.00466250e-06\n",
      "inside calculated L: 20.4749687163\n",
      "inside calculated L: 20.4749687163\n",
      "inside calculated L: 20.4749687163\n",
      "inside calculated L: 20.4749687163\n",
      "inside calculated L: 20.4749687163\n",
      "inside calculated L: 20.4749687163\n",
      "inside calculated L: 20.4749687163\n",
      "inside calculated L: 20.4749687163\n",
      "inside calculated L: 20.4749687163\n",
      "inside calculated L: 20.4749687163\n",
      "inside calculated L: 20.4749687163\n",
      "inside calculated L: 20.4749687163\n",
      "inside calculated L: 20.4749687163\n",
      "inside calculated L: 20.4749687163\n",
      "inside calculated L: 20.4749687163\n",
      "inside calculated L: 20.4749687163\n",
      "inside calculated L: 20.4749687163\n",
      "inside calculated L: 20.4749687163\n",
      "inside calculated L: 20.4749687163\n",
      "inside calculated L: 20.4749687163\n",
      "inside calculated L: 20.4749687163\n",
      "inside calculated L: 20.4749687163\n",
      "inside calculated L: 20.4749687163\n",
      "inside calculated L: 20.4749687163\n",
      "inside calculated L: 20.4749687163\n",
      "inside calculated L: 20.4749687163\n",
      "Terminated - min stepsize reached after 15 iterations, 0.28 seconds.\n",
      "\n",
      "[[-0.22323551  0.84935271]\n",
      " [ 0.85920458  0.40319161]\n",
      " [ 0.46036224 -0.3406413 ]]\n",
      "> <ipython-input-40-abba955c70b5>(2)<module>()\n",
      "-> for i in xrange(5000):\n",
      "(Pdb) c\n",
      "error before theta: 20.4749687163\n",
      "inside calculated L: 20.4749687163\n",
      "inside calculated L: 22.1410498119\n",
      "inside calculated L: 20.4749669441\n",
      "inside calculated L: 20.4753407818\n",
      "inside calculated L: 20.4749669356\n",
      "> <ipython-input-40-abba955c70b5>(10)<module>()\n",
      "-> print 'error before U:', error(noise_X,y,noise_U,noise_theta)\n"
     ]
    }
   ],
   "source": [
    "# take some steps\n",
    "for i in xrange(5000):\n",
    "    print 'error before theta:', error(noise_X,y,noise_U,noise_theta)\n",
    "    theta_cost = lambda theta: proj.U_theta_to_L(r, noise_X, y, z, noise_U, theta)\n",
    "    theta_grad = lambda theta: proj.theta_to_L_grad_wrapper(r, noise_X, y, noise_U, z, theta)\n",
    "    method='BFGS'\n",
    "    noise_theta = scipy.optimize.minimize(theta_cost, noise_theta, jac=theta_grad, method=method, options={'maxiter':15})['x']\n",
    "    if i % 100 == 0: print noise_theta\n",
    "    pdb.set_trace()\n",
    "    print 'error before U:', error(noise_X,y,noise_U,noise_theta)\n",
    "    U_cost = lambda U: proj.U_theta_to_L(r, noise_X, y, z, U, noise_theta)\n",
    "    U_egrad = lambda U: proj.U_to_L_grad_wrapper(r, noise_X, y, noise_theta, z, U)\n",
    "    U_problem = pymanopt.Problem(manifold=manifold, cost=U_cost, egrad=U_egrad)\n",
    "    noise_U = solver.solve(U_problem, x=noise_U)\n",
    "    if i % 100 == 0: print noise_U\n",
    "    pdb.set_trace()"
   ]
  },
  {
   "cell_type": "code",
   "execution_count": null,
   "metadata": {
    "collapsed": true
   },
   "outputs": [],
   "source": [
    "# calculate error under found U, theta\n",
    "noise_U"
   ]
  },
  {
   "cell_type": "code",
   "execution_count": 17,
   "metadata": {
    "collapsed": false
   },
   "outputs": [
    {
     "name": "stdout",
     "output_type": "stream",
     "text": [
      "[[[1 2]\n",
      "  [3 4]]\n",
      "\n",
      " [[5 6]\n",
      "  [7 8]]]\n",
      "gg\n",
      "[[[1 2]\n",
      "  [3 4]]\n",
      "\n",
      " [[5 6]\n",
      "  [7 8]]]\n",
      "[1 2 3 4 5 6 7 8]\n",
      "<function a at 0x1152b08c0>\n"
     ]
    },
    {
     "data": {
      "text/plain": [
       "<function sklearn.metrics.pairwise.rbf_kernel>"
      ]
     },
     "execution_count": 17,
     "metadata": {},
     "output_type": "execute_result"
    }
   ],
   "source": [
    "a=np.array([[[1,2],[3,4]],[[5,6],[7,8]]])\n",
    "print a\n",
    "print 'gg'\n",
    "print a.flatten().reshape(a.shape)\n",
    "print a.ravel()\n",
    "a.reshape((2,-1),order='C').T\n",
    "\n",
    "def a():\n",
    "    return 5\n",
    "\n",
    "def b():\n",
    "    a=a()\n",
    "    \n",
    "print a\n",
    "import sklearn.metrics.pairwise\n",
    "sklearn.metrics.pairwise.rbf_kernel"
   ]
  }
 ],
 "metadata": {
  "kernelspec": {
   "display_name": "Python 2",
   "language": "python",
   "name": "python2"
  },
  "language_info": {
   "codemirror_mode": {
    "name": "ipython",
    "version": 2
   },
   "file_extension": ".py",
   "mimetype": "text/x-python",
   "name": "python",
   "nbconvert_exporter": "python",
   "pygments_lexer": "ipython2",
   "version": "2.7.6"
  }
 },
 "nbformat": 4,
 "nbformat_minor": 0
}
