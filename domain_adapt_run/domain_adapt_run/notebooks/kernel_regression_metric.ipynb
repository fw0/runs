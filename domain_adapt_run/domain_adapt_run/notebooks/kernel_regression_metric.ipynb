{
 "cells": [
  {
   "cell_type": "code",
   "execution_count": 154,
   "metadata": {
    "collapsed": false
   },
   "outputs": [],
   "source": [
    "import domain_adapt_run.domain_adapt_run.constants as constants\n",
    "cache_folder_name = 'kernel_regression_metric'\n",
    "seed = 42"
   ]
  },
  {
   "cell_type": "code",
   "execution_count": 155,
   "metadata": {
    "collapsed": false
   },
   "outputs": [
    {
     "name": "stdout",
     "output_type": "stream",
     "text": [
      "[Errno 17] File exists: '/Users/fultonw/Documents/projects/runs/domain_adapt_run/cache/kernel_regression_metric'\n",
      "The autoreload extension is already loaded. To reload it, use:\n",
      "  %reload_ext autoreload\n"
     ]
    }
   ],
   "source": [
    "import numpy as np\n",
    "np.random.seed(seed)\n",
    "import python_utils.python_utils.basic as basic\n",
    "import python_utils.python_utils.caching as caching\n",
    "log_folder = '%s/%s' % (constants.cache_folder, cache_folder_name)\n",
    "caching.init(constants.cache_folder, constants.which_hash, basic.archiver(log_folder))\n",
    "%load_ext autoreload\n",
    "%autoreload 2"
   ]
  },
  {
   "cell_type": "code",
   "execution_count": 156,
   "metadata": {
    "collapsed": false
   },
   "outputs": [],
   "source": [
    "import matplotlib.pyplot as plt\n",
    "import matplotlib\n",
    "from mpl_toolkits.mplot3d import Axes3D\n",
    "from IPython.display import display_pretty, display_html\n",
    "import python_utils.python_utils.basic as basic\n",
    "import pandas as pd\n",
    "import pdb\n",
    "import itertools\n",
    "import functools\n",
    "import scipy.stats\n",
    "import cvxopt\n",
    "import domain_adapt.domain_adapt.KR_metric as KR_metric"
   ]
  },
  {
   "cell_type": "markdown",
   "metadata": {},
   "source": [
    "* simulate data.  U is projection into useful subspace.  p_f_U() generates data in U.  V is projection into unuseful subspace (perpendicular to U).  p_f_V() generates data in V.  that is, x = U(x) + V(x), f(x) = f_U(x) + f_V(x), f_U(x) ~ p_f_U(U(x)), f_V(x) ~ p_f_V(V(x))"
   ]
  },
  {
   "cell_type": "code",
   "execution_count": 157,
   "metadata": {
    "collapsed": false
   },
   "outputs": [],
   "source": [
    "# define data\n",
    "U = np.array([\\\n",
    "              [1,0],\\\n",
    "              [0,1]\n",
    "             ])\n",
    "V = np.array([\\\n",
    "#              [0,1.,0],\\\n",
    "#              [0,0,1.],\\\n",
    "              [0,1],\\\n",
    "             ])\n",
    "x_dim = U.shape[1]\n",
    "p_f_U_sample = lambda u: np.linalg.norm(u,ord=2) + 0.\n",
    "#p_f_V_sample = lambda v: np.random.normal(loc=0.,scale=2.1,size=1)\n",
    "#p_f_V_sample = lambda v: np.sum(v/10.)\n",
    "p_f_V_sample = lambda v: 0\n",
    "p_f_x_sample = lambda x: p_f_U_sample(U.dot(x)) + p_f_V_sample(V.dot(x))\n",
    "p_X_sample = lambda: np.random.uniform(size=x_dim)"
   ]
  },
  {
   "cell_type": "code",
   "execution_count": 158,
   "metadata": {
    "collapsed": false
   },
   "outputs": [],
   "source": [
    "# generate data\n",
    "N = 50\n",
    "xs = np.array([p_X_sample() for i in xrange(N)])\n",
    "fs = np.array([p_f_x_sample(x) for x in xs])"
   ]
  },
  {
   "cell_type": "code",
   "execution_count": 159,
   "metadata": {
    "collapsed": false
   },
   "outputs": [],
   "source": [
    "# get color for each point\n",
    "colormap = plt.cm.get_cmap('Spectral')\n",
    "colors = colormap(fs)"
   ]
  },
  {
   "cell_type": "code",
   "execution_count": 160,
   "metadata": {
    "collapsed": false
   },
   "outputs": [
    {
     "data": {
      "image/png": "[encoded data removed]",
      "text/plain": [
       "<IPython.core.display.Image object>"
      ]
     },
     "metadata": {},
     "output_type": "display_data"
    }
   ],
   "source": [
    "# plot data in x\n",
    "try:\n",
    "    basic.scatter_3d(xs[:,0],xs[:,1],xs[:,2], colors=colors)\n",
    "except:\n",
    "    basic.scatter(xs[:,0],xs[:,1],colors=colors)"
   ]
  },
  {
   "cell_type": "code",
   "execution_count": 161,
   "metadata": {
    "collapsed": true
   },
   "outputs": [],
   "source": [
    "# define rank of distance metric\n",
    "D = 2"
   ]
  },
  {
   "cell_type": "code",
   "execution_count": 162,
   "metadata": {
    "collapsed": false
   },
   "outputs": [],
   "source": [
    "# define some utility functions for optimizing\n",
    "real_shape = (D,x_dim)\n",
    "mat_to_vec = lambda x: x.reshape(D*x_dim)\n",
    "vec_to_mat = lambda x:x.reshape((D,x_dim))\n",
    "mat_f = functools.partial(KR_metric.L,xs,fs)\n",
    "vec_f = lambda vec_A: mat_f(vec_A.reshape(real_shape))\n",
    "mat_f_grad = functools.partial(KR_metric.L_grad,xs,fs)\n",
    "vec_f_grad = lambda vec_A: mat_to_vec(mat_f_grad(vec_A.reshape(real_shape)))"
   ]
  },
  {
   "cell_type": "code",
   "execution_count": 163,
   "metadata": {
    "collapsed": false,
    "scrolled": false
   },
   "outputs": [
    {
     "name": "stdout",
     "output_type": "stream",
     "text": [
      "gradient check 3.0487027867e-07\n",
      "[ 0.67198662  1.43894847  1.05162062  1.42989246]\n",
      "[ 1.51584331  2.40458369  2.12896585  2.50304421]\n",
      "[ 1.76669576  2.63401057  2.46023295  2.75502888]\n",
      "[ 2.21925312  3.12050733  3.06285546  3.28170606]\n",
      "[ 2.55124771  3.52989834  3.51169286  3.71841421]\n",
      "[ 2.90670222  4.00191969  4.0004859   4.2155503 ]\n",
      "[ 3.27640939  4.51361825  4.51931272  4.74688155]\n",
      "[ 3.75969078  5.19461954  5.21201055  5.44358399]\n",
      "[ 4.65042129  6.45657082  6.51183849  6.71792092]\n",
      "[ 6.69294723  9.36071849  9.53144025  9.62261767]\n",
      "[  8.04613863  11.31288801  11.56745204  11.55052384]\n",
      "[ 21.91213899  31.49483292  32.56201244  31.39368202]\n",
      "[ 18.99228393  27.24914859  28.14567435  27.21615853]\n",
      "[ 16.97143005  24.3139486   25.09347564  24.32508048]\n",
      "[ 16.19537885  23.19673212  23.93172966  23.21759503]\n",
      "[ 16.27563021  23.32408345  24.06398124  23.33551084]\n",
      "[ 16.35313131  23.56219967  24.30939946  23.48262791]\n",
      "[  3.21555995  16.61047492  16.84487511   8.2061091 ]\n",
      "[  3.50881491  16.64084931  16.88513018   8.51076484]\n",
      "[ 2.10500225  8.49486226  8.57695142  4.72468906]\n",
      "[ 2.12015686  8.94359574  9.03276346  4.87053737]\n",
      "[ 1.82377228  8.65004565  8.72406232  4.4865685 ]\n",
      "[ 1.49102189  8.35534701  8.40900183  4.06635771]\n",
      "[ 1.54963942  8.45291024  8.49132123  4.15693504]\n",
      "[ 1.57124179  8.53241519  8.53358824  4.20839855]\n",
      "[ 1.57209561  8.98733024  8.61828559  4.40480249]\n",
      "[ 1.41940111  9.6038548   8.51938112  4.55083915]\n",
      "[  1.02792621  10.60448936   8.13888505   4.67909621]\n",
      "[  1.00117189  10.24374463   7.98567245   4.51137812]\n",
      "[ 0.78701599  9.72455389  7.52321779  4.13254756]\n",
      "[ 0.39486151  9.23910088  6.94382211  3.60855883]\n",
      "[ 0.40881338  9.41549592  7.07711408  3.68171332]\n",
      "[ 0.36712634  9.44760495  7.06220977  3.65678668]\n",
      "[ 0.3614586   9.44932173  7.05753541  3.65261885]\n",
      "Optimization terminated successfully.\n",
      "         Current function value: 0.087284\n",
      "         Iterations: 34\n",
      "         Function evaluations: 51\n",
      "         Gradient evaluations: 51\n",
      "fit_A\n",
      "[[ 0.3614586   9.44932173]\n",
      " [ 7.05753541  3.65261885]]\n",
      "K [[  1.00000000e+00   7.86081127e-06   2.56897125e-34   6.77782941e-04\n",
      "    4.53401213e-03]\n",
      " [  7.86081127e-06   1.00000000e+00   4.03334234e-23   3.40243526e-09\n",
      "    2.87091087e-01]\n",
      " [  2.56897125e-34   4.03334234e-23   1.00000000e+00   1.18931300e-21\n",
      "    7.70980205e-25]\n",
      " [  6.77782941e-04   3.40243526e-09   1.18931300e-21   1.00000000e+00\n",
      "    4.64912135e-06]\n",
      " [  4.53401213e-03   2.87091087e-01   7.70980205e-25   4.64912135e-06\n",
      "    1.00000000e+00]]\n",
      "eig of A'A\n",
      "(array([  36.96110429,  115.60965974]), array([[-0.913774  , -0.40622293],\n",
      "       [ 0.40622293, -0.913774  ]]))\n"
     ]
    }
   ],
   "source": [
    "# optimize\n",
    "def print_stuff(x):\n",
    "\n",
    "    print x\n",
    "    return x\n",
    "mat_A_0 = np.random.uniform(size=real_shape)\n",
    "vec_A_0 = mat_to_vec(mat_A_0)\n",
    "\n",
    "check = scipy.optimize.check_grad(vec_f, vec_f_grad, vec_A_0)\n",
    "\n",
    "numpy_grad = scipy.optimize.approx_fprime(vec_A_0, vec_f, .01)\n",
    "my_grad = vec_f_grad(vec_A_0)\n",
    "print 'gradient check', check\n",
    "#optimizer = scipy.optimize.fmin_bfgs\n",
    "#vec_solution = scipy.optimize.fmin(vec_f,vec_A_0,callback=print_stuff)\n",
    "vec_solution = scipy.optimize.fmin_bfgs(vec_f,vec_A_0,vec_f_grad,callback=print_stuff)\n",
    "fit_A = vec_to_mat(vec_solution)\n",
    "print 'fit_A\\n',fit_A\n",
    "print 'K', np.exp(log_K_f(fit_A,xs))[0:5,0:5]\n",
    "print 'eig of A\\'A\\n',np.linalg.eig(fit_A.T.dot(fit_A))"
   ]
  }
 ],
 "metadata": {
  "kernelspec": {
   "display_name": "Python 2",
   "language": "python",
   "name": "python2"
  }
 },
 "nbformat": 4,
 "nbformat_minor": 0
}
