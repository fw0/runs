{
 "cells": [
  {
   "cell_type": "code",
   "execution_count": 1,
   "metadata": {
    "collapsed": true
   },
   "outputs": [],
   "source": [
    "import domain_adapt_run.domain_adapt_run.constants as constants\n",
    "cache_folder_name = 'kernel_mean_matching_gradient'\n",
    "seed = 42"
   ]
  },
  {
   "cell_type": "code",
   "execution_count": 2,
   "metadata": {
    "collapsed": false
   },
   "outputs": [
    {
     "name": "stdout",
     "output_type": "stream",
     "text": [
      "[Errno 17] File exists: '/Users/fultonw/Documents/projects/runs/domain_adapt_run/cache/kernel_mean_matching_gradient'\n"
     ]
    }
   ],
   "source": [
    "import numpy as np\n",
    "np.random.seed(seed)\n",
    "import python_utils.python_utils.basic as basic\n",
    "import python_utils.python_utils.caching as caching\n",
    "log_folder = '%s/%s' % (constants.cache_folder, cache_folder_name)\n",
    "caching.init(constants.cache_folder, constants.which_hash, basic.archiver(log_folder))\n",
    "%load_ext autoreload\n",
    "%autoreload 2"
   ]
  },
  {
   "cell_type": "code",
   "execution_count": 3,
   "metadata": {
    "collapsed": true
   },
   "outputs": [],
   "source": [
    "import matplotlib.pyplot as plt\n",
    "import matplotlib\n",
    "from IPython.display import display_pretty, display_html\n",
    "import python_utils.python_utils.basic as basic\n",
    "import pandas as pd\n",
    "import pdb\n",
    "import itertools\n",
    "import functools\n",
    "import scipy.stats\n",
    "import cvxopt, autograd\n",
    "import domain_adapt.domain_adapt.kernels as kernels"
   ]
  },
  {
   "cell_type": "markdown",
   "metadata": {},
   "source": [
    "* define dimensionality of distributions\n",
    "* define 2 distributions - train and test.  have their pdf and sampling methods\n",
    "* set number of train and test samples to generate\n",
    "* define pairwise within and across train/test sample kernel distances, either directly via a function, or parameterize that function by the feature map\n",
    "* (below will be a fxn of projection matrix)\n",
    "* projection matrix\n",
    "* project train and test raw data to get u's\n",
    "* use that kernel distance function to populate K and kappa in the optimization problem\n",
    "* solve the optimization problem to get the B's\n",
    "* compare B(x) to p_test(u) / p_train(u).  maybe plot scatter plot of B(x) vs that ratio"
   ]
  },
  {
   "cell_type": "code",
   "execution_count": 4,
   "metadata": {
    "collapsed": true
   },
   "outputs": [],
   "source": [
    "# define dimensionality of distributions\n",
    "x_dim = 2\n",
    "u_dim = 1"
   ]
  },
  {
   "cell_type": "code",
   "execution_count": 5,
   "metadata": {
    "collapsed": false
   },
   "outputs": [],
   "source": [
    "# define train distribution\n",
    "train_dist = scipy.stats.multivariate_normal(mean=np.zeros(shape=x_dim))\n",
    "train_pdf = train_dist.pdf\n",
    "train_sample = train_dist.rvs"
   ]
  },
  {
   "cell_type": "code",
   "execution_count": 6,
   "metadata": {
    "collapsed": true
   },
   "outputs": [],
   "source": [
    "# define test distribution\n",
    "test_dist = scipy.stats.multivariate_normal(mean=np.zeros(shape=x_dim)+1.)\n",
    "test_pdf = test_dist.pdf\n",
    "test_sample = test_dist.rvs"
   ]
  },
  {
   "cell_type": "code",
   "execution_count": 7,
   "metadata": {
    "collapsed": true
   },
   "outputs": [],
   "source": [
    "# define number of samples to generate\n",
    "num_train = 10\n",
    "num_test = 15"
   ]
  },
  {
   "cell_type": "code",
   "execution_count": 8,
   "metadata": {
    "collapsed": false
   },
   "outputs": [
    {
     "name": "stdout",
     "output_type": "stream",
     "text": [
      "[[ 2.46564877  0.7742237 ]\n",
      " [ 1.0675282  -0.42474819]\n",
      " [ 0.45561728  1.11092259]\n",
      " [-0.15099358  1.37569802]\n",
      " [ 0.39936131  0.70830625]\n",
      " [ 0.39829339  2.85227818]\n",
      " [ 0.98650278 -0.05771093]\n",
      " [ 1.82254491 -0.22084365]\n",
      " [ 1.2088636  -0.95967012]\n",
      " [-0.32818605  1.19686124]\n",
      " [ 1.73846658  1.17136828]\n",
      " [ 0.88435172  0.6988963 ]\n",
      " [-0.47852199  0.28015579]\n",
      " [ 0.53936123  2.05712223]\n",
      " [ 1.34361829 -0.76304016]]\n"
     ]
    }
   ],
   "source": [
    "# generate the samples\n",
    "np.random.seed(42)\n",
    "xs_train = np.array([train_sample() for i in xrange(num_train)])\n",
    "if len(xs_train.shape) == 1:\n",
    "    xs_train = xs_train.reshape(len(xs_train),1)\n",
    "xs_test = np.array([test_sample() for i in xrange(num_test)])\n",
    "if len(xs_test.shape) == 1:\n",
    "    xs_test = xs_test.reshape(len(xs_test),1)\n",
    "print xs_test"
   ]
  },
  {
   "cell_type": "code",
   "execution_count": 9,
   "metadata": {
    "collapsed": false
   },
   "outputs": [],
   "source": [
    "# define kernel function\n",
    "sigma = 0.1\n",
    "get_K = functools.partial(kernels.get_gaussian_K, sigma)"
   ]
  },
  {
   "cell_type": "code",
   "execution_count": 10,
   "metadata": {
    "collapsed": true
   },
   "outputs": [],
   "source": [
    "# define hyperparameters\n",
    "B_max = 100\n",
    "eps = 0.1"
   ]
  },
  {
   "cell_type": "code",
   "execution_count": 11,
   "metadata": {
    "collapsed": false
   },
   "outputs": [],
   "source": [
    "# define projection matrix 1\n",
    "#P1 = kernels.ortho(np.random.normal(size=(x_dim, u_dim)))\n",
    "P1 = kernels.ortho(np.array([[1.,2.]]).T)\n",
    "assert P1.shape[0] == x_dim\n",
    "assert P1.shape[1] <= u_dim"
   ]
  },
  {
   "cell_type": "code",
   "execution_count": 12,
   "metadata": {
    "collapsed": false
   },
   "outputs": [],
   "source": [
    "# define projection matrix 2\n",
    "#delta_P_direction = kernels.ortho(np.random.normal(size=(x_dim, u_dim)))\n",
    "delta_P_direction = kernels.ortho(np.array([[1,0]]).T)\n",
    "delta_P_direction = delta_P_direction / np.linalg.norm(delta_P_direction)\n",
    "delta = 0.0001\n",
    "P2 = P1 + (delta_P_direction * delta)\n",
    "assert P2.shape[0] == x_dim\n",
    "assert P2.shape[1] <= u_dim"
   ]
  },
  {
   "cell_type": "code",
   "execution_count": 13,
   "metadata": {
    "collapsed": false
   },
   "outputs": [],
   "source": [
    "# define fxn from projection matrix to B's\n",
    "the_get_KMM_ws = functools.partial(kernels.get_KMM_ws, xs_train, xs_test, get_K, B_max, eps)"
   ]
  },
  {
   "cell_type": "code",
   "execution_count": 14,
   "metadata": {
    "collapsed": true
   },
   "outputs": [],
   "source": [
    "# fxn to plot results\n",
    "def plot_KMM_results(P, xs_train, xs_test, B):\n",
    "    \n",
    "    if verbose:\n",
    "        \n",
    "        # calculate true B's\n",
    "        test_projected_pdf = test_pdf # INCORRECT\n",
    "        train_projected_pdf = train_pdf\n",
    "        true_B = test_projected_pdf(train_us) / train_projected_pdf(train_us)\n",
    "        \n",
    "        # define plot constants\n",
    "        s = 2\n",
    "        max_lim = 10\n",
    "        \n",
    "        # plot \n",
    "        fig, ax = plt.subplots()\n",
    "        ax.scatter(train_us, true_B, s=s,color='red',label='true ratio')\n",
    "        ax.scatter(train_us, B,s=s,color='blue',label='estimated ratio')\n",
    "        #ax.set_xlim((-max_lim,max_lim/2))\n",
    "        ax.set_ylim((0,max_lim))\n",
    "        ax.set_xlabel('u')\n",
    "        ax.set_ylabel('ratio')\n",
    "        ax.legend()\n",
    "        basic.display_fig_inline(fig)\n",
    "        \n",
    "        # plot scatterplot\n",
    "        fig, ax = plt.subplots()\n",
    "        ax.scatter(true_B,B, s=s)\n",
    "        ax.set_xlabel('true')\n",
    "        ax.set_ylabel('predicted')\n",
    "        ax.set_xlim((0,max_lim))\n",
    "        ax.set_ylim((0,max_lim))\n",
    "        basic.display_fig_inline(fig)\n",
    "        \n",
    "    return B"
   ]
  },
  {
   "cell_type": "code",
   "execution_count": 15,
   "metadata": {
    "collapsed": false,
    "scrolled": false
   },
   "outputs": [
    {
     "name": "stdout",
     "output_type": "stream",
     "text": [
      "     pcost       dcost       gap    pres   dres\n",
      " 0:  1.4688e+02 -3.0369e+03  5e+04  6e-01  3e-14\n",
      " 1:  3.2594e+00 -1.1996e+03  1e+03  2e-16  3e-12\n",
      " 2:  3.1999e+00 -2.0612e+01  2e+01  2e-16  1e-13\n",
      " 3:  2.5557e+00 -5.9450e+00  9e+00  1e-16  3e-14\n",
      " 4:  9.6831e-01 -7.8799e+00  9e+00  2e-16  3e-14\n",
      " 5:  7.2325e-01  2.1319e-01  5e-01  3e-16  8e-15\n",
      " 6:  7.0509e-01  6.9243e-01  1e-02  2e-16  8e-15\n",
      " 7:  7.0500e-01  7.0486e-01  1e-04  1e-16  3e-14\n",
      " 8:  7.0500e-01  7.0500e-01  1e-06  2e-16  7e-14\n",
      " 9:  7.0500e-01  7.0500e-01  1e-08  1e-16  8e-14\n",
      "Optimal solution found.\n",
      "[ 1.87534847  1.08250116  1.04344811  0.83394479  0.85726605  0.72138579\n",
      "  0.3929636   0.7219596   1.06321594  0.4079665 ]\n",
      "     pcost       dcost       gap    pres   dres\n",
      " 0:  1.4690e+02 -3.0361e+03  5e+04  6e-01  2e-14\n",
      " 1:  3.2622e+00 -1.1996e+03  1e+03  2e-16  2e-12\n",
      " 2:  3.2028e+00 -2.0606e+01  2e+01  2e-16  5e-14\n",
      " 3:  2.5593e+00 -5.9443e+00  9e+00  2e-16  2e-14\n",
      " 4:  9.7118e-01 -7.8800e+00  9e+00  2e-16  2e-14\n",
      " 5:  7.2634e-01  2.1648e-01  5e-01  1e-16  3e-15\n",
      " 6:  7.0821e-01  6.9557e-01  1e-02  1e-16  2e-15\n",
      " 7:  7.0812e-01  7.0798e-01  1e-04  2e-16  4e-14\n",
      " 8:  7.0812e-01  7.0812e-01  1e-06  2e-16  3e-14\n",
      " 9:  7.0812e-01  7.0812e-01  1e-08  1e-16  7e-14\n",
      "Optimal solution found.\n",
      "[ 1.87550582  1.08190678  1.0433378   0.83384023  0.85672608  0.7217357\n",
      "  0.39326918  0.72232049  1.06302291  0.40833499]\n"
     ]
    },
    {
     "data": {
      "text/plain": [
       "array([ 1.57352313, -5.94382082, -1.10304408, -1.0455243 , -5.3996621 ,\n",
       "        3.49918155,  3.05582279,  3.60893293, -1.93025986,  3.68485076])"
      ]
     },
     "execution_count": 15,
     "metadata": {},
     "output_type": "execute_result"
    }
   ],
   "source": [
    "# calculate derivative of B's in direction delta_P at P\n",
    "B_P1 = the_get_KMM_ws(P1)\n",
    "B_P2 = the_get_KMM_ws(P2)\n",
    "deriv = (B_P2 - B_P1) / delta\n",
    "deriv"
   ]
  },
  {
   "cell_type": "code",
   "execution_count": 16,
   "metadata": {
    "collapsed": false
   },
   "outputs": [
    {
     "data": {
      "image/png": "[encoded data removed]",
      "text/plain": [
       "<IPython.core.display.Image object>"
      ]
     },
     "metadata": {},
     "output_type": "display_data"
    },
    {
     "data": {
      "text/plain": [
       "<matplotlib.figure.Figure at 0x10b0dd3d0>"
      ]
     },
     "execution_count": 16,
     "metadata": {},
     "output_type": "execute_result"
    }
   ],
   "source": [
    "# plot hist of deriv of B's\n",
    "fig, ax = plt.subplots()\n",
    "ax.hist(deriv, bins = 100, cumulative=True)\n",
    "basic.display_fig_inline(fig)"
   ]
  },
  {
   "cell_type": "code",
   "execution_count": 17,
   "metadata": {
    "collapsed": false
   },
   "outputs": [
    {
     "name": "stdout",
     "output_type": "stream",
     "text": [
      "smallest_weight 0.392963599479\n",
      "num tight: 1\n"
     ]
    }
   ],
   "source": [
    "# identify initially tight constraints\n",
    "print 'smallest_weight', np.min(B_P1)\n",
    "tight_eps = np.min(B_P1) + .001\n",
    "tight = (B_P1 < tight_eps) | (B_P1 > B_max - tight_eps)\n",
    "print 'num tight:', np.sum(tight)"
   ]
  },
  {
   "cell_type": "code",
   "execution_count": 18,
   "metadata": {
    "collapsed": false
   },
   "outputs": [
    {
     "data": {
      "image/png": "[encoded data removed]",
      "text/plain": [
       "<IPython.core.display.Image object>"
      ]
     },
     "metadata": {},
     "output_type": "display_data"
    },
    {
     "data": {
      "text/plain": [
       "<matplotlib.figure.Figure at 0x10df61490>"
      ]
     },
     "execution_count": 18,
     "metadata": {},
     "output_type": "execute_result"
    }
   ],
   "source": [
    "# plot hist of deriv of B's that were initially tight.  should all be 0\n",
    "fig, ax = plt.subplots()\n",
    "ax.hist(deriv[tight], bins = 100, cumulative=True)\n",
    "basic.display_fig_inline(fig)"
   ]
  },
  {
   "cell_type": "code",
   "execution_count": 19,
   "metadata": {
    "collapsed": false
   },
   "outputs": [],
   "source": [
    "# general stuff needed to calculate gradient\n",
    "\n",
    "def f(get_K, B, P):\n",
    "    \n",
    "    # create K, kappa, use them to return objective fxn value\n",
    "    \n",
    "    import autograd, autograd.numpy as np\n",
    "    \n",
    "    us_train = np.dot(xs_train, P)\n",
    "    us_test = np.dot(xs_test, P)\n",
    "    K, kappa = kernels.get_KMM_params(us_train, us_test, get_K)\n",
    "    \n",
    "    return np.dot(np.dot(B.T, K), B)/2. + np.dot(kappa, B)\n",
    "\n",
    "the_f = functools.partial(f, get_K)\n",
    "\n",
    "A, b = kernels.get_KMM_ineq_constraints(num_train, B_max, eps)"
   ]
  },
  {
   "cell_type": "code",
   "execution_count": 20,
   "metadata": {
    "collapsed": true
   },
   "outputs": [],
   "source": [
    "# define some solvers\n",
    "lstsq_solver = lambda A,b: np.linalg.lstsq(A, b)[0]\n",
    "cg_solver = lambda A,b: scipy.sparse.linalg.cg(A, b)[0]\n",
    "solver = lstsq_solver\n",
    "#solver = cg_solver"
   ]
  },
  {
   "cell_type": "code",
   "execution_count": 21,
   "metadata": {
    "collapsed": false
   },
   "outputs": [
    {
     "name": "stdout",
     "output_type": "stream",
     "text": [
      "     pcost       dcost       gap    pres   dres\n",
      " 0:  1.4688e+02 -3.0369e+03  5e+04  6e-01  3e-14\n",
      " 1:  3.2594e+00 -1.1996e+03  1e+03  2e-16  3e-12\n",
      " 2:  3.1999e+00 -2.0612e+01  2e+01  2e-16  1e-13\n",
      " 3:  2.5557e+00 -5.9450e+00  9e+00  1e-16  3e-14\n",
      " 4:  9.6831e-01 -7.8799e+00  9e+00  2e-16  3e-14\n",
      " 5:  7.2325e-01  2.1319e-01  5e-01  3e-16  8e-15\n",
      " 6:  7.0509e-01  6.9243e-01  1e-02  2e-16  8e-15\n",
      " 7:  7.0500e-01  7.0486e-01  1e-04  1e-16  3e-14\n",
      " 8:  7.0500e-01  7.0500e-01  1e-06  2e-16  7e-14\n",
      " 9:  7.0500e-01  7.0500e-01  1e-08  1e-16  8e-14\n",
      "Optimal solution found.\n",
      "[ 1.87534847  1.08250116  1.04344811  0.83394479  0.85726605  0.72138579\n",
      "  0.3929636   0.7219596   1.06321594  0.4079665 ]\n",
      "Q [[  1.00000000e+000   3.97741298e-053   2.01012289e-004   4.25998653e-037\n",
      "    2.09320793e-001   4.69615567e-012   1.34859811e-063   1.19331060e-041\n",
      "    2.58752451e-002   1.38841344e-068]\n",
      " [  3.97741298e-053   1.00000000e+000   1.16597083e-084   3.47308669e-002\n",
      "    7.10942126e-042   3.49392489e-113   8.61826081e-231   1.15117238e-186\n",
      "    5.93557016e-073   3.03212444e-240]\n",
      " [  2.01012289e-004   1.16597083e-084   1.00000000e+000   5.51787902e-064\n",
      "    2.85056345e-008   8.27208408e-003   8.38593413e-037   9.53891688e-021\n",
      "    3.63557510e-001   1.32581772e-040]\n",
      " [  4.25998653e-037   3.47308669e-002   5.51787902e-064   1.00000000e+000\n",
      "    7.77201555e-028   5.06785634e-089   1.32430773e-195   3.51979219e-155\n",
      "    7.03050818e-054   2.59209636e-204]\n",
      " [  2.09320793e-001   7.10942126e-042   2.85056345e-008   7.77201555e-028\n",
      "    1.00000000e+000   2.78572542e-018   2.40743622e-077   7.13602069e-053\n",
      "    4.54161345e-005   7.68613785e-083]\n",
      " [  4.69615567e-012   3.49392489e-113   8.27208408e-003   5.06785634e-089\n",
      "    2.78572542e-018   1.00000000e+000   1.50006073e-021   6.46745608e-010\n",
      "    3.67296595e-005   1.84244147e-024]\n",
      " [  1.34859811e-063   8.61826081e-231   8.38593413e-037   1.32430773e-195\n",
      "    2.40743622e-077   1.50006073e-021   1.00000000e+000   4.49945764e-003\n",
      "    3.31870847e-045   8.03210496e-001]\n",
      " [  1.19331060e-041   1.15117238e-186   9.53891688e-021   3.51979219e-155\n",
      "    7.13602069e-053   6.46745608e-010   4.49945764e-003   1.00000000e+000\n",
      "    4.05453083e-027   4.10006460e-004]\n",
      " [  2.58752451e-002   5.93557016e-073   3.63557510e-001   7.03050818e-054\n",
      "    4.54161345e-005   3.67296595e-005   3.31870847e-045   4.05453083e-027\n",
      "    1.00000000e+000   2.04597397e-049]\n",
      " [  1.38841344e-068   3.03212444e-240   1.32581772e-040   2.59209636e-204\n",
      "    7.68613785e-083   1.84244147e-024   8.03210496e-001   4.10006460e-004\n",
      "    2.04597397e-049   1.00000000e+000]]\n",
      "solver error: 1.83312286981e-14\n"
     ]
    },
    {
     "data": {
      "text/plain": [
       "array([ 1.57853197, -5.9478822 , -1.09534694, -1.04866549, -5.40050616,\n",
       "        3.4995515 ,  3.05552588,  3.61049977, -1.93490254,  3.6831942 ,\n",
       "       -3.74548334])"
      ]
     },
     "execution_count": 21,
     "metadata": {},
     "output_type": "execute_result"
    }
   ],
   "source": [
    "# file fxn deriv\n",
    "ws1 = kernels.get_KMM_ws(xs_train, xs_test, get_K, B_max, eps, P1)\n",
    "anal_deriv = kernels.get_dx_opt_delta_p(solver, the_f, A, b, ws1, P1, delta_P_direction)\n",
    "anal_deriv"
   ]
  },
  {
   "cell_type": "code",
   "execution_count": 22,
   "metadata": {
    "collapsed": false
   },
   "outputs": [
    {
     "ename": "AssertionError",
     "evalue": "",
     "output_type": "error",
     "traceback": [
      "\u001b[0;31m---------------------------------------------------------------------------\u001b[0m",
      "\u001b[0;31mAssertionError\u001b[0m                            Traceback (most recent call last)",
      "\u001b[0;32m<ipython-input-22-6e6df518a476>\u001b[0m in \u001b[0;36m<module>\u001b[0;34m()\u001b[0m\n\u001b[0;32m----> 1\u001b[0;31m \u001b[0;32massert\u001b[0m \u001b[0mFalse\u001b[0m\u001b[0;34m\u001b[0m\u001b[0m\n\u001b[0m",
      "\u001b[0;31mAssertionError\u001b[0m: "
     ]
    }
   ],
   "source": [
    "assert False"
   ]
  },
  {
   "cell_type": "code",
   "execution_count": null,
   "metadata": {
    "collapsed": false
   },
   "outputs": [],
   "source": [
    "\n",
    "df_dB = autograd.grad(the_f) # ans dim: |B|\n",
    "d_dP_df_dB = autograd.jacobian(lambda P,B: df_dB(B,P)) # ans dim: |B| x |P|\n",
    "\n",
    "def tight_constraints(B, num_train, B_max, eps):\n",
    "    G,h = kernels.get_KMM_ineq_constraints(num_train, B_max, eps)\n",
    "    LHS = np.dot(G,B)\n",
    "    assert (LHS < h).all()\n",
    "    tight_eps = 0.0001\n",
    "    tight = (h - LHS) < tight_eps\n",
    "    return G[tight], h[tight]"
   ]
  },
  {
   "cell_type": "code",
   "execution_count": null,
   "metadata": {
    "collapsed": false
   },
   "outputs": [],
   "source": [
    "# test f at B_P1 to see if cost matches that from solver\n",
    "the_f(B_P1, P1)"
   ]
  },
  {
   "cell_type": "code",
   "execution_count": null,
   "metadata": {
    "collapsed": false,
    "scrolled": false
   },
   "outputs": [],
   "source": [
    "# compute quantities needed to solve equation that gives gradient\n",
    "A_tight, b_tight = tight_constraints(B_P2, num_train, B_max, eps)\n",
    "num_tight = A_tight.shape[0]\n",
    "print 'num_tight:', num_tight\n",
    "print df_dB(B_P1, P1)\n",
    "print d_dP_df_dB(P1, B_P1)\n",
    "d_top = -np.sum(d_dP_df_dB(P1, B_P1) * (delta_P_direction[np.newaxis,:,:]), axis=(1,2))\n",
    "print 'd_top',d_top\n",
    "d_bottom = np.zeros(num_tight)\n",
    "d = np.hstack((d_top,d_bottom))\n",
    "Q_P1 = get_K(np.dot(xs_train, P1), np.dot(xs_train, P1))\n",
    "print 'Q', Q_P1\n",
    "C = np.vstack((np.hstack((Q_P1,-A_tight.T)), np.hstack((A_tight,np.zeros((num_tight,num_tight))))))\n",
    "C.shape\n",
    "anal_deriv = np.dot(np.linalg.inv(C),d)\n",
    "print 'solver error', np.linalg.norm(d - np.dot(C,anal_deriv))\n",
    "anal_deriv"
   ]
  },
  {
   "cell_type": "code",
   "execution_count": 23,
   "metadata": {
    "collapsed": false
   },
   "outputs": [
    {
     "name": "stdout",
     "output_type": "stream",
     "text": [
      "(10,) (11,)\n",
      "(1.5735231349078838, 1.5785319686345372)\n",
      "(-5.9438208154194427, -5.9478822027924112)\n",
      "(-1.1030440799397745, -1.095346938043043)\n",
      "(-1.0455243034401818, -1.0486654892396114)\n",
      "(-5.3996620957441621, -5.4005061577745668)\n",
      "(3.4991815468887744, 3.4995515042225351)\n",
      "(3.0558227859350806, 3.0555258830433178)\n",
      "(3.6089329280541982, 3.6104997673817598)\n",
      "(-1.9302598618131661, -1.93490253921543)\n",
      "(3.6848507603276515, 3.6831942037829268)\n"
     ]
    }
   ],
   "source": [
    "print deriv.shape, anal_deriv.shape\n",
    "#print deriv\n",
    "#print anal_deriv\n",
    "for x in zip(deriv,anal_deriv):\n",
    "    print x"
   ]
  }
 ],
 "metadata": {
  "kernelspec": {
   "display_name": "Python 2",
   "language": "python",
   "name": "python2"
  },
  "language_info": {
   "codemirror_mode": {
    "name": "ipython",
    "version": 2
   },
   "file_extension": ".py",
   "mimetype": "text/x-python",
   "name": "python",
   "nbconvert_exporter": "python",
   "pygments_lexer": "ipython2",
   "version": "2.7.6"
  }
 },
 "nbformat": 4,
 "nbformat_minor": 0
}
