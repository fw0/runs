{
 "cells": [
  {
   "cell_type": "code",
   "execution_count": 303,
   "metadata": {
    "collapsed": false
   },
   "outputs": [],
   "source": [
    "import sort_run.sort_run.constants as constants\n",
    "cache_folder_name = 'simulation_study'\n",
    "seed = 42"
   ]
  },
  {
   "cell_type": "code",
   "execution_count": null,
   "metadata": {
    "collapsed": false
   },
   "outputs": [
    {
     "name": "stdout",
     "output_type": "stream",
     "text": [
      "[Errno 17] File exists: '/Users/fultonw/Documents/projects/runs/sort_run/cache/simulation_study'\n",
      "The autoreload extension is already loaded. To reload it, use:\n",
      "  %reload_ext autoreload\n"
     ]
    }
   ],
   "source": [
    "import numpy as np\n",
    "np.random.seed(seed)\n",
    "import python_utils.python_utils.basic as basic\n",
    "import python_utils.python_utils.caching as caching\n",
    "log_folder = '%s/%s' % (constants.cache_folder, cache_folder_name)\n",
    "caching.init(constants.cache_folder, constants.which_hash, basic.archiver(log_folder))\n",
    "%load_ext autoreload\n",
    "%autoreload 2"
   ]
  },
  {
   "cell_type": "code",
   "execution_count": null,
   "metadata": {
    "collapsed": false
   },
   "outputs": [],
   "source": [
    "import matplotlib.pyplot as plt\n",
    "import matplotlib\n",
    "#plt.ion()\n",
    "from mpl_toolkits.mplot3d import Axes3D\n",
    "from IPython.display import display_pretty, display_html\n",
    "import python_utils.python_utils.basic as basic\n",
    "import pandas as pd\n",
    "import pdb\n",
    "import itertools\n",
    "import functools\n",
    "import scipy.stats\n",
    "import tensorflow as tf\n",
    "import sort.sort.fxns as fxns"
   ]
  },
  {
   "cell_type": "code",
   "execution_count": null,
   "metadata": {
    "collapsed": true
   },
   "outputs": [],
   "source": [
    "# reset, start session\n",
    "from tensorflow.python.framework import ops\n",
    "ops.reset_default_graph()\n",
    "sess = tf.Session()"
   ]
  },
  {
   "cell_type": "code",
   "execution_count": null,
   "metadata": {
    "collapsed": true
   },
   "outputs": [],
   "source": [
    "# define config\n",
    "config = fxns.config()"
   ]
  },
  {
   "cell_type": "code",
   "execution_count": null,
   "metadata": {
    "collapsed": true
   },
   "outputs": [],
   "source": [
    "# define number of batches\n",
    "num_batches = 10"
   ]
  },
  {
   "cell_type": "code",
   "execution_count": null,
   "metadata": {
    "collapsed": false
   },
   "outputs": [],
   "source": [
    "# generate xs_batches\n",
    "xs_batches = [[np.random.normal(size=(config.batch_size, config.x_dim)) for j in xrange(config.num_steps)] for i in xrange(num_batches)]"
   ]
  },
  {
   "cell_type": "code",
   "execution_count": null,
   "metadata": {
    "collapsed": false,
    "scrolled": false
   },
   "outputs": [],
   "source": [
    "# generate ys by initializing a model, plugging in xs batches to get ps\n",
    "model = fxns.basic_model(config)\n",
    "init = tf.initialize_all_variables()\n",
    "sess.run(init)\n",
    "scores_batches = [None for i in xrange(num_batches)]\n",
    "ps_batches = [None for i in xrange(num_batches)]\n",
    "ys_batches = [None for i in xrange(num_batches)]\n",
    "for (i, xs) in enumerate(xs_batches):\n",
    "    scores_batches[i], ps_batches[i], = sess.run([model.score, model.p], feed_dict = {model.input_ph[i]:xs[i] for i in xrange(config.num_steps)})\n",
    "    one_prob = (np.random.uniform(size=config.batch_size) < ps_batches[i][:,1]).astype(int)\n",
    "    ys_batches[i] = np.array([1-one_prob,one_prob]).T"
   ]
  },
  {
   "cell_type": "code",
   "execution_count": null,
   "metadata": {
    "collapsed": false
   },
   "outputs": [],
   "source": [
    "# run some training epochs\n",
    "num_epochs = 10\n",
    "data_iterator = zip(xs_batches, ys_batches)\n",
    "for j in xrange(num_epochs):\n",
    "    model.run_epoch(sess, data_iterator)"
   ]
  }
 ],
 "metadata": {
  "kernelspec": {
   "display_name": "Python 2",
   "language": "python",
   "name": "python2"
  },
  "language_info": {
   "codemirror_mode": {
    "name": "ipython",
    "version": 2
   },
   "file_extension": ".py",
   "mimetype": "text/x-python",
   "name": "python",
   "nbconvert_exporter": "python",
   "pygments_lexer": "ipython2",
   "version": "2.7.6"
  }
 },
 "nbformat": 4,
 "nbformat_minor": 0
}
